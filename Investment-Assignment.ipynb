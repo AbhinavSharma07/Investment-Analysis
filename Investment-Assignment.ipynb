{
 "cells": [
  {
   "cell_type": "markdown",
   "metadata": {},
   "source": [
    "# <font color='Green'>Problem Statement</font>"
   ]
  },
  {
   "cell_type": "markdown",
   "metadata": {},
   "source": [
    "**Spark Funds** is an asset management company. Spark Funds wants to make investments in a few companies. The CEO of Spark Funds wants to understand the global trends in investments so that she can take the investment decisions effectively."
   ]
  },
  {
   "cell_type": "markdown",
   "metadata": {},
   "source": [
    "# <font color='Green'>Business and Data Understanding:</font>"
   ]
  },
  {
   "cell_type": "markdown",
   "metadata": {},
   "source": [
    "Spark Funds has **two minor constraints** for investments:\n",
    "\n",
    "1. It wants to invest between **5 to 15 million USD** per round of investment\n",
    "2. It wants to invest only in **English-speaking countries** because of the ease of communication with the companies it would invest in"
   ]
  },
  {
   "cell_type": "markdown",
   "metadata": {},
   "source": [
    "# <font color='Green'>Business Objective:</font>"
   ]
  },
  {
   "cell_type": "markdown",
   "metadata": {},
   "source": [
    "(i) Identify *most suitable investment* type for making investments.<br>\n",
    "(ii) Best *English speaking countries* to invest in.<br>\n",
    "(iii) Identify *best sectors* within these countries and the most suitable funding type FT."
   ]
  },
  {
   "cell_type": "markdown",
   "metadata": {},
   "source": [
    "# <font color='Royalblue4'>Checkpoint 1: Data Cleaning</font>"
   ]
  },
  {
   "cell_type": "code",
   "execution_count": 1055,
   "metadata": {},
   "outputs": [],
   "source": [
    "#Supress Warnings\n",
    "import warnings\n",
    "warnings.filterwarnings('ignore')"
   ]
  },
  {
   "cell_type": "code",
   "execution_count": 1056,
   "metadata": {},
   "outputs": [
    {
     "data": {
      "text/html": [
       "<div>\n",
       "<style scoped>\n",
       "    .dataframe tbody tr th:only-of-type {\n",
       "        vertical-align: middle;\n",
       "    }\n",
       "\n",
       "    .dataframe tbody tr th {\n",
       "        vertical-align: top;\n",
       "    }\n",
       "\n",
       "    .dataframe thead th {\n",
       "        text-align: right;\n",
       "    }\n",
       "</style>\n",
       "<table border=\"1\" class=\"dataframe\">\n",
       "  <thead>\n",
       "    <tr style=\"text-align: right;\">\n",
       "      <th></th>\n",
       "      <th>permalink</th>\n",
       "      <th>name</th>\n",
       "      <th>homepage_url</th>\n",
       "      <th>category_list</th>\n",
       "      <th>status</th>\n",
       "      <th>country_code</th>\n",
       "      <th>state_code</th>\n",
       "      <th>region</th>\n",
       "      <th>city</th>\n",
       "      <th>founded_at</th>\n",
       "    </tr>\n",
       "  </thead>\n",
       "  <tbody>\n",
       "    <tr>\n",
       "      <td>0</td>\n",
       "      <td>/organization/-fame</td>\n",
       "      <td>#fame</td>\n",
       "      <td>http://livfame.com</td>\n",
       "      <td>Media</td>\n",
       "      <td>operating</td>\n",
       "      <td>IND</td>\n",
       "      <td>16</td>\n",
       "      <td>Mumbai</td>\n",
       "      <td>Mumbai</td>\n",
       "      <td>NaN</td>\n",
       "    </tr>\n",
       "    <tr>\n",
       "      <td>1</td>\n",
       "      <td>/organization/-qounter</td>\n",
       "      <td>:qounter</td>\n",
       "      <td>http://www.qounter.com</td>\n",
       "      <td>Application Platforms|Real Time|Social Network...</td>\n",
       "      <td>operating</td>\n",
       "      <td>USA</td>\n",
       "      <td>DE</td>\n",
       "      <td>DE - Other</td>\n",
       "      <td>Delaware City</td>\n",
       "      <td>04-09-2014</td>\n",
       "    </tr>\n",
       "    <tr>\n",
       "      <td>2</td>\n",
       "      <td>/organization/-the-one-of-them-inc-</td>\n",
       "      <td>(the) one of them,inc.</td>\n",
       "      <td>http://oneofthem.jp</td>\n",
       "      <td>Apps|Games|Mobile</td>\n",
       "      <td>operating</td>\n",
       "      <td>NaN</td>\n",
       "      <td>NaN</td>\n",
       "      <td>NaN</td>\n",
       "      <td>NaN</td>\n",
       "      <td>NaN</td>\n",
       "    </tr>\n",
       "    <tr>\n",
       "      <td>3</td>\n",
       "      <td>/organization/0-6-com</td>\n",
       "      <td>0-6.com</td>\n",
       "      <td>http://www.0-6.com</td>\n",
       "      <td>Curated Web</td>\n",
       "      <td>operating</td>\n",
       "      <td>CHN</td>\n",
       "      <td>22</td>\n",
       "      <td>Beijing</td>\n",
       "      <td>Beijing</td>\n",
       "      <td>01-01-2007</td>\n",
       "    </tr>\n",
       "    <tr>\n",
       "      <td>4</td>\n",
       "      <td>/organization/004-technologies</td>\n",
       "      <td>004 technologies</td>\n",
       "      <td>http://004gmbh.de/en/004-interact</td>\n",
       "      <td>Software</td>\n",
       "      <td>operating</td>\n",
       "      <td>USA</td>\n",
       "      <td>IL</td>\n",
       "      <td>Springfield, Illinois</td>\n",
       "      <td>Champaign</td>\n",
       "      <td>01-01-2010</td>\n",
       "    </tr>\n",
       "  </tbody>\n",
       "</table>\n",
       "</div>"
      ],
      "text/plain": [
       "                             permalink                    name  \\\n",
       "0                  /organization/-fame                   #fame   \n",
       "1               /organization/-qounter                :qounter   \n",
       "2  /organization/-the-one-of-them-inc-  (the) one of them,inc.   \n",
       "3                /organization/0-6-com                 0-6.com   \n",
       "4       /organization/004-technologies        004 technologies   \n",
       "\n",
       "                        homepage_url  \\\n",
       "0                 http://livfame.com   \n",
       "1             http://www.qounter.com   \n",
       "2                http://oneofthem.jp   \n",
       "3                 http://www.0-6.com   \n",
       "4  http://004gmbh.de/en/004-interact   \n",
       "\n",
       "                                       category_list     status country_code  \\\n",
       "0                                              Media  operating          IND   \n",
       "1  Application Platforms|Real Time|Social Network...  operating          USA   \n",
       "2                                  Apps|Games|Mobile  operating          NaN   \n",
       "3                                        Curated Web  operating          CHN   \n",
       "4                                           Software  operating          USA   \n",
       "\n",
       "  state_code                 region           city  founded_at  \n",
       "0         16                 Mumbai         Mumbai         NaN  \n",
       "1         DE             DE - Other  Delaware City  04-09-2014  \n",
       "2        NaN                    NaN            NaN         NaN  \n",
       "3         22                Beijing        Beijing  01-01-2007  \n",
       "4         IL  Springfield, Illinois      Champaign  01-01-2010  "
      ]
     },
     "execution_count": 1056,
     "metadata": {},
     "output_type": "execute_result"
    }
   ],
   "source": [
    "#import python packages namely numpy and pandas\n",
    "import numpy as np\n",
    "import pandas as pd\n",
    "\n",
    "#Loading 'companies.txt' into dataframe - companies\n",
    "#file path variable for loading 'companies.txt'\n",
    "file_path_companies = r\"C:\\Users\\Chaitanya\\Desktop\\UpGrad\\2. Statistics Essentials\\4. Assignment\\companies.txt\"\n",
    "\n",
    "# Using encoding \"ISO-8859-1\" along with the correct separator to read the file 'companies.txt'\n",
    "companies = pd.read_csv(file_path_companies, sep=\"\\t\", encoding = 'ISO-8859-1')\n",
    "\n",
    "#Making sure that permalink and name columns are proper encoded and decoded into ascii and all lowercase()\n",
    "companies['permalink'] = companies['permalink'].str.encode('ISO-8859-1').str.decode('ascii','ignore').str.lower()\n",
    "companies['name'] = companies['name'].str.encode('ISO-8859-1').str.decode('ascii','ignore').str.lower()\n",
    "\n",
    "#Display head(default 5 observations)\n",
    "companies.head()"
   ]
  },
  {
   "cell_type": "code",
   "execution_count": 1057,
   "metadata": {},
   "outputs": [
    {
     "name": "stdout",
     "output_type": "stream",
     "text": [
      "<class 'pandas.core.frame.DataFrame'>\n",
      "RangeIndex: 66368 entries, 0 to 66367\n",
      "Data columns (total 10 columns):\n",
      "permalink        66368 non-null object\n",
      "name             66367 non-null object\n",
      "homepage_url     61310 non-null object\n",
      "category_list    63220 non-null object\n",
      "status           66368 non-null object\n",
      "country_code     59410 non-null object\n",
      "state_code       57821 non-null object\n",
      "region           58338 non-null object\n",
      "city             58340 non-null object\n",
      "founded_at       51147 non-null object\n",
      "dtypes: object(10)\n",
      "memory usage: 5.1+ MB\n"
     ]
    }
   ],
   "source": [
    "companies.info()"
   ]
  },
  {
   "cell_type": "code",
   "execution_count": 1058,
   "metadata": {},
   "outputs": [
    {
     "data": {
      "text/plain": [
       "(66368, 10)"
      ]
     },
     "execution_count": 1058,
     "metadata": {},
     "output_type": "execute_result"
    }
   ],
   "source": [
    "companies.shape"
   ]
  },
  {
   "cell_type": "code",
   "execution_count": 1059,
   "metadata": {},
   "outputs": [
    {
     "data": {
      "text/plain": [
       "False"
      ]
     },
     "execution_count": 1059,
     "metadata": {},
     "output_type": "execute_result"
    }
   ],
   "source": [
    "#Check for any null values in 'permalink' column within the companies file\n",
    "companies['permalink'].isnull().any()"
   ]
  },
  {
   "cell_type": "code",
   "execution_count": 1060,
   "metadata": {},
   "outputs": [
    {
     "name": "stdout",
     "output_type": "stream",
     "text": [
      "Number of unique companies present in companies dataframe: 66368\n"
     ]
    }
   ],
   "source": [
    "#permalink is the Unique ID of company in companies frame. permalink doesn't have any null values. \n",
    "#Determining the total unique companies present in companies.\n",
    "\n",
    "uniq_compID_companies_val = companies['permalink'].nunique()\n",
    "print(\"Number of unique companies present in companies dataframe:\",uniq_compID_companies_val)"
   ]
  },
  {
   "cell_type": "markdown",
   "metadata": {},
   "source": [
    "**In the companies dataframe, which column can be used as the unique key for each company? Write the name of the column.**<br>\n",
    "Solution: **permalink** can be used as the unique key for each company as it represent the unique ID of company"
   ]
  },
  {
   "cell_type": "code",
   "execution_count": 1061,
   "metadata": {},
   "outputs": [
    {
     "data": {
      "text/html": [
       "<div>\n",
       "<style scoped>\n",
       "    .dataframe tbody tr th:only-of-type {\n",
       "        vertical-align: middle;\n",
       "    }\n",
       "\n",
       "    .dataframe tbody tr th {\n",
       "        vertical-align: top;\n",
       "    }\n",
       "\n",
       "    .dataframe thead th {\n",
       "        text-align: right;\n",
       "    }\n",
       "</style>\n",
       "<table border=\"1\" class=\"dataframe\">\n",
       "  <thead>\n",
       "    <tr style=\"text-align: right;\">\n",
       "      <th></th>\n",
       "      <th>company_permalink</th>\n",
       "      <th>funding_round_permalink</th>\n",
       "      <th>funding_round_type</th>\n",
       "      <th>funding_round_code</th>\n",
       "      <th>funded_at</th>\n",
       "      <th>raised_amount_usd</th>\n",
       "    </tr>\n",
       "  </thead>\n",
       "  <tbody>\n",
       "    <tr>\n",
       "      <td>0</td>\n",
       "      <td>/organization/-fame</td>\n",
       "      <td>/funding-round/9a01d05418af9f794eebff7ace91f638</td>\n",
       "      <td>venture</td>\n",
       "      <td>B</td>\n",
       "      <td>05-01-2015</td>\n",
       "      <td>10000000.000</td>\n",
       "    </tr>\n",
       "    <tr>\n",
       "      <td>1</td>\n",
       "      <td>/organization/-qounter</td>\n",
       "      <td>/funding-round/22dacff496eb7acb2b901dec1dfe5633</td>\n",
       "      <td>venture</td>\n",
       "      <td>A</td>\n",
       "      <td>14-10-2014</td>\n",
       "      <td>nan</td>\n",
       "    </tr>\n",
       "    <tr>\n",
       "      <td>2</td>\n",
       "      <td>/organization/-qounter</td>\n",
       "      <td>/funding-round/b44fbb94153f6cdef13083530bb48030</td>\n",
       "      <td>seed</td>\n",
       "      <td>NaN</td>\n",
       "      <td>01-03-2014</td>\n",
       "      <td>700000.000</td>\n",
       "    </tr>\n",
       "    <tr>\n",
       "      <td>3</td>\n",
       "      <td>/organization/-the-one-of-them-inc-</td>\n",
       "      <td>/funding-round/650b8f704416801069bb178a1418776b</td>\n",
       "      <td>venture</td>\n",
       "      <td>B</td>\n",
       "      <td>30-01-2014</td>\n",
       "      <td>3406878.000</td>\n",
       "    </tr>\n",
       "    <tr>\n",
       "      <td>4</td>\n",
       "      <td>/organization/0-6-com</td>\n",
       "      <td>/funding-round/5727accaeaa57461bd22a9bdd945382d</td>\n",
       "      <td>venture</td>\n",
       "      <td>A</td>\n",
       "      <td>19-03-2008</td>\n",
       "      <td>2000000.000</td>\n",
       "    </tr>\n",
       "  </tbody>\n",
       "</table>\n",
       "</div>"
      ],
      "text/plain": [
       "                     company_permalink  \\\n",
       "0                  /organization/-fame   \n",
       "1               /organization/-qounter   \n",
       "2               /organization/-qounter   \n",
       "3  /organization/-the-one-of-them-inc-   \n",
       "4                /organization/0-6-com   \n",
       "\n",
       "                           funding_round_permalink funding_round_type  \\\n",
       "0  /funding-round/9a01d05418af9f794eebff7ace91f638            venture   \n",
       "1  /funding-round/22dacff496eb7acb2b901dec1dfe5633            venture   \n",
       "2  /funding-round/b44fbb94153f6cdef13083530bb48030               seed   \n",
       "3  /funding-round/650b8f704416801069bb178a1418776b            venture   \n",
       "4  /funding-round/5727accaeaa57461bd22a9bdd945382d            venture   \n",
       "\n",
       "  funding_round_code   funded_at  raised_amount_usd  \n",
       "0                  B  05-01-2015       10000000.000  \n",
       "1                  A  14-10-2014                nan  \n",
       "2                NaN  01-03-2014         700000.000  \n",
       "3                  B  30-01-2014        3406878.000  \n",
       "4                  A  19-03-2008        2000000.000  "
      ]
     },
     "execution_count": 1061,
     "metadata": {},
     "output_type": "execute_result"
    }
   ],
   "source": [
    "#Loading data from 'rounds2 file'\n",
    "##file path variable for 'rounds2.csv'\n",
    "file_path_rounds2 = r\"C:\\Users\\Chaitanya\\Desktop\\UpGrad\\2. Statistics Essentials\\4. Assignment\\rounds2.csv\"\n",
    "# Using encoding \"ISO-8859-1\" to read the file 'rounds2.csv'\n",
    "rounds2 = pd.read_csv(file_path_rounds2, encoding = 'ISO-8859-1')\n",
    "\n",
    "#Making sure that company_permalink column is proper encoded and decoded to ascii and all lowercase()\n",
    "rounds2['company_permalink']=rounds2['company_permalink'].str.encode('ISO-8859-1').str.decode('ascii','ignore').str.lower()\n",
    "\n",
    "#Display head(default 5 observations)\n",
    "rounds2.head()"
   ]
  },
  {
   "cell_type": "code",
   "execution_count": 1062,
   "metadata": {},
   "outputs": [
    {
     "data": {
      "text/plain": [
       "(114949, 6)"
      ]
     },
     "execution_count": 1062,
     "metadata": {},
     "output_type": "execute_result"
    }
   ],
   "source": [
    "rounds2.shape"
   ]
  },
  {
   "cell_type": "code",
   "execution_count": 1063,
   "metadata": {},
   "outputs": [
    {
     "name": "stdout",
     "output_type": "stream",
     "text": [
      "<class 'pandas.core.frame.DataFrame'>\n",
      "RangeIndex: 114949 entries, 0 to 114948\n",
      "Data columns (total 6 columns):\n",
      "company_permalink          114949 non-null object\n",
      "funding_round_permalink    114949 non-null object\n",
      "funding_round_type         114949 non-null object\n",
      "funding_round_code         31140 non-null object\n",
      "funded_at                  114949 non-null object\n",
      "raised_amount_usd          94959 non-null float64\n",
      "dtypes: float64(1), object(5)\n",
      "memory usage: 5.3+ MB\n"
     ]
    }
   ],
   "source": [
    "rounds2.info()"
   ]
  },
  {
   "cell_type": "code",
   "execution_count": 1064,
   "metadata": {},
   "outputs": [
    {
     "data": {
      "text/plain": [
       "False"
      ]
     },
     "execution_count": 1064,
     "metadata": {},
     "output_type": "execute_result"
    }
   ],
   "source": [
    "#Check for null values in'company_permalink' column of rounds2 dataframe (True: Null present, False: Null absent)\n",
    "rounds2['company_permalink'].isnull().any()"
   ]
  },
  {
   "cell_type": "code",
   "execution_count": 1065,
   "metadata": {},
   "outputs": [
    {
     "name": "stdout",
     "output_type": "stream",
     "text": [
      "Number of unique companies present in rounds2 dataframe: 66368\n"
     ]
    }
   ],
   "source": [
    "#company_permalink is the Unique ID of company in the rounds2 frame. The company_permalink doesn't have any null values.\n",
    "#Determining the number of unique companies within rounds2 frame\n",
    "uniq_compID_rounds2_val = rounds2['company_permalink'].nunique()\n",
    "print('Number of unique companies present in rounds2 dataframe:',uniq_compID_rounds2_val)"
   ]
  },
  {
   "cell_type": "code",
   "execution_count": 1066,
   "metadata": {},
   "outputs": [
    {
     "name": "stdout",
     "output_type": "stream",
     "text": [
      "Set of companies in the rounds2 file which are not present in companies dataframe:\n",
      "set()\n"
     ]
    }
   ],
   "source": [
    "#Finding all the companies that are in the rounds2 file which are not present in companies\n",
    "\n",
    "#Creating dataframes for unique company IDs in companies and rounds2 dataframes\n",
    "companies_ID_df = pd.DataFrame(companies['permalink'].unique())\n",
    "rounds2_ID_df = pd.DataFrame(rounds2['company_permalink'].unique())\n",
    "\n",
    "#Converting into sets for unique values\n",
    "set_compID_companies = set(companies_ID_df)\n",
    "set_compID_rounds2 = set(rounds2_ID_df)\n",
    "\n",
    "#Since the data types of the unique IDs of companies in both the dataframes is same, we can now compare them\n",
    "print('Set of companies in the rounds2 file which are not present in companies dataframe:')\n",
    "print(set_compID_rounds2.difference(set_compID_rounds2))"
   ]
  },
  {
   "cell_type": "markdown",
   "metadata": {},
   "source": [
    "**Are there any companies in the rounds2 file which are not present in companies? Answer yes or no: Y/N**<br>\n",
    "Solution: **N**<br>"
   ]
  },
  {
   "cell_type": "code",
   "execution_count": 1067,
   "metadata": {},
   "outputs": [
    {
     "data": {
      "text/html": [
       "<div>\n",
       "<style scoped>\n",
       "    .dataframe tbody tr th:only-of-type {\n",
       "        vertical-align: middle;\n",
       "    }\n",
       "\n",
       "    .dataframe tbody tr th {\n",
       "        vertical-align: top;\n",
       "    }\n",
       "\n",
       "    .dataframe thead th {\n",
       "        text-align: right;\n",
       "    }\n",
       "</style>\n",
       "<table border=\"1\" class=\"dataframe\">\n",
       "  <thead>\n",
       "    <tr style=\"text-align: right;\">\n",
       "      <th></th>\n",
       "      <th>company_permalink</th>\n",
       "      <th>funding_round_permalink</th>\n",
       "      <th>funding_round_type</th>\n",
       "      <th>funding_round_code</th>\n",
       "      <th>funded_at</th>\n",
       "      <th>raised_amount_usd</th>\n",
       "      <th>permalink</th>\n",
       "      <th>name</th>\n",
       "      <th>homepage_url</th>\n",
       "      <th>category_list</th>\n",
       "      <th>status</th>\n",
       "      <th>country_code</th>\n",
       "      <th>state_code</th>\n",
       "      <th>region</th>\n",
       "      <th>city</th>\n",
       "      <th>founded_at</th>\n",
       "    </tr>\n",
       "  </thead>\n",
       "  <tbody>\n",
       "    <tr>\n",
       "      <td>0</td>\n",
       "      <td>/organization/-fame</td>\n",
       "      <td>/funding-round/9a01d05418af9f794eebff7ace91f638</td>\n",
       "      <td>venture</td>\n",
       "      <td>B</td>\n",
       "      <td>05-01-2015</td>\n",
       "      <td>10000000.000</td>\n",
       "      <td>/organization/-fame</td>\n",
       "      <td>#fame</td>\n",
       "      <td>http://livfame.com</td>\n",
       "      <td>Media</td>\n",
       "      <td>operating</td>\n",
       "      <td>IND</td>\n",
       "      <td>16</td>\n",
       "      <td>Mumbai</td>\n",
       "      <td>Mumbai</td>\n",
       "      <td>NaN</td>\n",
       "    </tr>\n",
       "    <tr>\n",
       "      <td>1</td>\n",
       "      <td>/organization/-qounter</td>\n",
       "      <td>/funding-round/22dacff496eb7acb2b901dec1dfe5633</td>\n",
       "      <td>venture</td>\n",
       "      <td>A</td>\n",
       "      <td>14-10-2014</td>\n",
       "      <td>nan</td>\n",
       "      <td>/organization/-qounter</td>\n",
       "      <td>:qounter</td>\n",
       "      <td>http://www.qounter.com</td>\n",
       "      <td>Application Platforms|Real Time|Social Network...</td>\n",
       "      <td>operating</td>\n",
       "      <td>USA</td>\n",
       "      <td>DE</td>\n",
       "      <td>DE - Other</td>\n",
       "      <td>Delaware City</td>\n",
       "      <td>04-09-2014</td>\n",
       "    </tr>\n",
       "    <tr>\n",
       "      <td>2</td>\n",
       "      <td>/organization/-qounter</td>\n",
       "      <td>/funding-round/b44fbb94153f6cdef13083530bb48030</td>\n",
       "      <td>seed</td>\n",
       "      <td>NaN</td>\n",
       "      <td>01-03-2014</td>\n",
       "      <td>700000.000</td>\n",
       "      <td>/organization/-qounter</td>\n",
       "      <td>:qounter</td>\n",
       "      <td>http://www.qounter.com</td>\n",
       "      <td>Application Platforms|Real Time|Social Network...</td>\n",
       "      <td>operating</td>\n",
       "      <td>USA</td>\n",
       "      <td>DE</td>\n",
       "      <td>DE - Other</td>\n",
       "      <td>Delaware City</td>\n",
       "      <td>04-09-2014</td>\n",
       "    </tr>\n",
       "    <tr>\n",
       "      <td>3</td>\n",
       "      <td>/organization/-the-one-of-them-inc-</td>\n",
       "      <td>/funding-round/650b8f704416801069bb178a1418776b</td>\n",
       "      <td>venture</td>\n",
       "      <td>B</td>\n",
       "      <td>30-01-2014</td>\n",
       "      <td>3406878.000</td>\n",
       "      <td>/organization/-the-one-of-them-inc-</td>\n",
       "      <td>(the) one of them,inc.</td>\n",
       "      <td>http://oneofthem.jp</td>\n",
       "      <td>Apps|Games|Mobile</td>\n",
       "      <td>operating</td>\n",
       "      <td>NaN</td>\n",
       "      <td>NaN</td>\n",
       "      <td>NaN</td>\n",
       "      <td>NaN</td>\n",
       "      <td>NaN</td>\n",
       "    </tr>\n",
       "    <tr>\n",
       "      <td>4</td>\n",
       "      <td>/organization/0-6-com</td>\n",
       "      <td>/funding-round/5727accaeaa57461bd22a9bdd945382d</td>\n",
       "      <td>venture</td>\n",
       "      <td>A</td>\n",
       "      <td>19-03-2008</td>\n",
       "      <td>2000000.000</td>\n",
       "      <td>/organization/0-6-com</td>\n",
       "      <td>0-6.com</td>\n",
       "      <td>http://www.0-6.com</td>\n",
       "      <td>Curated Web</td>\n",
       "      <td>operating</td>\n",
       "      <td>CHN</td>\n",
       "      <td>22</td>\n",
       "      <td>Beijing</td>\n",
       "      <td>Beijing</td>\n",
       "      <td>01-01-2007</td>\n",
       "    </tr>\n",
       "  </tbody>\n",
       "</table>\n",
       "</div>"
      ],
      "text/plain": [
       "                     company_permalink  \\\n",
       "0                  /organization/-fame   \n",
       "1               /organization/-qounter   \n",
       "2               /organization/-qounter   \n",
       "3  /organization/-the-one-of-them-inc-   \n",
       "4                /organization/0-6-com   \n",
       "\n",
       "                           funding_round_permalink funding_round_type  \\\n",
       "0  /funding-round/9a01d05418af9f794eebff7ace91f638            venture   \n",
       "1  /funding-round/22dacff496eb7acb2b901dec1dfe5633            venture   \n",
       "2  /funding-round/b44fbb94153f6cdef13083530bb48030               seed   \n",
       "3  /funding-round/650b8f704416801069bb178a1418776b            venture   \n",
       "4  /funding-round/5727accaeaa57461bd22a9bdd945382d            venture   \n",
       "\n",
       "  funding_round_code   funded_at  raised_amount_usd  \\\n",
       "0                  B  05-01-2015       10000000.000   \n",
       "1                  A  14-10-2014                nan   \n",
       "2                NaN  01-03-2014         700000.000   \n",
       "3                  B  30-01-2014        3406878.000   \n",
       "4                  A  19-03-2008        2000000.000   \n",
       "\n",
       "                             permalink                    name  \\\n",
       "0                  /organization/-fame                   #fame   \n",
       "1               /organization/-qounter                :qounter   \n",
       "2               /organization/-qounter                :qounter   \n",
       "3  /organization/-the-one-of-them-inc-  (the) one of them,inc.   \n",
       "4                /organization/0-6-com                 0-6.com   \n",
       "\n",
       "             homepage_url                                      category_list  \\\n",
       "0      http://livfame.com                                              Media   \n",
       "1  http://www.qounter.com  Application Platforms|Real Time|Social Network...   \n",
       "2  http://www.qounter.com  Application Platforms|Real Time|Social Network...   \n",
       "3     http://oneofthem.jp                                  Apps|Games|Mobile   \n",
       "4      http://www.0-6.com                                        Curated Web   \n",
       "\n",
       "      status country_code state_code      region           city  founded_at  \n",
       "0  operating          IND         16      Mumbai         Mumbai         NaN  \n",
       "1  operating          USA         DE  DE - Other  Delaware City  04-09-2014  \n",
       "2  operating          USA         DE  DE - Other  Delaware City  04-09-2014  \n",
       "3  operating          NaN        NaN         NaN            NaN         NaN  \n",
       "4  operating          CHN         22     Beijing        Beijing  01-01-2007  "
      ]
     },
     "execution_count": 1067,
     "metadata": {},
     "output_type": "execute_result"
    }
   ],
   "source": [
    "#Creating the 'master_frame'\n",
    "#Merging two dataframes such that the variable columns of companies frame are added to the rounds2 frame\n",
    "\n",
    "master_frame = pd.merge(rounds2, companies, left_on= 'company_permalink', right_on= 'permalink', how= 'inner')\n",
    "master_frame.head()"
   ]
  },
  {
   "cell_type": "code",
   "execution_count": 1068,
   "metadata": {},
   "outputs": [
    {
     "name": "stdout",
     "output_type": "stream",
     "text": [
      "<class 'pandas.core.frame.DataFrame'>\n",
      "Int64Index: 114949 entries, 0 to 114948\n",
      "Data columns (total 16 columns):\n",
      "company_permalink          114949 non-null object\n",
      "funding_round_permalink    114949 non-null object\n",
      "funding_round_type         114949 non-null object\n",
      "funding_round_code         31140 non-null object\n",
      "funded_at                  114949 non-null object\n",
      "raised_amount_usd          94959 non-null float64\n",
      "permalink                  114949 non-null object\n",
      "name                       114948 non-null object\n",
      "homepage_url               108815 non-null object\n",
      "category_list              111539 non-null object\n",
      "status                     114949 non-null object\n",
      "country_code               106271 non-null object\n",
      "state_code                 104003 non-null object\n",
      "region                     104782 non-null object\n",
      "city                       104785 non-null object\n",
      "founded_at                 94428 non-null object\n",
      "dtypes: float64(1), object(15)\n",
      "memory usage: 14.9+ MB\n"
     ]
    }
   ],
   "source": [
    "master_frame.info()"
   ]
  },
  {
   "cell_type": "code",
   "execution_count": 1069,
   "metadata": {},
   "outputs": [
    {
     "data": {
      "text/plain": [
       "(114949, 16)"
      ]
     },
     "execution_count": 1069,
     "metadata": {},
     "output_type": "execute_result"
    }
   ],
   "source": [
    "master_frame.shape"
   ]
  },
  {
   "cell_type": "code",
   "execution_count": 1070,
   "metadata": {},
   "outputs": [
    {
     "name": "stdout",
     "output_type": "stream",
     "text": [
      "Total number of observations in the master_frame:\n"
     ]
    },
    {
     "data": {
      "text/plain": [
       "114949"
      ]
     },
     "execution_count": 1070,
     "metadata": {},
     "output_type": "execute_result"
    }
   ],
   "source": [
    "# Total number of observations in the master_frame\n",
    "print('Total number of observations in the master_frame:')\n",
    "master_frame.shape[0]"
   ]
  },
  {
   "cell_type": "markdown",
   "metadata": {},
   "source": [
    "**Merge the two data frames so that all variables (columns) in the companies frame are added to the rounds2 data frame. Name the merged frame <br>master_frame. How many observations are present in master_frame?<br>**\n",
    "Solution: **114949** observations are present in master_frame"
   ]
  },
  {
   "cell_type": "code",
   "execution_count": 1071,
   "metadata": {},
   "outputs": [],
   "source": [
    "#Using str.encode() and str.decode() for remaining columns so as to have correct values in the columns of master_frame\n",
    "\n",
    "master_frame['funding_round_type'] = master_frame['funding_round_type'].str.encode('ISO-8859-1').str.decode('ascii','ignore').str.lower()\n",
    "master_frame['funding_round_permalink'] = master_frame['funding_round_permalink'].str.encode('ISO-8859-1').str.decode('ascii','ignore').str.lower()\n",
    "master_frame['category_list'] = master_frame['category_list'].str.encode('ISO-8859-1').str.decode('ascii','ignore').str.lower()\n",
    "\n",
    "#Retaining uppercase for country_code\n",
    "master_frame['country_code'] = master_frame['country_code'].str.encode('ISO-8859-1').str.decode('ascii','ignore').str.upper()"
   ]
  },
  {
   "cell_type": "code",
   "execution_count": 1072,
   "metadata": {},
   "outputs": [
    {
     "data": {
      "text/plain": [
       "company_permalink              0\n",
       "funding_round_permalink        0\n",
       "funding_round_type             0\n",
       "funding_round_code         83809\n",
       "funded_at                      0\n",
       "raised_amount_usd          19990\n",
       "permalink                      0\n",
       "name                           1\n",
       "homepage_url                6134\n",
       "category_list               3410\n",
       "status                         0\n",
       "country_code                8678\n",
       "state_code                 10946\n",
       "region                     10167\n",
       "city                       10164\n",
       "founded_at                 20521\n",
       "dtype: int64"
      ]
     },
     "execution_count": 1072,
     "metadata": {},
     "output_type": "execute_result"
    }
   ],
   "source": [
    "#Data Cleaning:\n",
    "\n",
    "#Sum of all the null values in the columns of master_frame\n",
    "master_frame.isnull().sum()"
   ]
  },
  {
   "cell_type": "code",
   "execution_count": 1073,
   "metadata": {
    "scrolled": true
   },
   "outputs": [
    {
     "data": {
      "text/plain": [
       "company_permalink          0.000\n",
       "funding_round_permalink    0.000\n",
       "funding_round_type         0.000\n",
       "funding_round_code        72.910\n",
       "funded_at                  0.000\n",
       "raised_amount_usd         17.390\n",
       "permalink                  0.000\n",
       "name                       0.000\n",
       "homepage_url               5.340\n",
       "category_list              2.970\n",
       "status                     0.000\n",
       "country_code               7.550\n",
       "state_code                 9.520\n",
       "region                     8.840\n",
       "city                       8.840\n",
       "founded_at                17.850\n",
       "dtype: float64"
      ]
     },
     "execution_count": 1073,
     "metadata": {},
     "output_type": "execute_result"
    }
   ],
   "source": [
    "#Checking percentage of null values in columns\n",
    "round((100*(master_frame.isnull().sum())/len(master_frame.index)),2)"
   ]
  },
  {
   "cell_type": "markdown",
   "metadata": {},
   "source": [
    "**Treating the missing values and dropping unnecessary/redundant columns**\n",
    "1. Deleting 'permalink' as it is same as the unique ID of company i.e. 'company_permalink'. Also, all other columns are merged, in accordance to these values making 'permalink' redundant. Hence, can be dropped.\n",
    "2. The 'funding_round_code' column has around 72.91% of missing values and is not necessary for our analysis. Hence, can be dropped.\n",
    "3. The column 'raised_amount_usd' also has 17.39% of NaN values but we do need this column to drive our business decisions. So, it is retained.\n",
    "4. Dropping some other columns like 'status', 'funded_at', 'homepage_url','state_code','region','city'and 'founded_at' as they aren't useful to drive our business decisions. Note that 'status', state_code','city' and 'region' would have been helpful, in case our goals required decisions based out of these finer details within the countries but since we are explicitly considering the decisions on the basis of countries, these columns can be dropped.\n",
    "5. Retaining the column 'funding_round_permalink' because it is the unique ID of funding round.\n",
    "6. The columns 'country_code' and 'category_list' have 7.55% and 2.97% of NaN values respectively. But we cannot drop them as they are essential for the data analysis."
   ]
  },
  {
   "cell_type": "code",
   "execution_count": 1074,
   "metadata": {},
   "outputs": [
    {
     "data": {
      "text/html": [
       "<div>\n",
       "<style scoped>\n",
       "    .dataframe tbody tr th:only-of-type {\n",
       "        vertical-align: middle;\n",
       "    }\n",
       "\n",
       "    .dataframe tbody tr th {\n",
       "        vertical-align: top;\n",
       "    }\n",
       "\n",
       "    .dataframe thead th {\n",
       "        text-align: right;\n",
       "    }\n",
       "</style>\n",
       "<table border=\"1\" class=\"dataframe\">\n",
       "  <thead>\n",
       "    <tr style=\"text-align: right;\">\n",
       "      <th></th>\n",
       "      <th>company_permalink</th>\n",
       "      <th>funding_round_permalink</th>\n",
       "      <th>funding_round_type</th>\n",
       "      <th>raised_amount_usd</th>\n",
       "      <th>name</th>\n",
       "      <th>category_list</th>\n",
       "      <th>country_code</th>\n",
       "    </tr>\n",
       "  </thead>\n",
       "  <tbody>\n",
       "    <tr>\n",
       "      <td>0</td>\n",
       "      <td>/organization/-fame</td>\n",
       "      <td>/funding-round/9a01d05418af9f794eebff7ace91f638</td>\n",
       "      <td>venture</td>\n",
       "      <td>10000000.000</td>\n",
       "      <td>#fame</td>\n",
       "      <td>media</td>\n",
       "      <td>IND</td>\n",
       "    </tr>\n",
       "    <tr>\n",
       "      <td>1</td>\n",
       "      <td>/organization/-qounter</td>\n",
       "      <td>/funding-round/22dacff496eb7acb2b901dec1dfe5633</td>\n",
       "      <td>venture</td>\n",
       "      <td>nan</td>\n",
       "      <td>:qounter</td>\n",
       "      <td>application platforms|real time|social network...</td>\n",
       "      <td>USA</td>\n",
       "    </tr>\n",
       "    <tr>\n",
       "      <td>2</td>\n",
       "      <td>/organization/-qounter</td>\n",
       "      <td>/funding-round/b44fbb94153f6cdef13083530bb48030</td>\n",
       "      <td>seed</td>\n",
       "      <td>700000.000</td>\n",
       "      <td>:qounter</td>\n",
       "      <td>application platforms|real time|social network...</td>\n",
       "      <td>USA</td>\n",
       "    </tr>\n",
       "    <tr>\n",
       "      <td>3</td>\n",
       "      <td>/organization/-the-one-of-them-inc-</td>\n",
       "      <td>/funding-round/650b8f704416801069bb178a1418776b</td>\n",
       "      <td>venture</td>\n",
       "      <td>3406878.000</td>\n",
       "      <td>(the) one of them,inc.</td>\n",
       "      <td>apps|games|mobile</td>\n",
       "      <td>NaN</td>\n",
       "    </tr>\n",
       "    <tr>\n",
       "      <td>4</td>\n",
       "      <td>/organization/0-6-com</td>\n",
       "      <td>/funding-round/5727accaeaa57461bd22a9bdd945382d</td>\n",
       "      <td>venture</td>\n",
       "      <td>2000000.000</td>\n",
       "      <td>0-6.com</td>\n",
       "      <td>curated web</td>\n",
       "      <td>CHN</td>\n",
       "    </tr>\n",
       "  </tbody>\n",
       "</table>\n",
       "</div>"
      ],
      "text/plain": [
       "                     company_permalink  \\\n",
       "0                  /organization/-fame   \n",
       "1               /organization/-qounter   \n",
       "2               /organization/-qounter   \n",
       "3  /organization/-the-one-of-them-inc-   \n",
       "4                /organization/0-6-com   \n",
       "\n",
       "                           funding_round_permalink funding_round_type  \\\n",
       "0  /funding-round/9a01d05418af9f794eebff7ace91f638            venture   \n",
       "1  /funding-round/22dacff496eb7acb2b901dec1dfe5633            venture   \n",
       "2  /funding-round/b44fbb94153f6cdef13083530bb48030               seed   \n",
       "3  /funding-round/650b8f704416801069bb178a1418776b            venture   \n",
       "4  /funding-round/5727accaeaa57461bd22a9bdd945382d            venture   \n",
       "\n",
       "   raised_amount_usd                    name  \\\n",
       "0       10000000.000                   #fame   \n",
       "1                nan                :qounter   \n",
       "2         700000.000                :qounter   \n",
       "3        3406878.000  (the) one of them,inc.   \n",
       "4        2000000.000                 0-6.com   \n",
       "\n",
       "                                       category_list country_code  \n",
       "0                                              media          IND  \n",
       "1  application platforms|real time|social network...          USA  \n",
       "2  application platforms|real time|social network...          USA  \n",
       "3                                  apps|games|mobile          NaN  \n",
       "4                                        curated web          CHN  "
      ]
     },
     "execution_count": 1074,
     "metadata": {},
     "output_type": "execute_result"
    }
   ],
   "source": [
    "#Dropping the columns with large number of missing values and also, the unnecssary ones to drive correct business decisions\n",
    "master_frame = master_frame.drop(['permalink','status', 'funding_round_code',\\\n",
    "                                  'funded_at','homepage_url','state_code','region','city','founded_at'], axis=1)\n",
    "master_frame.head()"
   ]
  },
  {
   "cell_type": "code",
   "execution_count": 1075,
   "metadata": {},
   "outputs": [
    {
     "name": "stdout",
     "output_type": "stream",
     "text": [
      "<class 'pandas.core.frame.DataFrame'>\n",
      "Int64Index: 114949 entries, 0 to 114948\n",
      "Data columns (total 7 columns):\n",
      "company_permalink          114949 non-null object\n",
      "funding_round_permalink    114949 non-null object\n",
      "funding_round_type         114949 non-null object\n",
      "raised_amount_usd          94959 non-null float64\n",
      "name                       114948 non-null object\n",
      "category_list              111539 non-null object\n",
      "country_code               106271 non-null object\n",
      "dtypes: float64(1), object(6)\n",
      "memory usage: 7.0+ MB\n"
     ]
    }
   ],
   "source": [
    "master_frame.info()"
   ]
  },
  {
   "cell_type": "code",
   "execution_count": 1076,
   "metadata": {},
   "outputs": [
    {
     "data": {
      "text/html": [
       "<div>\n",
       "<style scoped>\n",
       "    .dataframe tbody tr th:only-of-type {\n",
       "        vertical-align: middle;\n",
       "    }\n",
       "\n",
       "    .dataframe tbody tr th {\n",
       "        vertical-align: top;\n",
       "    }\n",
       "\n",
       "    .dataframe thead th {\n",
       "        text-align: right;\n",
       "    }\n",
       "</style>\n",
       "<table border=\"1\" class=\"dataframe\">\n",
       "  <thead>\n",
       "    <tr style=\"text-align: right;\">\n",
       "      <th></th>\n",
       "      <th>company_permalink</th>\n",
       "      <th>funding_round_permalink</th>\n",
       "      <th>funding_round_type</th>\n",
       "      <th>raised_amount_usd</th>\n",
       "      <th>name</th>\n",
       "      <th>category_list</th>\n",
       "      <th>country_code</th>\n",
       "    </tr>\n",
       "  </thead>\n",
       "  <tbody>\n",
       "    <tr>\n",
       "      <td>0</td>\n",
       "      <td>/organization/-fame</td>\n",
       "      <td>/funding-round/9a01d05418af9f794eebff7ace91f638</td>\n",
       "      <td>venture</td>\n",
       "      <td>10000000.000</td>\n",
       "      <td>#fame</td>\n",
       "      <td>media</td>\n",
       "      <td>IND</td>\n",
       "    </tr>\n",
       "    <tr>\n",
       "      <td>1</td>\n",
       "      <td>/organization/-qounter</td>\n",
       "      <td>/funding-round/22dacff496eb7acb2b901dec1dfe5633</td>\n",
       "      <td>venture</td>\n",
       "      <td>nan</td>\n",
       "      <td>:qounter</td>\n",
       "      <td>application platforms|real time|social network...</td>\n",
       "      <td>USA</td>\n",
       "    </tr>\n",
       "    <tr>\n",
       "      <td>2</td>\n",
       "      <td>/organization/-qounter</td>\n",
       "      <td>/funding-round/b44fbb94153f6cdef13083530bb48030</td>\n",
       "      <td>seed</td>\n",
       "      <td>700000.000</td>\n",
       "      <td>:qounter</td>\n",
       "      <td>application platforms|real time|social network...</td>\n",
       "      <td>USA</td>\n",
       "    </tr>\n",
       "    <tr>\n",
       "      <td>3</td>\n",
       "      <td>/organization/-the-one-of-them-inc-</td>\n",
       "      <td>/funding-round/650b8f704416801069bb178a1418776b</td>\n",
       "      <td>venture</td>\n",
       "      <td>3406878.000</td>\n",
       "      <td>(the) one of them,inc.</td>\n",
       "      <td>apps|games|mobile</td>\n",
       "      <td>NaN</td>\n",
       "    </tr>\n",
       "    <tr>\n",
       "      <td>4</td>\n",
       "      <td>/organization/0-6-com</td>\n",
       "      <td>/funding-round/5727accaeaa57461bd22a9bdd945382d</td>\n",
       "      <td>venture</td>\n",
       "      <td>2000000.000</td>\n",
       "      <td>0-6.com</td>\n",
       "      <td>curated web</td>\n",
       "      <td>CHN</td>\n",
       "    </tr>\n",
       "  </tbody>\n",
       "</table>\n",
       "</div>"
      ],
      "text/plain": [
       "                     company_permalink  \\\n",
       "0                  /organization/-fame   \n",
       "1               /organization/-qounter   \n",
       "2               /organization/-qounter   \n",
       "3  /organization/-the-one-of-them-inc-   \n",
       "4                /organization/0-6-com   \n",
       "\n",
       "                           funding_round_permalink funding_round_type  \\\n",
       "0  /funding-round/9a01d05418af9f794eebff7ace91f638            venture   \n",
       "1  /funding-round/22dacff496eb7acb2b901dec1dfe5633            venture   \n",
       "2  /funding-round/b44fbb94153f6cdef13083530bb48030               seed   \n",
       "3  /funding-round/650b8f704416801069bb178a1418776b            venture   \n",
       "4  /funding-round/5727accaeaa57461bd22a9bdd945382d            venture   \n",
       "\n",
       "   raised_amount_usd                    name  \\\n",
       "0       10000000.000                   #fame   \n",
       "1                nan                :qounter   \n",
       "2         700000.000                :qounter   \n",
       "3        3406878.000  (the) one of them,inc.   \n",
       "4        2000000.000                 0-6.com   \n",
       "\n",
       "                                       category_list country_code  \n",
       "0                                              media          IND  \n",
       "1  application platforms|real time|social network...          USA  \n",
       "2  application platforms|real time|social network...          USA  \n",
       "3                                  apps|games|mobile          NaN  \n",
       "4                                        curated web          CHN  "
      ]
     },
     "execution_count": 1076,
     "metadata": {},
     "output_type": "execute_result"
    }
   ],
   "source": [
    "#master_frame with the relevant data that will help us get insights and drive business decisions\n",
    "#Display head(5 observations)\n",
    "master_frame.head()"
   ]
  },
  {
   "cell_type": "code",
   "execution_count": 1077,
   "metadata": {},
   "outputs": [
    {
     "data": {
      "text/plain": [
       "company_permalink          0.000\n",
       "funding_round_permalink    0.000\n",
       "funding_round_type         0.000\n",
       "raised_amount_usd         17.390\n",
       "name                       0.000\n",
       "category_list              2.970\n",
       "country_code               7.550\n",
       "dtype: float64"
      ]
     },
     "execution_count": 1077,
     "metadata": {},
     "output_type": "execute_result"
    }
   ],
   "source": [
    "#Rechecking percentage of null values in master_frame columns\n",
    "round(100*(master_frame.isnull().sum())/len(master_frame.index),2)"
   ]
  },
  {
   "cell_type": "code",
   "execution_count": 1078,
   "metadata": {},
   "outputs": [
    {
     "data": {
      "text/html": [
       "<div>\n",
       "<style scoped>\n",
       "    .dataframe tbody tr th:only-of-type {\n",
       "        vertical-align: middle;\n",
       "    }\n",
       "\n",
       "    .dataframe tbody tr th {\n",
       "        vertical-align: top;\n",
       "    }\n",
       "\n",
       "    .dataframe thead th {\n",
       "        text-align: right;\n",
       "    }\n",
       "</style>\n",
       "<table border=\"1\" class=\"dataframe\">\n",
       "  <thead>\n",
       "    <tr style=\"text-align: right;\">\n",
       "      <th></th>\n",
       "      <th>company_permalink</th>\n",
       "      <th>funding_round_permalink</th>\n",
       "      <th>funding_round_type</th>\n",
       "      <th>raised_amount_usd</th>\n",
       "      <th>name</th>\n",
       "      <th>category_list</th>\n",
       "      <th>country_code</th>\n",
       "    </tr>\n",
       "  </thead>\n",
       "  <tbody>\n",
       "    <tr>\n",
       "      <td>0</td>\n",
       "      <td>/organization/-fame</td>\n",
       "      <td>/funding-round/9a01d05418af9f794eebff7ace91f638</td>\n",
       "      <td>venture</td>\n",
       "      <td>10000000.000</td>\n",
       "      <td>#fame</td>\n",
       "      <td>media</td>\n",
       "      <td>IND</td>\n",
       "    </tr>\n",
       "    <tr>\n",
       "      <td>1</td>\n",
       "      <td>/organization/-qounter</td>\n",
       "      <td>/funding-round/22dacff496eb7acb2b901dec1dfe5633</td>\n",
       "      <td>venture</td>\n",
       "      <td>nan</td>\n",
       "      <td>:qounter</td>\n",
       "      <td>application platforms|real time|social network...</td>\n",
       "      <td>USA</td>\n",
       "    </tr>\n",
       "    <tr>\n",
       "      <td>2</td>\n",
       "      <td>/organization/-qounter</td>\n",
       "      <td>/funding-round/b44fbb94153f6cdef13083530bb48030</td>\n",
       "      <td>seed</td>\n",
       "      <td>700000.000</td>\n",
       "      <td>:qounter</td>\n",
       "      <td>application platforms|real time|social network...</td>\n",
       "      <td>USA</td>\n",
       "    </tr>\n",
       "    <tr>\n",
       "      <td>4</td>\n",
       "      <td>/organization/0-6-com</td>\n",
       "      <td>/funding-round/5727accaeaa57461bd22a9bdd945382d</td>\n",
       "      <td>venture</td>\n",
       "      <td>2000000.000</td>\n",
       "      <td>0-6.com</td>\n",
       "      <td>curated web</td>\n",
       "      <td>CHN</td>\n",
       "    </tr>\n",
       "    <tr>\n",
       "      <td>5</td>\n",
       "      <td>/organization/004-technologies</td>\n",
       "      <td>/funding-round/1278dd4e6a37fa4b7d7e06c21b3c1830</td>\n",
       "      <td>venture</td>\n",
       "      <td>nan</td>\n",
       "      <td>004 technologies</td>\n",
       "      <td>software</td>\n",
       "      <td>USA</td>\n",
       "    </tr>\n",
       "  </tbody>\n",
       "</table>\n",
       "</div>"
      ],
      "text/plain": [
       "                company_permalink  \\\n",
       "0             /organization/-fame   \n",
       "1          /organization/-qounter   \n",
       "2          /organization/-qounter   \n",
       "4           /organization/0-6-com   \n",
       "5  /organization/004-technologies   \n",
       "\n",
       "                           funding_round_permalink funding_round_type  \\\n",
       "0  /funding-round/9a01d05418af9f794eebff7ace91f638            venture   \n",
       "1  /funding-round/22dacff496eb7acb2b901dec1dfe5633            venture   \n",
       "2  /funding-round/b44fbb94153f6cdef13083530bb48030               seed   \n",
       "4  /funding-round/5727accaeaa57461bd22a9bdd945382d            venture   \n",
       "5  /funding-round/1278dd4e6a37fa4b7d7e06c21b3c1830            venture   \n",
       "\n",
       "   raised_amount_usd              name  \\\n",
       "0       10000000.000             #fame   \n",
       "1                nan          :qounter   \n",
       "2         700000.000          :qounter   \n",
       "4        2000000.000           0-6.com   \n",
       "5                nan  004 technologies   \n",
       "\n",
       "                                       category_list country_code  \n",
       "0                                              media          IND  \n",
       "1  application platforms|real time|social network...          USA  \n",
       "2  application platforms|real time|social network...          USA  \n",
       "4                                        curated web          CHN  \n",
       "5                                           software          USA  "
      ]
     },
     "execution_count": 1078,
     "metadata": {},
     "output_type": "execute_result"
    }
   ],
   "source": [
    "#Since our analysis does require a specific catergory from the category_list and the country_code.\n",
    "#The rows with NaN values for these columns can be dropped.\n",
    "\n",
    "master_frame = master_frame[~(master_frame['category_list'].isnull() | master_frame['country_code'].isnull())]\n",
    "master_frame.head()"
   ]
  },
  {
   "cell_type": "code",
   "execution_count": 1079,
   "metadata": {},
   "outputs": [
    {
     "data": {
      "text/plain": [
       "(104532, 7)"
      ]
     },
     "execution_count": 1079,
     "metadata": {},
     "output_type": "execute_result"
    }
   ],
   "source": [
    "master_frame.shape"
   ]
  },
  {
   "cell_type": "code",
   "execution_count": 1080,
   "metadata": {},
   "outputs": [
    {
     "data": {
      "text/plain": [
       "company_permalink          0.000\n",
       "funding_round_permalink    0.000\n",
       "funding_round_type         0.000\n",
       "raised_amount_usd         15.310\n",
       "name                       0.000\n",
       "category_list              0.000\n",
       "country_code               0.000\n",
       "dtype: float64"
      ]
     },
     "execution_count": 1080,
     "metadata": {},
     "output_type": "execute_result"
    }
   ],
   "source": [
    "#Rechecking percentage of null values in master_frame columns\n",
    "round(100*(master_frame.isnull().sum())/len(master_frame.index),2)"
   ]
  },
  {
   "cell_type": "code",
   "execution_count": 1081,
   "metadata": {},
   "outputs": [
    {
     "data": {
      "text/plain": [
       "90.94"
      ]
     },
     "execution_count": 1081,
     "metadata": {},
     "output_type": "execute_result"
    }
   ],
   "source": [
    "#Percentage of total data retained\n",
    "round(100*len(master_frame.index)/114949,2)"
   ]
  },
  {
   "cell_type": "code",
   "execution_count": 1082,
   "metadata": {},
   "outputs": [
    {
     "data": {
      "text/plain": [
       "count         88529.000\n",
       "mean       10473849.722\n",
       "std       111811808.001\n",
       "min               0.000\n",
       "25%          370518.000\n",
       "50%         1800000.000\n",
       "75%         7100000.000\n",
       "max     21271935000.000\n",
       "Name: raised_amount_usd, dtype: float64"
      ]
     },
     "execution_count": 1082,
     "metadata": {},
     "output_type": "execute_result"
    }
   ],
   "source": [
    "#Checking for steps to be taken on NaN values in 'raised_amount_usd' column of the master_frame\n",
    "#stats for 'raised_amount_usd'\n",
    "master_frame.loc[:,'raised_amount_usd'].describe()"
   ]
  },
  {
   "cell_type": "code",
   "execution_count": 1083,
   "metadata": {},
   "outputs": [
    {
     "data": {
      "image/png": "[encoded data removed]",
      "text/plain": [
       "<Figure size 3200x1200 with 2 Axes>"
      ]
     },
     "metadata": {},
     "output_type": "display_data"
    }
   ],
   "source": [
    "#Boxplot of 'raised_amount_usd' (from master_frame)\n",
    "import matplotlib.pyplot as plt\n",
    "import seaborn as sns\n",
    "\n",
    "plt.figure(num= 1, figsize=(16,6), dpi= 200)\n",
    "\n",
    "plt.subplot(1,2,1)\n",
    "sns.boxplot(y= master_frame['raised_amount_usd']/1000000)\n",
    "plt.title(\"Boxplot of raised_amount_usd(in millions)\")\n",
    "plt.ylabel('raised_amount_usd (in millions)')\n",
    "\n",
    "\n",
    "#Since the values are too large, taking 'log' along the y scale\n",
    "plt.subplot(1,2,2)\n",
    "sns.boxplot(y= master_frame['raised_amount_usd']/1000000)\n",
    "plt.title(\"(Logarithmic) Boxplot of raised_amount_usd (in millions)\")\n",
    "plt.yscale('log')\n",
    "plt.ylabel('logarithmic_raised_amount_usd(in millions)')\n",
    "\n",
    "plt.show()"
   ]
  },
  {
   "cell_type": "code",
   "execution_count": 1084,
   "metadata": {},
   "outputs": [
    {
     "name": "stdout",
     "output_type": "stream",
     "text": [
      "Median of 'raised_amount_usd' column (without skipping NaNs): nan\n",
      "Median of 'raised_amount_usd' column (skipping NaNs): 1800000.0\n",
      "Median of 'raised_amount_usd' column (in millions usd): 1.8\n"
     ]
    }
   ],
   "source": [
    "#Find median of the column 'raised_amount_usd': (Check for all values and also for list where we skip NaN values)\n",
    "print(\"Median of 'raised_amount_usd' column (without skipping NaNs):\", \\\n",
    "      master_frame.loc[:,\"raised_amount_usd\"].median(skipna=False))\n",
    "\n",
    "#Median of 'raised_amount_usd'\n",
    "print(\"Median of 'raised_amount_usd' column (skipping NaNs):\",\\\n",
    "      master_frame.loc[:,\"raised_amount_usd\"].median(skipna=True))\n",
    "\n",
    "#In millions (usd)\n",
    "print(\"Median of 'raised_amount_usd' column (in millions usd):\",\\\n",
    "      master_frame.loc[:,\"raised_amount_usd\"].median(skipna=True)/1000000)"
   ]
  },
  {
   "cell_type": "code",
   "execution_count": 1085,
   "metadata": {},
   "outputs": [
    {
     "name": "stdout",
     "output_type": "stream",
     "text": [
      "Mean of 'raised_amount_usd' column (skipping NaNs): 10473849.72231698\n",
      "Mean of 'raised_amount_usd' column (in millions usd): 10.47384972231698\n"
     ]
    }
   ],
   "source": [
    "#Find mean of the column 'raised_amount_usd':\n",
    "print(\"Mean of 'raised_amount_usd' column (skipping NaNs):\",master_frame.loc[:,\"raised_amount_usd\"].mean())\n",
    "\n",
    "#In millions\n",
    "print(\"Mean of 'raised_amount_usd' column (in millions usd):\",master_frame.loc[:,\"raised_amount_usd\"].mean()/1000000)"
   ]
  },
  {
   "cell_type": "code",
   "execution_count": 1086,
   "metadata": {},
   "outputs": [
    {
     "data": {
      "text/plain": [
       "count         88529.000\n",
       "mean       10473849.722\n",
       "std       111811808.001\n",
       "min               0.000\n",
       "25%          370518.000\n",
       "50%         1800000.000\n",
       "75%         7100000.000\n",
       "max     21271935000.000\n",
       "Name: raised_amount_usd, dtype: float64"
      ]
     },
     "execution_count": 1086,
     "metadata": {},
     "output_type": "execute_result"
    }
   ],
   "source": [
    "master_frame.loc[:,'raised_amount_usd'].describe()"
   ]
  },
  {
   "cell_type": "markdown",
   "metadata": {},
   "source": [
    "The mean does not lie in between the variation from 25% to 75% as we see from the above results. Moreover, there is a large difference between the mean (10.4738 million usd) and the median (1.8 million usd). Thus, imputing this mean/median would make the data quite biased. Hence, dropping the NaNs from 'raised_amount_usd' column of the master_frame."
   ]
  },
  {
   "cell_type": "code",
   "execution_count": 1087,
   "metadata": {},
   "outputs": [
    {
     "data": {
      "text/html": [
       "<div>\n",
       "<style scoped>\n",
       "    .dataframe tbody tr th:only-of-type {\n",
       "        vertical-align: middle;\n",
       "    }\n",
       "\n",
       "    .dataframe tbody tr th {\n",
       "        vertical-align: top;\n",
       "    }\n",
       "\n",
       "    .dataframe thead th {\n",
       "        text-align: right;\n",
       "    }\n",
       "</style>\n",
       "<table border=\"1\" class=\"dataframe\">\n",
       "  <thead>\n",
       "    <tr style=\"text-align: right;\">\n",
       "      <th></th>\n",
       "      <th>company_permalink</th>\n",
       "      <th>funding_round_permalink</th>\n",
       "      <th>funding_round_type</th>\n",
       "      <th>raised_amount_usd</th>\n",
       "      <th>name</th>\n",
       "      <th>category_list</th>\n",
       "      <th>country_code</th>\n",
       "    </tr>\n",
       "  </thead>\n",
       "  <tbody>\n",
       "    <tr>\n",
       "      <td>0</td>\n",
       "      <td>/organization/-fame</td>\n",
       "      <td>/funding-round/9a01d05418af9f794eebff7ace91f638</td>\n",
       "      <td>venture</td>\n",
       "      <td>10000000.000</td>\n",
       "      <td>#fame</td>\n",
       "      <td>media</td>\n",
       "      <td>IND</td>\n",
       "    </tr>\n",
       "    <tr>\n",
       "      <td>2</td>\n",
       "      <td>/organization/-qounter</td>\n",
       "      <td>/funding-round/b44fbb94153f6cdef13083530bb48030</td>\n",
       "      <td>seed</td>\n",
       "      <td>700000.000</td>\n",
       "      <td>:qounter</td>\n",
       "      <td>application platforms|real time|social network...</td>\n",
       "      <td>USA</td>\n",
       "    </tr>\n",
       "    <tr>\n",
       "      <td>4</td>\n",
       "      <td>/organization/0-6-com</td>\n",
       "      <td>/funding-round/5727accaeaa57461bd22a9bdd945382d</td>\n",
       "      <td>venture</td>\n",
       "      <td>2000000.000</td>\n",
       "      <td>0-6.com</td>\n",
       "      <td>curated web</td>\n",
       "      <td>CHN</td>\n",
       "    </tr>\n",
       "    <tr>\n",
       "      <td>6</td>\n",
       "      <td>/organization/01games-technology</td>\n",
       "      <td>/funding-round/7d53696f2b4f607a2f2a8cbb83d01839</td>\n",
       "      <td>undisclosed</td>\n",
       "      <td>41250.000</td>\n",
       "      <td>01games technology</td>\n",
       "      <td>games</td>\n",
       "      <td>HKG</td>\n",
       "    </tr>\n",
       "    <tr>\n",
       "      <td>7</td>\n",
       "      <td>/organization/0ndine-biomedical-inc</td>\n",
       "      <td>/funding-round/2b9d3ac293d5cdccbecff5c8cb0f327d</td>\n",
       "      <td>seed</td>\n",
       "      <td>43360.000</td>\n",
       "      <td>ondine biomedical inc.</td>\n",
       "      <td>biotechnology</td>\n",
       "      <td>CAN</td>\n",
       "    </tr>\n",
       "    <tr>\n",
       "      <td>8</td>\n",
       "      <td>/organization/0ndine-biomedical-inc</td>\n",
       "      <td>/funding-round/954b9499724b946ad8c396a57a5f3b72</td>\n",
       "      <td>venture</td>\n",
       "      <td>719491.000</td>\n",
       "      <td>ondine biomedical inc.</td>\n",
       "      <td>biotechnology</td>\n",
       "      <td>CAN</td>\n",
       "    </tr>\n",
       "    <tr>\n",
       "      <td>9</td>\n",
       "      <td>/organization/0xdata</td>\n",
       "      <td>/funding-round/383a9bd2c04f7038bb543ccef5ba3eae</td>\n",
       "      <td>seed</td>\n",
       "      <td>3000000.000</td>\n",
       "      <td>h2o.ai</td>\n",
       "      <td>analytics</td>\n",
       "      <td>USA</td>\n",
       "    </tr>\n",
       "    <tr>\n",
       "      <td>10</td>\n",
       "      <td>/organization/0xdata</td>\n",
       "      <td>/funding-round/3bb2ee4a2d89251a10aaa735b1180e44</td>\n",
       "      <td>venture</td>\n",
       "      <td>20000000.000</td>\n",
       "      <td>h2o.ai</td>\n",
       "      <td>analytics</td>\n",
       "      <td>USA</td>\n",
       "    </tr>\n",
       "    <tr>\n",
       "      <td>11</td>\n",
       "      <td>/organization/0xdata</td>\n",
       "      <td>/funding-round/ae2a174c06517c2394aed45006322a7e</td>\n",
       "      <td>venture</td>\n",
       "      <td>1700000.000</td>\n",
       "      <td>h2o.ai</td>\n",
       "      <td>analytics</td>\n",
       "      <td>USA</td>\n",
       "    </tr>\n",
       "    <tr>\n",
       "      <td>12</td>\n",
       "      <td>/organization/0xdata</td>\n",
       "      <td>/funding-round/e1cfcbe1bdf4c70277c5f29a3482f24e</td>\n",
       "      <td>venture</td>\n",
       "      <td>8900000.000</td>\n",
       "      <td>h2o.ai</td>\n",
       "      <td>analytics</td>\n",
       "      <td>USA</td>\n",
       "    </tr>\n",
       "  </tbody>\n",
       "</table>\n",
       "</div>"
      ],
      "text/plain": [
       "                      company_permalink  \\\n",
       "0                   /organization/-fame   \n",
       "2                /organization/-qounter   \n",
       "4                 /organization/0-6-com   \n",
       "6      /organization/01games-technology   \n",
       "7   /organization/0ndine-biomedical-inc   \n",
       "8   /organization/0ndine-biomedical-inc   \n",
       "9                  /organization/0xdata   \n",
       "10                 /organization/0xdata   \n",
       "11                 /organization/0xdata   \n",
       "12                 /organization/0xdata   \n",
       "\n",
       "                            funding_round_permalink funding_round_type  \\\n",
       "0   /funding-round/9a01d05418af9f794eebff7ace91f638            venture   \n",
       "2   /funding-round/b44fbb94153f6cdef13083530bb48030               seed   \n",
       "4   /funding-round/5727accaeaa57461bd22a9bdd945382d            venture   \n",
       "6   /funding-round/7d53696f2b4f607a2f2a8cbb83d01839        undisclosed   \n",
       "7   /funding-round/2b9d3ac293d5cdccbecff5c8cb0f327d               seed   \n",
       "8   /funding-round/954b9499724b946ad8c396a57a5f3b72            venture   \n",
       "9   /funding-round/383a9bd2c04f7038bb543ccef5ba3eae               seed   \n",
       "10  /funding-round/3bb2ee4a2d89251a10aaa735b1180e44            venture   \n",
       "11  /funding-round/ae2a174c06517c2394aed45006322a7e            venture   \n",
       "12  /funding-round/e1cfcbe1bdf4c70277c5f29a3482f24e            venture   \n",
       "\n",
       "    raised_amount_usd                    name  \\\n",
       "0        10000000.000                   #fame   \n",
       "2          700000.000                :qounter   \n",
       "4         2000000.000                 0-6.com   \n",
       "6           41250.000      01games technology   \n",
       "7           43360.000  ondine biomedical inc.   \n",
       "8          719491.000  ondine biomedical inc.   \n",
       "9         3000000.000                  h2o.ai   \n",
       "10       20000000.000                  h2o.ai   \n",
       "11        1700000.000                  h2o.ai   \n",
       "12        8900000.000                  h2o.ai   \n",
       "\n",
       "                                        category_list country_code  \n",
       "0                                               media          IND  \n",
       "2   application platforms|real time|social network...          USA  \n",
       "4                                         curated web          CHN  \n",
       "6                                               games          HKG  \n",
       "7                                       biotechnology          CAN  \n",
       "8                                       biotechnology          CAN  \n",
       "9                                           analytics          USA  \n",
       "10                                          analytics          USA  \n",
       "11                                          analytics          USA  \n",
       "12                                          analytics          USA  "
      ]
     },
     "execution_count": 1087,
     "metadata": {},
     "output_type": "execute_result"
    }
   ],
   "source": [
    "#Dropping the rows containing NaNs in the 'raised_amount_usd' column of master_frame\n",
    "master_frame = master_frame[~(master_frame['raised_amount_usd'].isnull())]\n",
    "\n",
    "#Display master_frame head(10 observations)\n",
    "master_frame.head(10)"
   ]
  },
  {
   "cell_type": "code",
   "execution_count": 1088,
   "metadata": {},
   "outputs": [
    {
     "data": {
      "text/plain": [
       "company_permalink         0.000\n",
       "funding_round_permalink   0.000\n",
       "funding_round_type        0.000\n",
       "raised_amount_usd         0.000\n",
       "name                      0.000\n",
       "category_list             0.000\n",
       "country_code              0.000\n",
       "dtype: float64"
      ]
     },
     "execution_count": 1088,
     "metadata": {},
     "output_type": "execute_result"
    }
   ],
   "source": [
    "#Rechecking percentage of null values in master_frame columns\n",
    "round(100*(master_frame.isnull().sum())/len(master_frame.index),2)"
   ]
  },
  {
   "cell_type": "code",
   "execution_count": 1089,
   "metadata": {},
   "outputs": [
    {
     "data": {
      "text/plain": [
       "77.02"
      ]
     },
     "execution_count": 1089,
     "metadata": {},
     "output_type": "execute_result"
    }
   ],
   "source": [
    "#Percentage of total data retained\n",
    "round(100*len(master_frame.index)/114949,2)"
   ]
  },
  {
   "cell_type": "code",
   "execution_count": 1090,
   "metadata": {},
   "outputs": [
    {
     "data": {
      "text/plain": [
       "(88529, 7)"
      ]
     },
     "execution_count": 1090,
     "metadata": {},
     "output_type": "execute_result"
    }
   ],
   "source": [
    "master_frame.shape"
   ]
  },
  {
   "cell_type": "markdown",
   "metadata": {},
   "source": [
    "# <font color='RoyalBlue4'> Checkpoint 2: Funding Type Analysis</font>"
   ]
  },
  {
   "cell_type": "code",
   "execution_count": 1091,
   "metadata": {},
   "outputs": [
    {
     "data": {
      "text/plain": [
       "venture                  47809\n",
       "seed                     21095\n",
       "debt_financing            6506\n",
       "angel                     4400\n",
       "grant                     1939\n",
       "private_equity            1820\n",
       "undisclosed               1345\n",
       "convertible_note          1320\n",
       "equity_crowdfunding       1128\n",
       "post_ipo_equity            598\n",
       "product_crowdfunding       330\n",
       "post_ipo_debt              151\n",
       "non_equity_assistance       60\n",
       "secondary_market            28\n",
       "Name: funding_round_type, dtype: int64"
      ]
     },
     "execution_count": 1091,
     "metadata": {},
     "output_type": "execute_result"
    }
   ],
   "source": [
    "#Unique investment types in funding_round_type\n",
    "master_frame['funding_round_type'].value_counts()"
   ]
  },
  {
   "cell_type": "markdown",
   "metadata": {},
   "source": [
    "Spark Funds wants to choose one of these four investment types for each potential investment they will make. Hence, we carry out funding type analysis for these four funding round types namely venture, seed, angel and private equity."
   ]
  },
  {
   "cell_type": "code",
   "execution_count": 1092,
   "metadata": {},
   "outputs": [
    {
     "data": {
      "text/plain": [
       "venture           47809\n",
       "seed              21095\n",
       "angel              4400\n",
       "private_equity     1820\n",
       "Name: funding_round_type, dtype: int64"
      ]
     },
     "execution_count": 1092,
     "metadata": {},
     "output_type": "execute_result"
    }
   ],
   "source": [
    "#Retaining only these four types of investments\n",
    "master_frame = master_frame[(master_frame['funding_round_type']=='venture') | \\\n",
    "                            (master_frame['funding_round_type']=='seed') \\\n",
    "                            | (master_frame['funding_round_type']=='angel') \\\n",
    "                            | (master_frame['funding_round_type']=='private_equity')]\n",
    "master_frame['funding_round_type'].value_counts()"
   ]
  },
  {
   "cell_type": "code",
   "execution_count": 1093,
   "metadata": {},
   "outputs": [
    {
     "data": {
      "text/plain": [
       "(75124, 7)"
      ]
     },
     "execution_count": 1093,
     "metadata": {},
     "output_type": "execute_result"
    }
   ],
   "source": [
    "master_frame.shape"
   ]
  },
  {
   "cell_type": "code",
   "execution_count": 1094,
   "metadata": {},
   "outputs": [
    {
     "data": {
      "text/html": [
       "<div>\n",
       "<style scoped>\n",
       "    .dataframe tbody tr th:only-of-type {\n",
       "        vertical-align: middle;\n",
       "    }\n",
       "\n",
       "    .dataframe tbody tr th {\n",
       "        vertical-align: top;\n",
       "    }\n",
       "\n",
       "    .dataframe thead th {\n",
       "        text-align: right;\n",
       "    }\n",
       "</style>\n",
       "<table border=\"1\" class=\"dataframe\">\n",
       "  <thead>\n",
       "    <tr style=\"text-align: right;\">\n",
       "      <th></th>\n",
       "      <th>funding_round_type</th>\n",
       "      <th>raised_amount_usd</th>\n",
       "    </tr>\n",
       "  </thead>\n",
       "  <tbody>\n",
       "    <tr>\n",
       "      <td>0</td>\n",
       "      <td>venture</td>\n",
       "      <td>10000000.000</td>\n",
       "    </tr>\n",
       "    <tr>\n",
       "      <td>2</td>\n",
       "      <td>seed</td>\n",
       "      <td>700000.000</td>\n",
       "    </tr>\n",
       "    <tr>\n",
       "      <td>4</td>\n",
       "      <td>venture</td>\n",
       "      <td>2000000.000</td>\n",
       "    </tr>\n",
       "    <tr>\n",
       "      <td>7</td>\n",
       "      <td>seed</td>\n",
       "      <td>43360.000</td>\n",
       "    </tr>\n",
       "    <tr>\n",
       "      <td>8</td>\n",
       "      <td>venture</td>\n",
       "      <td>719491.000</td>\n",
       "    </tr>\n",
       "  </tbody>\n",
       "</table>\n",
       "</div>"
      ],
      "text/plain": [
       "  funding_round_type  raised_amount_usd\n",
       "0            venture       10000000.000\n",
       "2               seed         700000.000\n",
       "4            venture        2000000.000\n",
       "7               seed          43360.000\n",
       "8            venture         719491.000"
      ]
     },
     "execution_count": 1094,
     "metadata": {},
     "output_type": "execute_result"
    }
   ],
   "source": [
    "#New dataframe 'investments_four_types': global dataframe containing only 4 funding round types and their records\n",
    "#This is the global dataframe and shall be used to draw Plot 1\n",
    "\n",
    "investments_four_types = master_frame[['funding_round_type','raised_amount_usd']]\n",
    "investments_four_types.head()"
   ]
  },
  {
   "cell_type": "code",
   "execution_count": 1095,
   "metadata": {},
   "outputs": [
    {
     "data": {
      "text/html": [
       "<div>\n",
       "<style scoped>\n",
       "    .dataframe tbody tr th:only-of-type {\n",
       "        vertical-align: middle;\n",
       "    }\n",
       "\n",
       "    .dataframe tbody tr th {\n",
       "        vertical-align: top;\n",
       "    }\n",
       "\n",
       "    .dataframe thead th {\n",
       "        text-align: right;\n",
       "    }\n",
       "</style>\n",
       "<table border=\"1\" class=\"dataframe\">\n",
       "  <thead>\n",
       "    <tr style=\"text-align: right;\">\n",
       "      <th></th>\n",
       "      <th>raised_amount_usd</th>\n",
       "    </tr>\n",
       "    <tr>\n",
       "      <th>funding_round_type</th>\n",
       "      <th></th>\n",
       "    </tr>\n",
       "  </thead>\n",
       "  <tbody>\n",
       "    <tr>\n",
       "      <td>private_equity</td>\n",
       "      <td>73938486.275</td>\n",
       "    </tr>\n",
       "    <tr>\n",
       "      <td>venture</td>\n",
       "      <td>11724222.690</td>\n",
       "    </tr>\n",
       "    <tr>\n",
       "      <td>angel</td>\n",
       "      <td>971573.891</td>\n",
       "    </tr>\n",
       "    <tr>\n",
       "      <td>seed</td>\n",
       "      <td>747793.682</td>\n",
       "    </tr>\n",
       "  </tbody>\n",
       "</table>\n",
       "</div>"
      ],
      "text/plain": [
       "                    raised_amount_usd\n",
       "funding_round_type                   \n",
       "private_equity           73938486.275\n",
       "venture                  11724222.690\n",
       "angel                      971573.891\n",
       "seed                       747793.682"
      ]
     },
     "execution_count": 1095,
     "metadata": {},
     "output_type": "execute_result"
    }
   ],
   "source": [
    "#Calculating the most representative value of investment amounts for each of these 4 investment types:\n",
    "\n",
    "#Datatype to float using proper formatting options\n",
    "pd.options.display.float_format  = '{:.3f}'.format\n",
    "\n",
    "avg_typewise = investments_four_types.groupby('funding_round_type')\n",
    "\n",
    "#DataFrame 'investments_avg_typeswise' contains the 4 funding round types \n",
    "#and their most representative values of investment amounts.\n",
    "\n",
    "investments_avg_typewise = pd.DataFrame(avg_typewise['raised_amount_usd'].mean().sort_values(ascending=False))\n",
    "investments_avg_typewise"
   ]
  },
  {
   "cell_type": "code",
   "execution_count": 1096,
   "metadata": {},
   "outputs": [
    {
     "name": "stdout",
     "output_type": "stream",
     "text": [
      "Average funding amount of venture type (in_usd): 11724222.69\n",
      "Average funding amount of venture type (in millions_usd): 11.72422269\n"
     ]
    }
   ],
   "source": [
    "#Average funding amount of venture type\n",
    "venture_val = round(investments_avg_typewise.loc['venture','raised_amount_usd'],3)\n",
    "print('Average funding amount of venture type (in_usd):',venture_val)\n",
    "print('Average funding amount of venture type (in millions_usd):',venture_val/1000000)"
   ]
  },
  {
   "cell_type": "code",
   "execution_count": 1097,
   "metadata": {},
   "outputs": [
    {
     "name": "stdout",
     "output_type": "stream",
     "text": [
      "Average funding amount of angel type (in_usd): 971573.891\n",
      "Average funding amount of angel type (in millions_usd): 0.9715738909999999\n"
     ]
    }
   ],
   "source": [
    "#Average funding amount of angel type\n",
    "angel_val = round(investments_avg_typewise.loc['angel','raised_amount_usd'],3)\n",
    "print('Average funding amount of angel type (in_usd):',angel_val)\n",
    "print('Average funding amount of angel type (in millions_usd):',angel_val/1000000)"
   ]
  },
  {
   "cell_type": "code",
   "execution_count": 1098,
   "metadata": {},
   "outputs": [
    {
     "name": "stdout",
     "output_type": "stream",
     "text": [
      "Average funding amount of seed type (in_usd): 747793.682\n",
      "Average funding amount of seed type (in millions_usd): 0.7477936820000001\n"
     ]
    }
   ],
   "source": [
    "#Average funding amount of seed type\n",
    "seed_val = round(investments_avg_typewise.loc['seed','raised_amount_usd'],3)\n",
    "print('Average funding amount of seed type (in_usd):',seed_val)\n",
    "print('Average funding amount of seed type (in millions_usd):',seed_val/1000000)"
   ]
  },
  {
   "cell_type": "code",
   "execution_count": 1099,
   "metadata": {},
   "outputs": [
    {
     "name": "stdout",
     "output_type": "stream",
     "text": [
      "Average funding amount of private equity type (in_usd): 73938486.275\n",
      "Average funding amount of private equity type (in millions_usd): 73.938486275\n"
     ]
    }
   ],
   "source": [
    "#Average funding amount of private equity type\n",
    "private_eq_val = round(investments_avg_typewise.loc['private_equity','raised_amount_usd'],3)\n",
    "print('Average funding amount of private equity type (in_usd):',private_eq_val)\n",
    "print('Average funding amount of private equity type (in millions_usd):',private_eq_val/1000000)"
   ]
  },
  {
   "cell_type": "markdown",
   "metadata": {},
   "source": [
    "Considering that Spark Funds wants to invest between 5 to 15 million USD per  investment round, which investment type is the most suitable for them?"
   ]
  },
  {
   "cell_type": "code",
   "execution_count": 1100,
   "metadata": {},
   "outputs": [
    {
     "data": {
      "text/html": [
       "<div>\n",
       "<style scoped>\n",
       "    .dataframe tbody tr th:only-of-type {\n",
       "        vertical-align: middle;\n",
       "    }\n",
       "\n",
       "    .dataframe tbody tr th {\n",
       "        vertical-align: top;\n",
       "    }\n",
       "\n",
       "    .dataframe thead th {\n",
       "        text-align: right;\n",
       "    }\n",
       "</style>\n",
       "<table border=\"1\" class=\"dataframe\">\n",
       "  <thead>\n",
       "    <tr style=\"text-align: right;\">\n",
       "      <th></th>\n",
       "      <th>raised_amount_usd</th>\n",
       "    </tr>\n",
       "    <tr>\n",
       "      <th>funding_round_type</th>\n",
       "      <th></th>\n",
       "    </tr>\n",
       "  </thead>\n",
       "  <tbody>\n",
       "    <tr>\n",
       "      <td>venture</td>\n",
       "      <td>11724222.690</td>\n",
       "    </tr>\n",
       "  </tbody>\n",
       "</table>\n",
       "</div>"
      ],
      "text/plain": [
       "                    raised_amount_usd\n",
       "funding_round_type                   \n",
       "venture                  11724222.690"
      ]
     },
     "execution_count": 1100,
     "metadata": {},
     "output_type": "execute_result"
    }
   ],
   "source": [
    "#Finding the most suitable investment type for Sparks Funds\n",
    "#Range: in between 5 and 15 million USD per investment round.\n",
    "#'suitable_investment_type' dataframe contains the average investments in between 5 and 15 million USD per round range\n",
    "suitable_investment_type = investments_avg_typewise.loc[(investments_avg_typewise['raised_amount_usd'] >= 5000000) & \\\n",
    "                                            (investments_avg_typewise['raised_amount_usd'] <= 15000000)]\n",
    "suitable_investment_type"
   ]
  },
  {
   "cell_type": "code",
   "execution_count": 1101,
   "metadata": {},
   "outputs": [
    {
     "name": "stdout",
     "output_type": "stream",
     "text": [
      "Therefore, the most suitable investment type for Sparks Funds is: venture\n"
     ]
    }
   ],
   "source": [
    "#Since, venture type is the only investment type whose average value of investment lies between 5 and 15 million usd\n",
    "print('Therefore, the most suitable investment type for Sparks Funds is:',suitable_investment_type.index[0])"
   ]
  },
  {
   "cell_type": "markdown",
   "metadata": {},
   "source": [
    "Hence, considering that Spark Funds wants to invest between 5 to 15 million USD per investment round, the most suitable investment type is **venture**"
   ]
  },
  {
   "cell_type": "markdown",
   "metadata": {},
   "source": [
    "# <font color='Royalblue4'>Checkpoint 3: Country Analysis</font>"
   ]
  },
  {
   "cell_type": "markdown",
   "metadata": {},
   "source": [
    "Criteria:<br>\n",
    "(i) Spark Funds wants to see the top nine countries which have received the highest total funding (across ALL sectors for the chosen investment type).<br>\n",
    "(ii) For the chosen investment type, make a data frame named top9 with the top nine countries (based on the total investment amount each country has received).\n",
    "\n",
    "Steps:\n",
    "1. Spark Funds wants to invest in countries with the highest amount of funding for the chosen investment type. As per our analysis until now, we deduced that the most suitable investment type for Sparks Funds is **venture** type. As this is a part of its broader strategy, let us further analyze where are the investments occuring in this venture investment type.\n",
    "2. For venture investment type, let's make a dataframe named 'top9' with the top nine countries (based on the total investment amount each country has received).\n",
    "\n"
   ]
  },
  {
   "cell_type": "markdown",
   "metadata": {},
   "source": [
    "This point onwards our focus is going to be exclusively on the venture type of investment. Hence, eliminating the other funding_round_types from the table. Retain only venture type of investment."
   ]
  },
  {
   "cell_type": "code",
   "execution_count": 1102,
   "metadata": {},
   "outputs": [],
   "source": [
    "#Retaining only venture funding_type in the master_frame. \n",
    "master_frame = master_frame[master_frame['funding_round_type']=='venture']\n",
    "\n",
    "#Dropping the 'funding_round_type' column since now on all the funding_round_types in the master_frame are 'venture' type\n",
    "master_frame = master_frame.drop('funding_round_type', axis=1)"
   ]
  },
  {
   "cell_type": "code",
   "execution_count": 1103,
   "metadata": {
    "scrolled": true
   },
   "outputs": [
    {
     "data": {
      "text/html": [
       "<div>\n",
       "<style scoped>\n",
       "    .dataframe tbody tr th:only-of-type {\n",
       "        vertical-align: middle;\n",
       "    }\n",
       "\n",
       "    .dataframe tbody tr th {\n",
       "        vertical-align: top;\n",
       "    }\n",
       "\n",
       "    .dataframe thead th {\n",
       "        text-align: right;\n",
       "    }\n",
       "</style>\n",
       "<table border=\"1\" class=\"dataframe\">\n",
       "  <thead>\n",
       "    <tr style=\"text-align: right;\">\n",
       "      <th></th>\n",
       "      <th>company_permalink</th>\n",
       "      <th>funding_round_permalink</th>\n",
       "      <th>raised_amount_usd</th>\n",
       "      <th>name</th>\n",
       "      <th>category_list</th>\n",
       "      <th>country_code</th>\n",
       "    </tr>\n",
       "  </thead>\n",
       "  <tbody>\n",
       "    <tr>\n",
       "      <td>0</td>\n",
       "      <td>/organization/-fame</td>\n",
       "      <td>/funding-round/9a01d05418af9f794eebff7ace91f638</td>\n",
       "      <td>10000000.000</td>\n",
       "      <td>#fame</td>\n",
       "      <td>media</td>\n",
       "      <td>IND</td>\n",
       "    </tr>\n",
       "    <tr>\n",
       "      <td>4</td>\n",
       "      <td>/organization/0-6-com</td>\n",
       "      <td>/funding-round/5727accaeaa57461bd22a9bdd945382d</td>\n",
       "      <td>2000000.000</td>\n",
       "      <td>0-6.com</td>\n",
       "      <td>curated web</td>\n",
       "      <td>CHN</td>\n",
       "    </tr>\n",
       "    <tr>\n",
       "      <td>8</td>\n",
       "      <td>/organization/0ndine-biomedical-inc</td>\n",
       "      <td>/funding-round/954b9499724b946ad8c396a57a5f3b72</td>\n",
       "      <td>719491.000</td>\n",
       "      <td>ondine biomedical inc.</td>\n",
       "      <td>biotechnology</td>\n",
       "      <td>CAN</td>\n",
       "    </tr>\n",
       "    <tr>\n",
       "      <td>10</td>\n",
       "      <td>/organization/0xdata</td>\n",
       "      <td>/funding-round/3bb2ee4a2d89251a10aaa735b1180e44</td>\n",
       "      <td>20000000.000</td>\n",
       "      <td>h2o.ai</td>\n",
       "      <td>analytics</td>\n",
       "      <td>USA</td>\n",
       "    </tr>\n",
       "    <tr>\n",
       "      <td>11</td>\n",
       "      <td>/organization/0xdata</td>\n",
       "      <td>/funding-round/ae2a174c06517c2394aed45006322a7e</td>\n",
       "      <td>1700000.000</td>\n",
       "      <td>h2o.ai</td>\n",
       "      <td>analytics</td>\n",
       "      <td>USA</td>\n",
       "    </tr>\n",
       "  </tbody>\n",
       "</table>\n",
       "</div>"
      ],
      "text/plain": [
       "                      company_permalink  \\\n",
       "0                   /organization/-fame   \n",
       "4                 /organization/0-6-com   \n",
       "8   /organization/0ndine-biomedical-inc   \n",
       "10                 /organization/0xdata   \n",
       "11                 /organization/0xdata   \n",
       "\n",
       "                            funding_round_permalink  raised_amount_usd  \\\n",
       "0   /funding-round/9a01d05418af9f794eebff7ace91f638       10000000.000   \n",
       "4   /funding-round/5727accaeaa57461bd22a9bdd945382d        2000000.000   \n",
       "8   /funding-round/954b9499724b946ad8c396a57a5f3b72         719491.000   \n",
       "10  /funding-round/3bb2ee4a2d89251a10aaa735b1180e44       20000000.000   \n",
       "11  /funding-round/ae2a174c06517c2394aed45006322a7e        1700000.000   \n",
       "\n",
       "                      name  category_list country_code  \n",
       "0                    #fame          media          IND  \n",
       "4                  0-6.com    curated web          CHN  \n",
       "8   ondine biomedical inc.  biotechnology          CAN  \n",
       "10                  h2o.ai      analytics          USA  \n",
       "11                  h2o.ai      analytics          USA  "
      ]
     },
     "execution_count": 1103,
     "metadata": {},
     "output_type": "execute_result"
    }
   ],
   "source": [
    "master_frame.head()"
   ]
  },
  {
   "cell_type": "code",
   "execution_count": 1104,
   "metadata": {},
   "outputs": [
    {
     "data": {
      "text/html": [
       "<div>\n",
       "<style scoped>\n",
       "    .dataframe tbody tr th:only-of-type {\n",
       "        vertical-align: middle;\n",
       "    }\n",
       "\n",
       "    .dataframe tbody tr th {\n",
       "        vertical-align: top;\n",
       "    }\n",
       "\n",
       "    .dataframe thead th {\n",
       "        text-align: right;\n",
       "    }\n",
       "</style>\n",
       "<table border=\"1\" class=\"dataframe\">\n",
       "  <thead>\n",
       "    <tr style=\"text-align: right;\">\n",
       "      <th></th>\n",
       "      <th>country_code</th>\n",
       "      <th>raised_amount_usd</th>\n",
       "    </tr>\n",
       "  </thead>\n",
       "  <tbody>\n",
       "    <tr>\n",
       "      <td>0</td>\n",
       "      <td>USA</td>\n",
       "      <td>420068029342.000</td>\n",
       "    </tr>\n",
       "    <tr>\n",
       "      <td>1</td>\n",
       "      <td>CHN</td>\n",
       "      <td>39338918773.000</td>\n",
       "    </tr>\n",
       "    <tr>\n",
       "      <td>2</td>\n",
       "      <td>GBR</td>\n",
       "      <td>20072813004.000</td>\n",
       "    </tr>\n",
       "    <tr>\n",
       "      <td>3</td>\n",
       "      <td>IND</td>\n",
       "      <td>14261508718.000</td>\n",
       "    </tr>\n",
       "    <tr>\n",
       "      <td>4</td>\n",
       "      <td>CAN</td>\n",
       "      <td>9482217668.000</td>\n",
       "    </tr>\n",
       "    <tr>\n",
       "      <td>5</td>\n",
       "      <td>FRA</td>\n",
       "      <td>7226851352.000</td>\n",
       "    </tr>\n",
       "    <tr>\n",
       "      <td>6</td>\n",
       "      <td>ISR</td>\n",
       "      <td>6854350477.000</td>\n",
       "    </tr>\n",
       "    <tr>\n",
       "      <td>7</td>\n",
       "      <td>DEU</td>\n",
       "      <td>6306921981.000</td>\n",
       "    </tr>\n",
       "    <tr>\n",
       "      <td>8</td>\n",
       "      <td>JPN</td>\n",
       "      <td>3167647127.000</td>\n",
       "    </tr>\n",
       "  </tbody>\n",
       "</table>\n",
       "</div>"
      ],
      "text/plain": [
       "  country_code  raised_amount_usd\n",
       "0          USA   420068029342.000\n",
       "1          CHN    39338918773.000\n",
       "2          GBR    20072813004.000\n",
       "3          IND    14261508718.000\n",
       "4          CAN     9482217668.000\n",
       "5          FRA     7226851352.000\n",
       "6          ISR     6854350477.000\n",
       "7          DEU     6306921981.000\n",
       "8          JPN     3167647127.000"
      ]
     },
     "execution_count": 1104,
     "metadata": {},
     "output_type": "execute_result"
    }
   ],
   "source": [
    "#DataFrame 'top9' contains all the top nine countries (based on the total investment amount each country has received) \n",
    "#(across ALL sectors in the venture type of investment)\n",
    "\n",
    "by_country_code = master_frame.groupby('country_code')\n",
    "top9 = by_country_code['raised_amount_usd'].sum().sort_values(ascending=False)\n",
    "top9 = pd.DataFrame(top9.iloc[:9])\n",
    "\n",
    "#Required for plotting graphs later\n",
    "top9.reset_index(inplace=True) \n",
    "top9"
   ]
  },
  {
   "cell_type": "code",
   "execution_count": 1105,
   "metadata": {},
   "outputs": [
    {
     "data": {
      "text/plain": [
       "Index(['country_code', 'raised_amount_usd'], dtype='object')"
      ]
     },
     "execution_count": 1105,
     "metadata": {},
     "output_type": "execute_result"
    }
   ],
   "source": [
    "#Check for columns after reset index\n",
    "top9.columns"
   ]
  },
  {
   "cell_type": "code",
   "execution_count": 1106,
   "metadata": {
    "scrolled": true
   },
   "outputs": [
    {
     "data": {
      "text/html": [
       "<div>\n",
       "<style scoped>\n",
       "    .dataframe tbody tr th:only-of-type {\n",
       "        vertical-align: middle;\n",
       "    }\n",
       "\n",
       "    .dataframe tbody tr th {\n",
       "        vertical-align: top;\n",
       "    }\n",
       "\n",
       "    .dataframe thead th {\n",
       "        text-align: right;\n",
       "    }\n",
       "</style>\n",
       "<table border=\"1\" class=\"dataframe\">\n",
       "  <thead>\n",
       "    <tr style=\"text-align: right;\">\n",
       "      <th></th>\n",
       "      <th>country_code</th>\n",
       "      <th>raised_amount_usd</th>\n",
       "      <th>english_official_lang_flag</th>\n",
       "    </tr>\n",
       "  </thead>\n",
       "  <tbody>\n",
       "    <tr>\n",
       "      <td>0</td>\n",
       "      <td>USA</td>\n",
       "      <td>420068029342.000</td>\n",
       "      <td>Yes</td>\n",
       "    </tr>\n",
       "    <tr>\n",
       "      <td>1</td>\n",
       "      <td>CHN</td>\n",
       "      <td>39338918773.000</td>\n",
       "      <td>No</td>\n",
       "    </tr>\n",
       "    <tr>\n",
       "      <td>2</td>\n",
       "      <td>GBR</td>\n",
       "      <td>20072813004.000</td>\n",
       "      <td>Yes</td>\n",
       "    </tr>\n",
       "    <tr>\n",
       "      <td>3</td>\n",
       "      <td>IND</td>\n",
       "      <td>14261508718.000</td>\n",
       "      <td>Yes</td>\n",
       "    </tr>\n",
       "    <tr>\n",
       "      <td>4</td>\n",
       "      <td>CAN</td>\n",
       "      <td>9482217668.000</td>\n",
       "      <td>Yes</td>\n",
       "    </tr>\n",
       "    <tr>\n",
       "      <td>5</td>\n",
       "      <td>FRA</td>\n",
       "      <td>7226851352.000</td>\n",
       "      <td>No</td>\n",
       "    </tr>\n",
       "    <tr>\n",
       "      <td>6</td>\n",
       "      <td>ISR</td>\n",
       "      <td>6854350477.000</td>\n",
       "      <td>No</td>\n",
       "    </tr>\n",
       "    <tr>\n",
       "      <td>7</td>\n",
       "      <td>DEU</td>\n",
       "      <td>6306921981.000</td>\n",
       "      <td>No</td>\n",
       "    </tr>\n",
       "    <tr>\n",
       "      <td>8</td>\n",
       "      <td>JPN</td>\n",
       "      <td>3167647127.000</td>\n",
       "      <td>No</td>\n",
       "    </tr>\n",
       "  </tbody>\n",
       "</table>\n",
       "</div>"
      ],
      "text/plain": [
       "  country_code  raised_amount_usd english_official_lang_flag\n",
       "0          USA   420068029342.000                        Yes\n",
       "1          CHN    39338918773.000                         No\n",
       "2          GBR    20072813004.000                        Yes\n",
       "3          IND    14261508718.000                        Yes\n",
       "4          CAN     9482217668.000                        Yes\n",
       "5          FRA     7226851352.000                         No\n",
       "6          ISR     6854350477.000                         No\n",
       "7          DEU     6306921981.000                         No\n",
       "8          JPN     3167647127.000                         No"
      ]
     },
     "execution_count": 1106,
     "metadata": {},
     "output_type": "execute_result"
    }
   ],
   "source": [
    "#List of all the countries from the top9 dataframe that have English as their official language\n",
    "eng_off_lang_country = [\"USA\",\"GBR\",\"IND\",\"CAN\"]\n",
    "\n",
    "#Flag English speaking countries (shall be used for plotting plot 2)\n",
    "top9['english_official_lang_flag'] = np.where(top9.country_code.isin(eng_off_lang_country),'Yes','No')\n",
    "top9"
   ]
  },
  {
   "cell_type": "code",
   "execution_count": 1107,
   "metadata": {},
   "outputs": [
    {
     "data": {
      "text/html": [
       "<div>\n",
       "<style scoped>\n",
       "    .dataframe tbody tr th:only-of-type {\n",
       "        vertical-align: middle;\n",
       "    }\n",
       "\n",
       "    .dataframe tbody tr th {\n",
       "        vertical-align: top;\n",
       "    }\n",
       "\n",
       "    .dataframe thead th {\n",
       "        text-align: right;\n",
       "    }\n",
       "</style>\n",
       "<table border=\"1\" class=\"dataframe\">\n",
       "  <thead>\n",
       "    <tr style=\"text-align: right;\">\n",
       "      <th></th>\n",
       "      <th>raised_amount_usd</th>\n",
       "      <th>rank</th>\n",
       "    </tr>\n",
       "    <tr>\n",
       "      <th>country_code</th>\n",
       "      <th></th>\n",
       "      <th></th>\n",
       "    </tr>\n",
       "  </thead>\n",
       "  <tbody>\n",
       "    <tr>\n",
       "      <td>USA</td>\n",
       "      <td>420068029342.000</td>\n",
       "      <td>1</td>\n",
       "    </tr>\n",
       "    <tr>\n",
       "      <td>GBR</td>\n",
       "      <td>20072813004.000</td>\n",
       "      <td>2</td>\n",
       "    </tr>\n",
       "    <tr>\n",
       "      <td>IND</td>\n",
       "      <td>14261508718.000</td>\n",
       "      <td>3</td>\n",
       "    </tr>\n",
       "  </tbody>\n",
       "</table>\n",
       "</div>"
      ],
      "text/plain": [
       "              raised_amount_usd  rank\n",
       "country_code                         \n",
       "USA            420068029342.000     1\n",
       "GBR             20072813004.000     2\n",
       "IND             14261508718.000     3"
      ]
     },
     "execution_count": 1107,
     "metadata": {},
     "output_type": "execute_result"
    }
   ],
   "source": [
    "#Retaining the top 3 English Speaking Countries (top3_english derived from top9)\n",
    "top3_english = top9[(top9['english_official_lang_flag'])=='Yes']\n",
    "\n",
    "#Dropping the English Official Language Flag column from the dataframe \n",
    "#as all English speaking countries are filtered\n",
    "top3_english = top3_english.drop('english_official_lang_flag', axis=1)\n",
    "\n",
    "#Retaining top 3 observations\n",
    "top3_english = pd.DataFrame(top3_english.loc[:3])\n",
    "top3_english.set_index('country_code',inplace=True)\n",
    "\n",
    "#Assigning rank in rank column\n",
    "top3_english['rank'] = (top3_english['raised_amount_usd'].rank(ascending=False))\n",
    "top3_english['rank'] = pd.to_numeric(top3_english['rank'], downcast='integer')\n",
    "top3_english"
   ]
  },
  {
   "cell_type": "code",
   "execution_count": 1108,
   "metadata": {},
   "outputs": [
    {
     "name": "stdout",
     "output_type": "stream",
     "text": [
      "Country codes of top 3 English_speaking countries for the most suited funding type (venture) for Spark Funds:\n",
      "USA GBR IND "
     ]
    }
   ],
   "source": [
    "#Retaining the top 3 most investment-friendly English Speaking Countries for the most suited funding type (venture) \n",
    "#for Spark Funds\n",
    "\n",
    "#Print the names of top 3 English-speaking countries\n",
    "print(\"Country codes of top 3 English_speaking countries for the most suited funding type (venture) for Spark Funds:\")\n",
    "for row in top3_english.index: \n",
    "    print(row, end = \" \") "
   ]
  },
  {
   "cell_type": "markdown",
   "metadata": {},
   "source": [
    "Thus, the top 3 English-speaking countries for the most suitable funding type (venture) for Sparks Funds are **USA (United States), GBR (Great Britain) and IND (India).**"
   ]
  },
  {
   "cell_type": "code",
   "execution_count": 1109,
   "metadata": {
    "scrolled": true
   },
   "outputs": [
    {
     "data": {
      "text/html": [
       "<div>\n",
       "<style scoped>\n",
       "    .dataframe tbody tr th:only-of-type {\n",
       "        vertical-align: middle;\n",
       "    }\n",
       "\n",
       "    .dataframe tbody tr th {\n",
       "        vertical-align: top;\n",
       "    }\n",
       "\n",
       "    .dataframe thead th {\n",
       "        text-align: right;\n",
       "    }\n",
       "</style>\n",
       "<table border=\"1\" class=\"dataframe\">\n",
       "  <thead>\n",
       "    <tr style=\"text-align: right;\">\n",
       "      <th></th>\n",
       "      <th>company_permalink</th>\n",
       "      <th>funding_round_permalink</th>\n",
       "      <th>raised_amount_usd</th>\n",
       "      <th>name</th>\n",
       "      <th>category_list</th>\n",
       "      <th>country_code</th>\n",
       "    </tr>\n",
       "  </thead>\n",
       "  <tbody>\n",
       "    <tr>\n",
       "      <td>0</td>\n",
       "      <td>/organization/-fame</td>\n",
       "      <td>/funding-round/9a01d05418af9f794eebff7ace91f638</td>\n",
       "      <td>10000000.000</td>\n",
       "      <td>#fame</td>\n",
       "      <td>media</td>\n",
       "      <td>IND</td>\n",
       "    </tr>\n",
       "    <tr>\n",
       "      <td>10</td>\n",
       "      <td>/organization/0xdata</td>\n",
       "      <td>/funding-round/3bb2ee4a2d89251a10aaa735b1180e44</td>\n",
       "      <td>20000000.000</td>\n",
       "      <td>h2o.ai</td>\n",
       "      <td>analytics</td>\n",
       "      <td>USA</td>\n",
       "    </tr>\n",
       "    <tr>\n",
       "      <td>11</td>\n",
       "      <td>/organization/0xdata</td>\n",
       "      <td>/funding-round/ae2a174c06517c2394aed45006322a7e</td>\n",
       "      <td>1700000.000</td>\n",
       "      <td>h2o.ai</td>\n",
       "      <td>analytics</td>\n",
       "      <td>USA</td>\n",
       "    </tr>\n",
       "    <tr>\n",
       "      <td>12</td>\n",
       "      <td>/organization/0xdata</td>\n",
       "      <td>/funding-round/e1cfcbe1bdf4c70277c5f29a3482f24e</td>\n",
       "      <td>8900000.000</td>\n",
       "      <td>h2o.ai</td>\n",
       "      <td>analytics</td>\n",
       "      <td>USA</td>\n",
       "    </tr>\n",
       "    <tr>\n",
       "      <td>22</td>\n",
       "      <td>/organization/1-mainstream</td>\n",
       "      <td>/funding-round/b952cbaf401f310927430c97b68162ea</td>\n",
       "      <td>5000000.000</td>\n",
       "      <td>1 mainstream</td>\n",
       "      <td>apps|cable|distribution|software</td>\n",
       "      <td>USA</td>\n",
       "    </tr>\n",
       "  </tbody>\n",
       "</table>\n",
       "</div>"
      ],
      "text/plain": [
       "             company_permalink  \\\n",
       "0          /organization/-fame   \n",
       "10        /organization/0xdata   \n",
       "11        /organization/0xdata   \n",
       "12        /organization/0xdata   \n",
       "22  /organization/1-mainstream   \n",
       "\n",
       "                            funding_round_permalink  raised_amount_usd  \\\n",
       "0   /funding-round/9a01d05418af9f794eebff7ace91f638       10000000.000   \n",
       "10  /funding-round/3bb2ee4a2d89251a10aaa735b1180e44       20000000.000   \n",
       "11  /funding-round/ae2a174c06517c2394aed45006322a7e        1700000.000   \n",
       "12  /funding-round/e1cfcbe1bdf4c70277c5f29a3482f24e        8900000.000   \n",
       "22  /funding-round/b952cbaf401f310927430c97b68162ea        5000000.000   \n",
       "\n",
       "            name                     category_list country_code  \n",
       "0          #fame                             media          IND  \n",
       "10        h2o.ai                         analytics          USA  \n",
       "11        h2o.ai                         analytics          USA  \n",
       "12        h2o.ai                         analytics          USA  \n",
       "22  1 mainstream  apps|cable|distribution|software          USA  "
      ]
     },
     "execution_count": 1109,
     "metadata": {},
     "output_type": "execute_result"
    }
   ],
   "source": [
    "#Retaining only these 3 countries in the master_frame for venture type of investment\n",
    "master_frame = master_frame[(master_frame['country_code']==\"USA\") | (master_frame['country_code']==\"GBR\") | \\\n",
    "                            (master_frame['country_code']==\"IND\")]\n",
    "master_frame.head()"
   ]
  },
  {
   "cell_type": "code",
   "execution_count": 1110,
   "metadata": {},
   "outputs": [
    {
     "data": {
      "text/plain": [
       "(38803, 6)"
      ]
     },
     "execution_count": 1110,
     "metadata": {},
     "output_type": "execute_result"
    }
   ],
   "source": [
    "master_frame.shape"
   ]
  },
  {
   "cell_type": "markdown",
   "metadata": {},
   "source": [
    "# <font color='Royalblue4'> Checkpoint 4: Sector Analysis 1</font>"
   ]
  },
  {
   "cell_type": "code",
   "execution_count": 1111,
   "metadata": {},
   "outputs": [
    {
     "data": {
      "text/html": [
       "<div>\n",
       "<style scoped>\n",
       "    .dataframe tbody tr th:only-of-type {\n",
       "        vertical-align: middle;\n",
       "    }\n",
       "\n",
       "    .dataframe tbody tr th {\n",
       "        vertical-align: top;\n",
       "    }\n",
       "\n",
       "    .dataframe thead th {\n",
       "        text-align: right;\n",
       "    }\n",
       "</style>\n",
       "<table border=\"1\" class=\"dataframe\">\n",
       "  <thead>\n",
       "    <tr style=\"text-align: right;\">\n",
       "      <th></th>\n",
       "      <th>company_permalink</th>\n",
       "      <th>funding_round_permalink</th>\n",
       "      <th>raised_amount_usd</th>\n",
       "      <th>name</th>\n",
       "      <th>category_list</th>\n",
       "      <th>country_code</th>\n",
       "    </tr>\n",
       "  </thead>\n",
       "  <tbody>\n",
       "    <tr>\n",
       "      <td>0</td>\n",
       "      <td>/organization/-fame</td>\n",
       "      <td>/funding-round/9a01d05418af9f794eebff7ace91f638</td>\n",
       "      <td>10000000.000</td>\n",
       "      <td>#fame</td>\n",
       "      <td>media</td>\n",
       "      <td>IND</td>\n",
       "    </tr>\n",
       "    <tr>\n",
       "      <td>10</td>\n",
       "      <td>/organization/0xdata</td>\n",
       "      <td>/funding-round/3bb2ee4a2d89251a10aaa735b1180e44</td>\n",
       "      <td>20000000.000</td>\n",
       "      <td>h2o.ai</td>\n",
       "      <td>analytics</td>\n",
       "      <td>USA</td>\n",
       "    </tr>\n",
       "    <tr>\n",
       "      <td>11</td>\n",
       "      <td>/organization/0xdata</td>\n",
       "      <td>/funding-round/ae2a174c06517c2394aed45006322a7e</td>\n",
       "      <td>1700000.000</td>\n",
       "      <td>h2o.ai</td>\n",
       "      <td>analytics</td>\n",
       "      <td>USA</td>\n",
       "    </tr>\n",
       "    <tr>\n",
       "      <td>12</td>\n",
       "      <td>/organization/0xdata</td>\n",
       "      <td>/funding-round/e1cfcbe1bdf4c70277c5f29a3482f24e</td>\n",
       "      <td>8900000.000</td>\n",
       "      <td>h2o.ai</td>\n",
       "      <td>analytics</td>\n",
       "      <td>USA</td>\n",
       "    </tr>\n",
       "    <tr>\n",
       "      <td>22</td>\n",
       "      <td>/organization/1-mainstream</td>\n",
       "      <td>/funding-round/b952cbaf401f310927430c97b68162ea</td>\n",
       "      <td>5000000.000</td>\n",
       "      <td>1 mainstream</td>\n",
       "      <td>apps</td>\n",
       "      <td>USA</td>\n",
       "    </tr>\n",
       "    <tr>\n",
       "      <td>28</td>\n",
       "      <td>/organization/10-minutes-with</td>\n",
       "      <td>/funding-round/0faccbbcc5818dc5326469f13f5a8ac8</td>\n",
       "      <td>4000000.000</td>\n",
       "      <td>10 minutes with</td>\n",
       "      <td>education</td>\n",
       "      <td>GBR</td>\n",
       "    </tr>\n",
       "    <tr>\n",
       "      <td>34</td>\n",
       "      <td>/organization/1000memories</td>\n",
       "      <td>/funding-round/502bd0e50c27616995e4bdad24605ef8</td>\n",
       "      <td>2520000.000</td>\n",
       "      <td>1000memories</td>\n",
       "      <td>curated web</td>\n",
       "      <td>USA</td>\n",
       "    </tr>\n",
       "    <tr>\n",
       "      <td>38</td>\n",
       "      <td>/organization/1000museums-com</td>\n",
       "      <td>/funding-round/13be128d655076a025221d7fddc90d68</td>\n",
       "      <td>265940.000</td>\n",
       "      <td>1000museums.com</td>\n",
       "      <td>curated web</td>\n",
       "      <td>USA</td>\n",
       "    </tr>\n",
       "    <tr>\n",
       "      <td>39</td>\n",
       "      <td>/organization/1000museums-com</td>\n",
       "      <td>/funding-round/6aeb32ab3fc05db2b606d7a2466e8c09</td>\n",
       "      <td>2906832.000</td>\n",
       "      <td>1000museums.com</td>\n",
       "      <td>curated web</td>\n",
       "      <td>USA</td>\n",
       "    </tr>\n",
       "    <tr>\n",
       "      <td>41</td>\n",
       "      <td>/organization/1000museums-com</td>\n",
       "      <td>/funding-round/89317984885b44f02e4befb9dc2e588c</td>\n",
       "      <td>1500000.000</td>\n",
       "      <td>1000museums.com</td>\n",
       "      <td>curated web</td>\n",
       "      <td>USA</td>\n",
       "    </tr>\n",
       "  </tbody>\n",
       "</table>\n",
       "</div>"
      ],
      "text/plain": [
       "                company_permalink  \\\n",
       "0             /organization/-fame   \n",
       "10           /organization/0xdata   \n",
       "11           /organization/0xdata   \n",
       "12           /organization/0xdata   \n",
       "22     /organization/1-mainstream   \n",
       "28  /organization/10-minutes-with   \n",
       "34     /organization/1000memories   \n",
       "38  /organization/1000museums-com   \n",
       "39  /organization/1000museums-com   \n",
       "41  /organization/1000museums-com   \n",
       "\n",
       "                            funding_round_permalink  raised_amount_usd  \\\n",
       "0   /funding-round/9a01d05418af9f794eebff7ace91f638       10000000.000   \n",
       "10  /funding-round/3bb2ee4a2d89251a10aaa735b1180e44       20000000.000   \n",
       "11  /funding-round/ae2a174c06517c2394aed45006322a7e        1700000.000   \n",
       "12  /funding-round/e1cfcbe1bdf4c70277c5f29a3482f24e        8900000.000   \n",
       "22  /funding-round/b952cbaf401f310927430c97b68162ea        5000000.000   \n",
       "28  /funding-round/0faccbbcc5818dc5326469f13f5a8ac8        4000000.000   \n",
       "34  /funding-round/502bd0e50c27616995e4bdad24605ef8        2520000.000   \n",
       "38  /funding-round/13be128d655076a025221d7fddc90d68         265940.000   \n",
       "39  /funding-round/6aeb32ab3fc05db2b606d7a2466e8c09        2906832.000   \n",
       "41  /funding-round/89317984885b44f02e4befb9dc2e588c        1500000.000   \n",
       "\n",
       "               name category_list country_code  \n",
       "0             #fame         media          IND  \n",
       "10           h2o.ai     analytics          USA  \n",
       "11           h2o.ai     analytics          USA  \n",
       "12           h2o.ai     analytics          USA  \n",
       "22     1 mainstream          apps          USA  \n",
       "28  10 minutes with     education          GBR  \n",
       "34     1000memories   curated web          USA  \n",
       "38  1000museums.com   curated web          USA  \n",
       "39  1000museums.com   curated web          USA  \n",
       "41  1000museums.com   curated web          USA  "
      ]
     },
     "execution_count": 1111,
     "metadata": {},
     "output_type": "execute_result"
    }
   ],
   "source": [
    "#For the sector analysis, we have come up with the business rule that the first string \n",
    "#before the vertical bar ('|') will be considered the primary sector\n",
    "\n",
    "#1. Extracting the primary sector from the 'category_list' of the master_frame\n",
    "#Before that, let's create a shallow copy of the master_frame called 'venture_master_frame to avoid 'SettingsWithCopyWarning'\n",
    "#on subsequent iterations\n",
    "\n",
    "#venture_master_frame is derived from the master_frame for venture type of investment for top 3 English Speaking countries\n",
    "venture_master_frame = master_frame.copy()\n",
    "\n",
    "#Extracting primary sector\n",
    "venture_master_frame['category_list'] = venture_master_frame['category_list'].apply(lambda x: x.split('|')[0])\n",
    "\n",
    "#Display master_frame(10 obervations)\n",
    "venture_master_frame.head(10)"
   ]
  },
  {
   "cell_type": "code",
   "execution_count": 1112,
   "metadata": {},
   "outputs": [
    {
     "data": {
      "text/plain": [
       "(38803, 6)"
      ]
     },
     "execution_count": 1112,
     "metadata": {},
     "output_type": "execute_result"
    }
   ],
   "source": [
    "venture_master_frame.shape"
   ]
  },
  {
   "cell_type": "code",
   "execution_count": 1113,
   "metadata": {
    "scrolled": true
   },
   "outputs": [
    {
     "data": {
      "text/html": [
       "<div>\n",
       "<style scoped>\n",
       "    .dataframe tbody tr th:only-of-type {\n",
       "        vertical-align: middle;\n",
       "    }\n",
       "\n",
       "    .dataframe tbody tr th {\n",
       "        vertical-align: top;\n",
       "    }\n",
       "\n",
       "    .dataframe thead th {\n",
       "        text-align: right;\n",
       "    }\n",
       "</style>\n",
       "<table border=\"1\" class=\"dataframe\">\n",
       "  <thead>\n",
       "    <tr style=\"text-align: right;\">\n",
       "      <th></th>\n",
       "      <th>category_list</th>\n",
       "      <th>Automotive &amp; Sports</th>\n",
       "      <th>Blanks</th>\n",
       "      <th>Cleantech / Semiconductors</th>\n",
       "      <th>Entertainment</th>\n",
       "      <th>Health</th>\n",
       "      <th>Manufacturing</th>\n",
       "      <th>News, Search and Messaging</th>\n",
       "      <th>Others</th>\n",
       "      <th>Social, Finance, Analytics, Advertising</th>\n",
       "    </tr>\n",
       "  </thead>\n",
       "  <tbody>\n",
       "    <tr>\n",
       "      <td>1</td>\n",
       "      <td>3d</td>\n",
       "      <td>0</td>\n",
       "      <td>0</td>\n",
       "      <td>0</td>\n",
       "      <td>0</td>\n",
       "      <td>0</td>\n",
       "      <td>1</td>\n",
       "      <td>0</td>\n",
       "      <td>0</td>\n",
       "      <td>0</td>\n",
       "    </tr>\n",
       "    <tr>\n",
       "      <td>2</td>\n",
       "      <td>3d printing</td>\n",
       "      <td>0</td>\n",
       "      <td>0</td>\n",
       "      <td>0</td>\n",
       "      <td>0</td>\n",
       "      <td>0</td>\n",
       "      <td>1</td>\n",
       "      <td>0</td>\n",
       "      <td>0</td>\n",
       "      <td>0</td>\n",
       "    </tr>\n",
       "    <tr>\n",
       "      <td>3</td>\n",
       "      <td>3d technology</td>\n",
       "      <td>0</td>\n",
       "      <td>0</td>\n",
       "      <td>0</td>\n",
       "      <td>0</td>\n",
       "      <td>0</td>\n",
       "      <td>1</td>\n",
       "      <td>0</td>\n",
       "      <td>0</td>\n",
       "      <td>0</td>\n",
       "    </tr>\n",
       "    <tr>\n",
       "      <td>4</td>\n",
       "      <td>accounting</td>\n",
       "      <td>0</td>\n",
       "      <td>0</td>\n",
       "      <td>0</td>\n",
       "      <td>0</td>\n",
       "      <td>0</td>\n",
       "      <td>0</td>\n",
       "      <td>0</td>\n",
       "      <td>0</td>\n",
       "      <td>1</td>\n",
       "    </tr>\n",
       "    <tr>\n",
       "      <td>5</td>\n",
       "      <td>active lifestyle</td>\n",
       "      <td>0</td>\n",
       "      <td>0</td>\n",
       "      <td>0</td>\n",
       "      <td>0</td>\n",
       "      <td>1</td>\n",
       "      <td>0</td>\n",
       "      <td>0</td>\n",
       "      <td>0</td>\n",
       "      <td>0</td>\n",
       "    </tr>\n",
       "    <tr>\n",
       "      <td>6</td>\n",
       "      <td>ad targeting</td>\n",
       "      <td>0</td>\n",
       "      <td>0</td>\n",
       "      <td>0</td>\n",
       "      <td>0</td>\n",
       "      <td>0</td>\n",
       "      <td>0</td>\n",
       "      <td>0</td>\n",
       "      <td>0</td>\n",
       "      <td>1</td>\n",
       "    </tr>\n",
       "    <tr>\n",
       "      <td>7</td>\n",
       "      <td>advanced materials</td>\n",
       "      <td>0</td>\n",
       "      <td>0</td>\n",
       "      <td>0</td>\n",
       "      <td>0</td>\n",
       "      <td>0</td>\n",
       "      <td>1</td>\n",
       "      <td>0</td>\n",
       "      <td>0</td>\n",
       "      <td>0</td>\n",
       "    </tr>\n",
       "    <tr>\n",
       "      <td>8</td>\n",
       "      <td>adventure travel</td>\n",
       "      <td>1</td>\n",
       "      <td>0</td>\n",
       "      <td>0</td>\n",
       "      <td>0</td>\n",
       "      <td>0</td>\n",
       "      <td>0</td>\n",
       "      <td>0</td>\n",
       "      <td>0</td>\n",
       "      <td>0</td>\n",
       "    </tr>\n",
       "    <tr>\n",
       "      <td>9</td>\n",
       "      <td>advertising</td>\n",
       "      <td>0</td>\n",
       "      <td>0</td>\n",
       "      <td>0</td>\n",
       "      <td>0</td>\n",
       "      <td>0</td>\n",
       "      <td>0</td>\n",
       "      <td>0</td>\n",
       "      <td>0</td>\n",
       "      <td>1</td>\n",
       "    </tr>\n",
       "    <tr>\n",
       "      <td>10</td>\n",
       "      <td>advertising exchanges</td>\n",
       "      <td>0</td>\n",
       "      <td>0</td>\n",
       "      <td>0</td>\n",
       "      <td>0</td>\n",
       "      <td>0</td>\n",
       "      <td>0</td>\n",
       "      <td>0</td>\n",
       "      <td>0</td>\n",
       "      <td>1</td>\n",
       "    </tr>\n",
       "  </tbody>\n",
       "</table>\n",
       "</div>"
      ],
      "text/plain": [
       "            category_list  Automotive & Sports  Blanks  \\\n",
       "1                      3d                    0       0   \n",
       "2             3d printing                    0       0   \n",
       "3           3d technology                    0       0   \n",
       "4              accounting                    0       0   \n",
       "5        active lifestyle                    0       0   \n",
       "6            ad targeting                    0       0   \n",
       "7      advanced materials                    0       0   \n",
       "8        adventure travel                    1       0   \n",
       "9             advertising                    0       0   \n",
       "10  advertising exchanges                    0       0   \n",
       "\n",
       "    Cleantech / Semiconductors  Entertainment  Health  Manufacturing  \\\n",
       "1                            0              0       0              1   \n",
       "2                            0              0       0              1   \n",
       "3                            0              0       0              1   \n",
       "4                            0              0       0              0   \n",
       "5                            0              0       1              0   \n",
       "6                            0              0       0              0   \n",
       "7                            0              0       0              1   \n",
       "8                            0              0       0              0   \n",
       "9                            0              0       0              0   \n",
       "10                           0              0       0              0   \n",
       "\n",
       "    News, Search and Messaging  Others  \\\n",
       "1                            0       0   \n",
       "2                            0       0   \n",
       "3                            0       0   \n",
       "4                            0       0   \n",
       "5                            0       0   \n",
       "6                            0       0   \n",
       "7                            0       0   \n",
       "8                            0       0   \n",
       "9                            0       0   \n",
       "10                           0       0   \n",
       "\n",
       "    Social, Finance, Analytics, Advertising  \n",
       "1                                         0  \n",
       "2                                         0  \n",
       "3                                         0  \n",
       "4                                         1  \n",
       "5                                         0  \n",
       "6                                         1  \n",
       "7                                         0  \n",
       "8                                         0  \n",
       "9                                         1  \n",
       "10                                        1  "
      ]
     },
     "execution_count": 1113,
     "metadata": {},
     "output_type": "execute_result"
    }
   ],
   "source": [
    "#file path for mapping.csv file\n",
    "file_path_mapping = r\"C:\\Users\\Chaitanya\\Desktop\\UpGrad\\2. Statistics Essentials\\4. Assignment\\mapping.csv\"\n",
    "\n",
    "#Reading mapping.csv file\n",
    "mapping = pd.read_csv(file_path_mapping, encoding=\"ISO-8859-1\")\n",
    "\n",
    "#Replacing content within the mapping file\n",
    "mapping['category_list'] = mapping['category_list'].replace({'0':'na'}, regex=True)\n",
    "\n",
    "#Proper str.encode() and str.decode() to get proper output in ascii\n",
    "mapping['category_list'] = mapping['category_list'].str.encode('ISO-8859-1').str.decode('ascii','ignore').str.lower()\n",
    "\n",
    "#Removing null observations from the category_list\n",
    "mapping = mapping[~(mapping['category_list'].isnull())]\n",
    "\n",
    "mapping.head(10)"
   ]
  },
  {
   "cell_type": "code",
   "execution_count": 1114,
   "metadata": {},
   "outputs": [
    {
     "name": "stdout",
     "output_type": "stream",
     "text": [
      "687\n"
     ]
    }
   ],
   "source": [
    "#Total number of observtions in the mapping dataframe\n",
    "print(len(mapping.index))"
   ]
  },
  {
   "cell_type": "code",
   "execution_count": 1115,
   "metadata": {
    "scrolled": true
   },
   "outputs": [
    {
     "data": {
      "text/plain": [
       "0    687\n",
       "Name: Blanks, dtype: int64"
      ]
     },
     "execution_count": 1115,
     "metadata": {},
     "output_type": "execute_result"
    }
   ],
   "source": [
    "#Checking the number of '0' in 'Blanks' column of 'mapping' dataframe\n",
    "mapping['Blanks'].value_counts()"
   ]
  },
  {
   "cell_type": "code",
   "execution_count": 1116,
   "metadata": {
    "scrolled": true
   },
   "outputs": [
    {
     "data": {
      "text/html": [
       "<div>\n",
       "<style scoped>\n",
       "    .dataframe tbody tr th:only-of-type {\n",
       "        vertical-align: middle;\n",
       "    }\n",
       "\n",
       "    .dataframe tbody tr th {\n",
       "        vertical-align: top;\n",
       "    }\n",
       "\n",
       "    .dataframe thead th {\n",
       "        text-align: right;\n",
       "    }\n",
       "</style>\n",
       "<table border=\"1\" class=\"dataframe\">\n",
       "  <thead>\n",
       "    <tr style=\"text-align: right;\">\n",
       "      <th></th>\n",
       "      <th>category_list</th>\n",
       "      <th>Automotive &amp; Sports</th>\n",
       "      <th>Cleantech / Semiconductors</th>\n",
       "      <th>Entertainment</th>\n",
       "      <th>Health</th>\n",
       "      <th>Manufacturing</th>\n",
       "      <th>News, Search and Messaging</th>\n",
       "      <th>Others</th>\n",
       "      <th>Social, Finance, Analytics, Advertising</th>\n",
       "    </tr>\n",
       "  </thead>\n",
       "  <tbody>\n",
       "    <tr>\n",
       "      <td>1</td>\n",
       "      <td>3d</td>\n",
       "      <td>0</td>\n",
       "      <td>0</td>\n",
       "      <td>0</td>\n",
       "      <td>0</td>\n",
       "      <td>1</td>\n",
       "      <td>0</td>\n",
       "      <td>0</td>\n",
       "      <td>0</td>\n",
       "    </tr>\n",
       "    <tr>\n",
       "      <td>2</td>\n",
       "      <td>3d printing</td>\n",
       "      <td>0</td>\n",
       "      <td>0</td>\n",
       "      <td>0</td>\n",
       "      <td>0</td>\n",
       "      <td>1</td>\n",
       "      <td>0</td>\n",
       "      <td>0</td>\n",
       "      <td>0</td>\n",
       "    </tr>\n",
       "    <tr>\n",
       "      <td>3</td>\n",
       "      <td>3d technology</td>\n",
       "      <td>0</td>\n",
       "      <td>0</td>\n",
       "      <td>0</td>\n",
       "      <td>0</td>\n",
       "      <td>1</td>\n",
       "      <td>0</td>\n",
       "      <td>0</td>\n",
       "      <td>0</td>\n",
       "    </tr>\n",
       "    <tr>\n",
       "      <td>4</td>\n",
       "      <td>accounting</td>\n",
       "      <td>0</td>\n",
       "      <td>0</td>\n",
       "      <td>0</td>\n",
       "      <td>0</td>\n",
       "      <td>0</td>\n",
       "      <td>0</td>\n",
       "      <td>0</td>\n",
       "      <td>1</td>\n",
       "    </tr>\n",
       "    <tr>\n",
       "      <td>5</td>\n",
       "      <td>active lifestyle</td>\n",
       "      <td>0</td>\n",
       "      <td>0</td>\n",
       "      <td>0</td>\n",
       "      <td>1</td>\n",
       "      <td>0</td>\n",
       "      <td>0</td>\n",
       "      <td>0</td>\n",
       "      <td>0</td>\n",
       "    </tr>\n",
       "    <tr>\n",
       "      <td>6</td>\n",
       "      <td>ad targeting</td>\n",
       "      <td>0</td>\n",
       "      <td>0</td>\n",
       "      <td>0</td>\n",
       "      <td>0</td>\n",
       "      <td>0</td>\n",
       "      <td>0</td>\n",
       "      <td>0</td>\n",
       "      <td>1</td>\n",
       "    </tr>\n",
       "    <tr>\n",
       "      <td>7</td>\n",
       "      <td>advanced materials</td>\n",
       "      <td>0</td>\n",
       "      <td>0</td>\n",
       "      <td>0</td>\n",
       "      <td>0</td>\n",
       "      <td>1</td>\n",
       "      <td>0</td>\n",
       "      <td>0</td>\n",
       "      <td>0</td>\n",
       "    </tr>\n",
       "    <tr>\n",
       "      <td>8</td>\n",
       "      <td>adventure travel</td>\n",
       "      <td>1</td>\n",
       "      <td>0</td>\n",
       "      <td>0</td>\n",
       "      <td>0</td>\n",
       "      <td>0</td>\n",
       "      <td>0</td>\n",
       "      <td>0</td>\n",
       "      <td>0</td>\n",
       "    </tr>\n",
       "    <tr>\n",
       "      <td>9</td>\n",
       "      <td>advertising</td>\n",
       "      <td>0</td>\n",
       "      <td>0</td>\n",
       "      <td>0</td>\n",
       "      <td>0</td>\n",
       "      <td>0</td>\n",
       "      <td>0</td>\n",
       "      <td>0</td>\n",
       "      <td>1</td>\n",
       "    </tr>\n",
       "    <tr>\n",
       "      <td>10</td>\n",
       "      <td>advertising exchanges</td>\n",
       "      <td>0</td>\n",
       "      <td>0</td>\n",
       "      <td>0</td>\n",
       "      <td>0</td>\n",
       "      <td>0</td>\n",
       "      <td>0</td>\n",
       "      <td>0</td>\n",
       "      <td>1</td>\n",
       "    </tr>\n",
       "  </tbody>\n",
       "</table>\n",
       "</div>"
      ],
      "text/plain": [
       "            category_list  Automotive & Sports  Cleantech / Semiconductors  \\\n",
       "1                      3d                    0                           0   \n",
       "2             3d printing                    0                           0   \n",
       "3           3d technology                    0                           0   \n",
       "4              accounting                    0                           0   \n",
       "5        active lifestyle                    0                           0   \n",
       "6            ad targeting                    0                           0   \n",
       "7      advanced materials                    0                           0   \n",
       "8        adventure travel                    1                           0   \n",
       "9             advertising                    0                           0   \n",
       "10  advertising exchanges                    0                           0   \n",
       "\n",
       "    Entertainment  Health  Manufacturing  News, Search and Messaging  Others  \\\n",
       "1               0       0              1                           0       0   \n",
       "2               0       0              1                           0       0   \n",
       "3               0       0              1                           0       0   \n",
       "4               0       0              0                           0       0   \n",
       "5               0       1              0                           0       0   \n",
       "6               0       0              0                           0       0   \n",
       "7               0       0              1                           0       0   \n",
       "8               0       0              0                           0       0   \n",
       "9               0       0              0                           0       0   \n",
       "10              0       0              0                           0       0   \n",
       "\n",
       "    Social, Finance, Analytics, Advertising  \n",
       "1                                         0  \n",
       "2                                         0  \n",
       "3                                         0  \n",
       "4                                         1  \n",
       "5                                         0  \n",
       "6                                         1  \n",
       "7                                         0  \n",
       "8                                         0  \n",
       "9                                         1  \n",
       "10                                        1  "
      ]
     },
     "execution_count": 1116,
     "metadata": {},
     "output_type": "execute_result"
    }
   ],
   "source": [
    "#Total number of '0' and the total no. of observations in the 'mapping' dataframe are 687.\n",
    "#Hence, dropping the 'Blanks' column from 'mapping' dataframe, as it has 100% '0' values\n",
    "mapping = mapping.drop('Blanks', axis=1)\n",
    "mapping.head(10)"
   ]
  },
  {
   "cell_type": "markdown",
   "metadata": {},
   "source": [
    "Here we use the mapping file 'mapping.csv' to map each primary sector to one of the eight main sectors (Note that ‘Others’ is also considered one of the main sectors). Now we are only left with eight main sectors after dropping 'Blanks'."
   ]
  },
  {
   "cell_type": "code",
   "execution_count": 1117,
   "metadata": {
    "scrolled": true
   },
   "outputs": [
    {
     "data": {
      "text/html": [
       "<div>\n",
       "<style scoped>\n",
       "    .dataframe tbody tr th:only-of-type {\n",
       "        vertical-align: middle;\n",
       "    }\n",
       "\n",
       "    .dataframe tbody tr th {\n",
       "        vertical-align: top;\n",
       "    }\n",
       "\n",
       "    .dataframe thead th {\n",
       "        text-align: right;\n",
       "    }\n",
       "</style>\n",
       "<table border=\"1\" class=\"dataframe\">\n",
       "  <thead>\n",
       "    <tr style=\"text-align: right;\">\n",
       "      <th></th>\n",
       "      <th>category_list</th>\n",
       "      <th>main_sector</th>\n",
       "    </tr>\n",
       "  </thead>\n",
       "  <tbody>\n",
       "    <tr>\n",
       "      <td>7</td>\n",
       "      <td>adventure travel</td>\n",
       "      <td>automotive &amp; sports</td>\n",
       "    </tr>\n",
       "    <tr>\n",
       "      <td>13</td>\n",
       "      <td>aerospace</td>\n",
       "      <td>automotive &amp; sports</td>\n",
       "    </tr>\n",
       "    <tr>\n",
       "      <td>44</td>\n",
       "      <td>auto</td>\n",
       "      <td>automotive &amp; sports</td>\n",
       "    </tr>\n",
       "    <tr>\n",
       "      <td>45</td>\n",
       "      <td>automated kiosk</td>\n",
       "      <td>automotive &amp; sports</td>\n",
       "    </tr>\n",
       "    <tr>\n",
       "      <td>46</td>\n",
       "      <td>automotive</td>\n",
       "      <td>automotive &amp; sports</td>\n",
       "    </tr>\n",
       "  </tbody>\n",
       "</table>\n",
       "</div>"
      ],
      "text/plain": [
       "       category_list          main_sector\n",
       "7   adventure travel  automotive & sports\n",
       "13         aerospace  automotive & sports\n",
       "44              auto  automotive & sports\n",
       "45   automated kiosk  automotive & sports\n",
       "46        automotive  automotive & sports"
      ]
     },
     "execution_count": 1117,
     "metadata": {},
     "output_type": "execute_result"
    }
   ],
   "source": [
    "#Using melt() function to unpivot the 'mapping' file and get the 'main_sector' column\n",
    "pd.set_option('display.max_columns', 5400)\n",
    "\n",
    "#In the melt() function, we won't declare 'value_vars' as we need all the columns (considered by default)\n",
    "#Note, we have already dropped the column 'Blanks'. So, now we need all the other columns.\n",
    "mapping = pd.melt(mapping, id_vars = ['category_list'], var_name='main_sector')\n",
    "\n",
    "#Retain category list with value=1 (True) implies the presence of the primary sector (category_list) and its main sector\n",
    "mapping = mapping[~(mapping['value'] == 0)]\n",
    "\n",
    "#Dropping the 'value' column from mapping DataFrame as all the values having value=1 are retained in the dataframe\n",
    "#Meaning, now we have primary sectors corresponding to its main sectors in the mapping dataframe\n",
    "mapping = mapping.drop('value',axis=1)\n",
    "\n",
    "#Proper str.encode() and str.decode() to get proper output in ascii\n",
    "mapping['main_sector'] = mapping['main_sector'].str.encode('ISO-8859-1').str.decode('ascii','ignore').str.lower()\n",
    "\n",
    "mapping.head()"
   ]
  },
  {
   "cell_type": "code",
   "execution_count": 1118,
   "metadata": {},
   "outputs": [
    {
     "data": {
      "text/plain": [
       "(687, 2)"
      ]
     },
     "execution_count": 1118,
     "metadata": {},
     "output_type": "execute_result"
    }
   ],
   "source": [
    "mapping.shape"
   ]
  },
  {
   "cell_type": "code",
   "execution_count": 1119,
   "metadata": {},
   "outputs": [
    {
     "name": "stdout",
     "output_type": "stream",
     "text": [
      "Number of unique primary sectors in venture_master_frame: 563\n",
      "Number of unique primary sectors in mapping: 687\n"
     ]
    }
   ],
   "source": [
    "#Check for uniqueness in primary sectors of both the dataframes, venture_master_frame and mapping.\n",
    "\n",
    "temp1=set(venture_master_frame['category_list'])\n",
    "temp2=set(mapping['category_list'])\n",
    "\n",
    "print('Number of unique primary sectors in venture_master_frame:',len(temp1))\n",
    "print('Number of unique primary sectors in mapping:',len(temp2))"
   ]
  },
  {
   "cell_type": "code",
   "execution_count": 1120,
   "metadata": {},
   "outputs": [
    {
     "data": {
      "text/html": [
       "<div>\n",
       "<style scoped>\n",
       "    .dataframe tbody tr th:only-of-type {\n",
       "        vertical-align: middle;\n",
       "    }\n",
       "\n",
       "    .dataframe tbody tr th {\n",
       "        vertical-align: top;\n",
       "    }\n",
       "\n",
       "    .dataframe thead th {\n",
       "        text-align: right;\n",
       "    }\n",
       "</style>\n",
       "<table border=\"1\" class=\"dataframe\">\n",
       "  <thead>\n",
       "    <tr style=\"text-align: right;\">\n",
       "      <th></th>\n",
       "      <th>company_permalink</th>\n",
       "      <th>funding_round_permalink</th>\n",
       "      <th>raised_amount_usd</th>\n",
       "      <th>name</th>\n",
       "      <th>category_list</th>\n",
       "      <th>country_code</th>\n",
       "      <th>main_sector</th>\n",
       "    </tr>\n",
       "  </thead>\n",
       "  <tbody>\n",
       "    <tr>\n",
       "      <td>0</td>\n",
       "      <td>/organization/-fame</td>\n",
       "      <td>/funding-round/9a01d05418af9f794eebff7ace91f638</td>\n",
       "      <td>10000000.000</td>\n",
       "      <td>#fame</td>\n",
       "      <td>media</td>\n",
       "      <td>IND</td>\n",
       "      <td>entertainment</td>\n",
       "    </tr>\n",
       "    <tr>\n",
       "      <td>1</td>\n",
       "      <td>/organization/0xdata</td>\n",
       "      <td>/funding-round/3bb2ee4a2d89251a10aaa735b1180e44</td>\n",
       "      <td>20000000.000</td>\n",
       "      <td>h2o.ai</td>\n",
       "      <td>analytics</td>\n",
       "      <td>USA</td>\n",
       "      <td>social, finance, analytics, advertising</td>\n",
       "    </tr>\n",
       "    <tr>\n",
       "      <td>2</td>\n",
       "      <td>/organization/0xdata</td>\n",
       "      <td>/funding-round/ae2a174c06517c2394aed45006322a7e</td>\n",
       "      <td>1700000.000</td>\n",
       "      <td>h2o.ai</td>\n",
       "      <td>analytics</td>\n",
       "      <td>USA</td>\n",
       "      <td>social, finance, analytics, advertising</td>\n",
       "    </tr>\n",
       "    <tr>\n",
       "      <td>3</td>\n",
       "      <td>/organization/0xdata</td>\n",
       "      <td>/funding-round/e1cfcbe1bdf4c70277c5f29a3482f24e</td>\n",
       "      <td>8900000.000</td>\n",
       "      <td>h2o.ai</td>\n",
       "      <td>analytics</td>\n",
       "      <td>USA</td>\n",
       "      <td>social, finance, analytics, advertising</td>\n",
       "    </tr>\n",
       "    <tr>\n",
       "      <td>4</td>\n",
       "      <td>/organization/1-mainstream</td>\n",
       "      <td>/funding-round/b952cbaf401f310927430c97b68162ea</td>\n",
       "      <td>5000000.000</td>\n",
       "      <td>1 mainstream</td>\n",
       "      <td>apps</td>\n",
       "      <td>USA</td>\n",
       "      <td>news, search and messaging</td>\n",
       "    </tr>\n",
       "  </tbody>\n",
       "</table>\n",
       "</div>"
      ],
      "text/plain": [
       "            company_permalink  \\\n",
       "0         /organization/-fame   \n",
       "1        /organization/0xdata   \n",
       "2        /organization/0xdata   \n",
       "3        /organization/0xdata   \n",
       "4  /organization/1-mainstream   \n",
       "\n",
       "                           funding_round_permalink  raised_amount_usd  \\\n",
       "0  /funding-round/9a01d05418af9f794eebff7ace91f638       10000000.000   \n",
       "1  /funding-round/3bb2ee4a2d89251a10aaa735b1180e44       20000000.000   \n",
       "2  /funding-round/ae2a174c06517c2394aed45006322a7e        1700000.000   \n",
       "3  /funding-round/e1cfcbe1bdf4c70277c5f29a3482f24e        8900000.000   \n",
       "4  /funding-round/b952cbaf401f310927430c97b68162ea        5000000.000   \n",
       "\n",
       "           name category_list country_code  \\\n",
       "0         #fame         media          IND   \n",
       "1        h2o.ai     analytics          USA   \n",
       "2        h2o.ai     analytics          USA   \n",
       "3        h2o.ai     analytics          USA   \n",
       "4  1 mainstream          apps          USA   \n",
       "\n",
       "                               main_sector  \n",
       "0                            entertainment  \n",
       "1  social, finance, analytics, advertising  \n",
       "2  social, finance, analytics, advertising  \n",
       "3  social, finance, analytics, advertising  \n",
       "4               news, search and messaging  "
      ]
     },
     "execution_count": 1120,
     "metadata": {},
     "output_type": "execute_result"
    }
   ],
   "source": [
    "#Merging the mapping.csv and master_frame (venture_master_frame)\n",
    "venture_master_frame = venture_master_frame.merge(mapping, how = 'left', on ='category_list')\n",
    "venture_master_frame.head()"
   ]
  },
  {
   "cell_type": "code",
   "execution_count": 1121,
   "metadata": {},
   "outputs": [
    {
     "name": "stdout",
     "output_type": "stream",
     "text": [
      "Number of unique primary sectors in venture_master_frame: 563\n"
     ]
    }
   ],
   "source": [
    "#Number of distinct primary sectors in category_list\n",
    "temp= set(venture_master_frame['category_list'])\n",
    "print('Number of unique primary sectors in venture_master_frame:',len(temp))"
   ]
  },
  {
   "cell_type": "code",
   "execution_count": 1122,
   "metadata": {},
   "outputs": [
    {
     "name": "stdout",
     "output_type": "stream",
     "text": [
      "<class 'pandas.core.frame.DataFrame'>\n",
      "Int64Index: 38803 entries, 0 to 38802\n",
      "Data columns (total 7 columns):\n",
      "company_permalink          38803 non-null object\n",
      "funding_round_permalink    38803 non-null object\n",
      "raised_amount_usd          38803 non-null float64\n",
      "name                       38803 non-null object\n",
      "category_list              38803 non-null object\n",
      "country_code               38803 non-null object\n",
      "main_sector                38788 non-null object\n",
      "dtypes: float64(1), object(6)\n",
      "memory usage: 2.4+ MB\n"
     ]
    }
   ],
   "source": [
    "venture_master_frame.info()"
   ]
  },
  {
   "cell_type": "code",
   "execution_count": 1123,
   "metadata": {},
   "outputs": [
    {
     "data": {
      "text/plain": [
       "(38803, 7)"
      ]
     },
     "execution_count": 1123,
     "metadata": {},
     "output_type": "execute_result"
    }
   ],
   "source": [
    "venture_master_frame.shape"
   ]
  },
  {
   "cell_type": "code",
   "execution_count": 1124,
   "metadata": {},
   "outputs": [
    {
     "data": {
      "text/plain": [
       "15"
      ]
     },
     "execution_count": 1124,
     "metadata": {},
     "output_type": "execute_result"
    }
   ],
   "source": [
    "#Finding if Null values are present in the main_sector\n",
    "venture_master_frame['main_sector'].isnull().sum()"
   ]
  },
  {
   "cell_type": "code",
   "execution_count": 1125,
   "metadata": {
    "scrolled": true
   },
   "outputs": [
    {
     "data": {
      "text/html": [
       "<div>\n",
       "<style scoped>\n",
       "    .dataframe tbody tr th:only-of-type {\n",
       "        vertical-align: middle;\n",
       "    }\n",
       "\n",
       "    .dataframe tbody tr th {\n",
       "        vertical-align: top;\n",
       "    }\n",
       "\n",
       "    .dataframe thead th {\n",
       "        text-align: right;\n",
       "    }\n",
       "</style>\n",
       "<table border=\"1\" class=\"dataframe\">\n",
       "  <thead>\n",
       "    <tr style=\"text-align: right;\">\n",
       "      <th></th>\n",
       "      <th>company_permalink</th>\n",
       "      <th>funding_round_permalink</th>\n",
       "      <th>raised_amount_usd</th>\n",
       "      <th>name</th>\n",
       "      <th>category_list</th>\n",
       "      <th>country_code</th>\n",
       "      <th>main_sector</th>\n",
       "    </tr>\n",
       "  </thead>\n",
       "  <tbody>\n",
       "    <tr>\n",
       "      <td>7345</td>\n",
       "      <td>/organization/clean-vehicle-solutions</td>\n",
       "      <td>/funding-round/7b991c526219c2edff8789942215d93b</td>\n",
       "      <td>125000.000</td>\n",
       "      <td>clean vehicle solutions</td>\n",
       "      <td>natural gas uses</td>\n",
       "      <td>USA</td>\n",
       "      <td>NaN</td>\n",
       "    </tr>\n",
       "    <tr>\n",
       "      <td>8258</td>\n",
       "      <td>/organization/consensus-point</td>\n",
       "      <td>/funding-round/11ad1d209af6e06e87467f3432aa735f</td>\n",
       "      <td>788374.000</td>\n",
       "      <td>consensus point</td>\n",
       "      <td>enterprise 2.0</td>\n",
       "      <td>USA</td>\n",
       "      <td>NaN</td>\n",
       "    </tr>\n",
       "    <tr>\n",
       "      <td>8259</td>\n",
       "      <td>/organization/consensus-point</td>\n",
       "      <td>/funding-round/7cdac9335cdc78285e8dcd1932f8729b</td>\n",
       "      <td>2600000.000</td>\n",
       "      <td>consensus point</td>\n",
       "      <td>enterprise 2.0</td>\n",
       "      <td>USA</td>\n",
       "      <td>NaN</td>\n",
       "    </tr>\n",
       "    <tr>\n",
       "      <td>10162</td>\n",
       "      <td>/organization/dolores-speech-products</td>\n",
       "      <td>/funding-round/ba7393d89b2a5ad0c076e2295794c4ce</td>\n",
       "      <td>250000.000</td>\n",
       "      <td>dolores speech products</td>\n",
       "      <td>adaptive equipment</td>\n",
       "      <td>USA</td>\n",
       "      <td>NaN</td>\n",
       "    </tr>\n",
       "    <tr>\n",
       "      <td>12375</td>\n",
       "      <td>/organization/fia-formula-e</td>\n",
       "      <td>/funding-round/19a09624fcf806a4a64809462a4e391c</td>\n",
       "      <td>68569234.000</td>\n",
       "      <td>fia formula e</td>\n",
       "      <td>racing</td>\n",
       "      <td>GBR</td>\n",
       "      <td>NaN</td>\n",
       "    </tr>\n",
       "  </tbody>\n",
       "</table>\n",
       "</div>"
      ],
      "text/plain": [
       "                           company_permalink  \\\n",
       "7345   /organization/clean-vehicle-solutions   \n",
       "8258           /organization/consensus-point   \n",
       "8259           /organization/consensus-point   \n",
       "10162  /organization/dolores-speech-products   \n",
       "12375            /organization/fia-formula-e   \n",
       "\n",
       "                               funding_round_permalink  raised_amount_usd  \\\n",
       "7345   /funding-round/7b991c526219c2edff8789942215d93b         125000.000   \n",
       "8258   /funding-round/11ad1d209af6e06e87467f3432aa735f         788374.000   \n",
       "8259   /funding-round/7cdac9335cdc78285e8dcd1932f8729b        2600000.000   \n",
       "10162  /funding-round/ba7393d89b2a5ad0c076e2295794c4ce         250000.000   \n",
       "12375  /funding-round/19a09624fcf806a4a64809462a4e391c       68569234.000   \n",
       "\n",
       "                          name       category_list country_code main_sector  \n",
       "7345   clean vehicle solutions    natural gas uses          USA         NaN  \n",
       "8258           consensus point      enterprise 2.0          USA         NaN  \n",
       "8259           consensus point      enterprise 2.0          USA         NaN  \n",
       "10162  dolores speech products  adaptive equipment          USA         NaN  \n",
       "12375            fia formula e              racing          GBR         NaN  "
      ]
     },
     "execution_count": 1125,
     "metadata": {},
     "output_type": "execute_result"
    }
   ],
   "source": [
    "#Finding the unique primary sectors from category_list which don't have a main_sector \n",
    "#(15 observations total: NaN in main_sector)\n",
    "\n",
    "venture_master_frame[venture_master_frame['main_sector'].isnull()].head(5)"
   ]
  },
  {
   "cell_type": "code",
   "execution_count": 1126,
   "metadata": {
    "scrolled": true
   },
   "outputs": [
    {
     "name": "stdout",
     "output_type": "stream",
     "text": [
      "Unique entries of primary sector in the category_list that don't have a main sector:\n",
      "['natural gas uses' 'enterprise 2.0' 'adaptive equipment' 'racing'\n",
      " 'specialty retail' 'biotechnology and semiconductor' 'rapidly expanding'\n",
      " 'product search' 'greentech' 'retirement']\n",
      "\n",
      "Number of unique entries of primary sector in the category_list that don't have a main sector: 10\n"
     ]
    }
   ],
   "source": [
    "#Unique entries in category_list (primary sectors) that don't have a main sector\n",
    "print(\"Unique entries of primary sector in the category_list that don't have a main sector:\")\n",
    "print(venture_master_frame[venture_master_frame['main_sector'].isnull()]['category_list'].unique())\n",
    "\n",
    "#Number of unique entries of primary sector\n",
    "print(\"\\nNumber of unique entries of primary sector in the category_list that don't have a main sector:\",\\\n",
    "      venture_master_frame[venture_master_frame['main_sector'].isnull()]['category_list'].nunique())"
   ]
  },
  {
   "cell_type": "code",
   "execution_count": 1127,
   "metadata": {},
   "outputs": [
    {
     "data": {
      "text/html": [
       "<div>\n",
       "<style scoped>\n",
       "    .dataframe tbody tr th:only-of-type {\n",
       "        vertical-align: middle;\n",
       "    }\n",
       "\n",
       "    .dataframe tbody tr th {\n",
       "        vertical-align: top;\n",
       "    }\n",
       "\n",
       "    .dataframe thead th {\n",
       "        text-align: right;\n",
       "    }\n",
       "</style>\n",
       "<table border=\"1\" class=\"dataframe\">\n",
       "  <thead>\n",
       "    <tr style=\"text-align: right;\">\n",
       "      <th></th>\n",
       "      <th>company_permalink</th>\n",
       "      <th>funding_round_permalink</th>\n",
       "      <th>raised_amount_usd</th>\n",
       "      <th>name</th>\n",
       "      <th>category_list</th>\n",
       "      <th>country_code</th>\n",
       "      <th>main_sector</th>\n",
       "    </tr>\n",
       "  </thead>\n",
       "  <tbody>\n",
       "    <tr>\n",
       "      <td>0</td>\n",
       "      <td>/organization/-fame</td>\n",
       "      <td>/funding-round/9a01d05418af9f794eebff7ace91f638</td>\n",
       "      <td>10000000.000</td>\n",
       "      <td>#fame</td>\n",
       "      <td>media</td>\n",
       "      <td>IND</td>\n",
       "      <td>entertainment</td>\n",
       "    </tr>\n",
       "    <tr>\n",
       "      <td>1</td>\n",
       "      <td>/organization/0xdata</td>\n",
       "      <td>/funding-round/3bb2ee4a2d89251a10aaa735b1180e44</td>\n",
       "      <td>20000000.000</td>\n",
       "      <td>h2o.ai</td>\n",
       "      <td>analytics</td>\n",
       "      <td>USA</td>\n",
       "      <td>social, finance, analytics, advertising</td>\n",
       "    </tr>\n",
       "    <tr>\n",
       "      <td>2</td>\n",
       "      <td>/organization/0xdata</td>\n",
       "      <td>/funding-round/ae2a174c06517c2394aed45006322a7e</td>\n",
       "      <td>1700000.000</td>\n",
       "      <td>h2o.ai</td>\n",
       "      <td>analytics</td>\n",
       "      <td>USA</td>\n",
       "      <td>social, finance, analytics, advertising</td>\n",
       "    </tr>\n",
       "    <tr>\n",
       "      <td>3</td>\n",
       "      <td>/organization/0xdata</td>\n",
       "      <td>/funding-round/e1cfcbe1bdf4c70277c5f29a3482f24e</td>\n",
       "      <td>8900000.000</td>\n",
       "      <td>h2o.ai</td>\n",
       "      <td>analytics</td>\n",
       "      <td>USA</td>\n",
       "      <td>social, finance, analytics, advertising</td>\n",
       "    </tr>\n",
       "    <tr>\n",
       "      <td>4</td>\n",
       "      <td>/organization/1-mainstream</td>\n",
       "      <td>/funding-round/b952cbaf401f310927430c97b68162ea</td>\n",
       "      <td>5000000.000</td>\n",
       "      <td>1 mainstream</td>\n",
       "      <td>apps</td>\n",
       "      <td>USA</td>\n",
       "      <td>news, search and messaging</td>\n",
       "    </tr>\n",
       "  </tbody>\n",
       "</table>\n",
       "</div>"
      ],
      "text/plain": [
       "            company_permalink  \\\n",
       "0         /organization/-fame   \n",
       "1        /organization/0xdata   \n",
       "2        /organization/0xdata   \n",
       "3        /organization/0xdata   \n",
       "4  /organization/1-mainstream   \n",
       "\n",
       "                           funding_round_permalink  raised_amount_usd  \\\n",
       "0  /funding-round/9a01d05418af9f794eebff7ace91f638       10000000.000   \n",
       "1  /funding-round/3bb2ee4a2d89251a10aaa735b1180e44       20000000.000   \n",
       "2  /funding-round/ae2a174c06517c2394aed45006322a7e        1700000.000   \n",
       "3  /funding-round/e1cfcbe1bdf4c70277c5f29a3482f24e        8900000.000   \n",
       "4  /funding-round/b952cbaf401f310927430c97b68162ea        5000000.000   \n",
       "\n",
       "           name category_list country_code  \\\n",
       "0         #fame         media          IND   \n",
       "1        h2o.ai     analytics          USA   \n",
       "2        h2o.ai     analytics          USA   \n",
       "3        h2o.ai     analytics          USA   \n",
       "4  1 mainstream          apps          USA   \n",
       "\n",
       "                               main_sector  \n",
       "0                            entertainment  \n",
       "1  social, finance, analytics, advertising  \n",
       "2  social, finance, analytics, advertising  \n",
       "3  social, finance, analytics, advertising  \n",
       "4               news, search and messaging  "
      ]
     },
     "execution_count": 1127,
     "metadata": {},
     "output_type": "execute_result"
    }
   ],
   "source": [
    "#Retaining only the rows that have main_sector values\n",
    "venture_master_frame = venture_master_frame[~(venture_master_frame['main_sector'].isnull())]\n",
    "venture_master_frame.head()"
   ]
  },
  {
   "cell_type": "code",
   "execution_count": 1128,
   "metadata": {},
   "outputs": [
    {
     "data": {
      "text/plain": [
       "(38788, 7)"
      ]
     },
     "execution_count": 1128,
     "metadata": {},
     "output_type": "execute_result"
    }
   ],
   "source": [
    "venture_master_frame.shape"
   ]
  },
  {
   "cell_type": "markdown",
   "metadata": {},
   "source": [
    "Thus, Sector 1 Analysis is done. We have merged the venture_master_frame (derived from the master_frame) with the mapping dataframe to successfully map exact primary sector to its main sector. The primary sectors are present in a separate column named category_list of the venture_master_frame, and every primary sector has a main sector. Also, main sector is displayed in a separate column within the dataframe."
   ]
  },
  {
   "cell_type": "markdown",
   "metadata": {},
   "source": [
    "# <font color='Royalblue4'>Checkpoint 5: Sector Analysis 2 </font>"
   ]
  },
  {
   "cell_type": "markdown",
   "metadata": {},
   "source": [
    "*'venture_master_frame'*: A data frame with each company’s main sector (main_sector) mapped to it. Here, we carry on the sector analysis based on the eight main sectors in this dataframe.<br>\n",
    "\n",
    "(i) The most suitable funding type for Spark Funds: *venture type* (type 'FT')<br>Also, the range of funding preferred by Spark Funds is 5 to 15 million USD.<br><br>\n",
    "(ii) The top 3 English speaking countries that satisfy the funding type requirements are: <br>\n",
    "*Country 1: USA, Country 2: GBR and Country 3: IND*\n"
   ]
  },
  {
   "cell_type": "markdown",
   "metadata": {},
   "source": [
    "Creating DataFrames D1, D2 and D3 for all 3 countries to calculate the total number and amount of investments in each main sector. Also, to infer additional insights from the data. But before that, let's create dataframes C1, C2 and C3 from the venture_master_frame for the respective top 3 English speaking countries based on the funding value requirement."
   ]
  },
  {
   "cell_type": "code",
   "execution_count": 1129,
   "metadata": {},
   "outputs": [],
   "source": [
    "#Creating DataFrame C1, C2 and C3 for top 3 English speaking countries that satisfy the funding amount requirements \n",
    "#under the venture type investment (The range of funding preferred by Spark Funds is 5 to 15 million USD)\n",
    "\n",
    "#Dataframe C1, country_1: 'USA'\n",
    "C1 = venture_master_frame[(venture_master_frame['country_code'] == 'USA') & \\\n",
    "                          (venture_master_frame['raised_amount_usd'] >= 5000000) & \\\n",
    "                         (venture_master_frame['raised_amount_usd'] <= 15000000)]\n",
    "\n",
    "#Dataframe C1, country_1: 'GBR'\n",
    "C2 = venture_master_frame[(venture_master_frame['country_code'] == 'GBR') & \\\n",
    "                          (venture_master_frame['raised_amount_usd'] >= 5000000) & \\\n",
    "                         (venture_master_frame['raised_amount_usd'] <= 15000000)]\n",
    "\n",
    "#Dataframe C1, country_1: 'IND'\n",
    "C3 = venture_master_frame[(venture_master_frame['country_code'] == 'IND') & \\\n",
    "                          (venture_master_frame['raised_amount_usd'] >= 5000000) & \\\n",
    "                         (venture_master_frame['raised_amount_usd'] <= 15000000)]"
   ]
  },
  {
   "cell_type": "code",
   "execution_count": 1130,
   "metadata": {
    "scrolled": true
   },
   "outputs": [
    {
     "data": {
      "text/html": [
       "<div>\n",
       "<style scoped>\n",
       "    .dataframe tbody tr th:only-of-type {\n",
       "        vertical-align: middle;\n",
       "    }\n",
       "\n",
       "    .dataframe tbody tr th {\n",
       "        vertical-align: top;\n",
       "    }\n",
       "\n",
       "    .dataframe thead th {\n",
       "        text-align: right;\n",
       "    }\n",
       "</style>\n",
       "<table border=\"1\" class=\"dataframe\">\n",
       "  <thead>\n",
       "    <tr style=\"text-align: right;\">\n",
       "      <th></th>\n",
       "      <th>company_permalink</th>\n",
       "      <th>funding_round_permalink</th>\n",
       "      <th>raised_amount_usd</th>\n",
       "      <th>name</th>\n",
       "      <th>category_list</th>\n",
       "      <th>country_code</th>\n",
       "      <th>main_sector</th>\n",
       "    </tr>\n",
       "  </thead>\n",
       "  <tbody>\n",
       "    <tr>\n",
       "      <td>3</td>\n",
       "      <td>/organization/0xdata</td>\n",
       "      <td>/funding-round/e1cfcbe1bdf4c70277c5f29a3482f24e</td>\n",
       "      <td>8900000.000</td>\n",
       "      <td>h2o.ai</td>\n",
       "      <td>analytics</td>\n",
       "      <td>USA</td>\n",
       "      <td>social, finance, analytics, advertising</td>\n",
       "    </tr>\n",
       "    <tr>\n",
       "      <td>4</td>\n",
       "      <td>/organization/1-mainstream</td>\n",
       "      <td>/funding-round/b952cbaf401f310927430c97b68162ea</td>\n",
       "      <td>5000000.000</td>\n",
       "      <td>1 mainstream</td>\n",
       "      <td>apps</td>\n",
       "      <td>USA</td>\n",
       "      <td>news, search and messaging</td>\n",
       "    </tr>\n",
       "    <tr>\n",
       "      <td>17</td>\n",
       "      <td>/organization/128-technology</td>\n",
       "      <td>/funding-round/fb6216a30cb566ede89e0bee0623a634</td>\n",
       "      <td>11999347.000</td>\n",
       "      <td>128 technology</td>\n",
       "      <td>service providers</td>\n",
       "      <td>USA</td>\n",
       "      <td>others</td>\n",
       "    </tr>\n",
       "    <tr>\n",
       "      <td>20</td>\n",
       "      <td>/organization/1366-technologies</td>\n",
       "      <td>/funding-round/424129ce1235cfab2655ee81305f7c2b</td>\n",
       "      <td>15000000.000</td>\n",
       "      <td>1366 technologies</td>\n",
       "      <td>manufacturing</td>\n",
       "      <td>USA</td>\n",
       "      <td>manufacturing</td>\n",
       "    </tr>\n",
       "    <tr>\n",
       "      <td>21</td>\n",
       "      <td>/organization/1366-technologies</td>\n",
       "      <td>/funding-round/6d3f3797371956ece035b8478c1441b2</td>\n",
       "      <td>5000000.000</td>\n",
       "      <td>1366 technologies</td>\n",
       "      <td>manufacturing</td>\n",
       "      <td>USA</td>\n",
       "      <td>manufacturing</td>\n",
       "    </tr>\n",
       "  </tbody>\n",
       "</table>\n",
       "</div>"
      ],
      "text/plain": [
       "                  company_permalink  \\\n",
       "3              /organization/0xdata   \n",
       "4        /organization/1-mainstream   \n",
       "17     /organization/128-technology   \n",
       "20  /organization/1366-technologies   \n",
       "21  /organization/1366-technologies   \n",
       "\n",
       "                            funding_round_permalink  raised_amount_usd  \\\n",
       "3   /funding-round/e1cfcbe1bdf4c70277c5f29a3482f24e        8900000.000   \n",
       "4   /funding-round/b952cbaf401f310927430c97b68162ea        5000000.000   \n",
       "17  /funding-round/fb6216a30cb566ede89e0bee0623a634       11999347.000   \n",
       "20  /funding-round/424129ce1235cfab2655ee81305f7c2b       15000000.000   \n",
       "21  /funding-round/6d3f3797371956ece035b8478c1441b2        5000000.000   \n",
       "\n",
       "                 name      category_list country_code  \\\n",
       "3              h2o.ai          analytics          USA   \n",
       "4        1 mainstream               apps          USA   \n",
       "17     128 technology  service providers          USA   \n",
       "20  1366 technologies      manufacturing          USA   \n",
       "21  1366 technologies      manufacturing          USA   \n",
       "\n",
       "                                main_sector  \n",
       "3   social, finance, analytics, advertising  \n",
       "4                news, search and messaging  \n",
       "17                                   others  \n",
       "20                            manufacturing  \n",
       "21                            manufacturing  "
      ]
     },
     "execution_count": 1130,
     "metadata": {},
     "output_type": "execute_result"
    }
   ],
   "source": [
    "C1.head()"
   ]
  },
  {
   "cell_type": "markdown",
   "metadata": {},
   "source": [
    "<font color='darkslateblue'>**Investment Counts and Main Sectors**</font>"
   ]
  },
  {
   "cell_type": "markdown",
   "metadata": {},
   "source": [
    "Determining the total number (or count) of investments for each main sector in a separate column in new dataframes.<br>\n",
    "*'tic_usa'*: Total Investment count for each sector in Country 1: USA<br>\n",
    "*'tic_gbr*': Total Investment count for each sector in Country 2: GBR<br>\n",
    "*'tic_ind'*: Total Investment count for each sector in Country 3: IND<br>"
   ]
  },
  {
   "cell_type": "markdown",
   "metadata": {},
   "source": [
    "<font color='maroon'>**USA**</font>"
   ]
  },
  {
   "cell_type": "code",
   "execution_count": 1131,
   "metadata": {},
   "outputs": [
    {
     "data": {
      "text/html": [
       "<div>\n",
       "<style scoped>\n",
       "    .dataframe tbody tr th:only-of-type {\n",
       "        vertical-align: middle;\n",
       "    }\n",
       "\n",
       "    .dataframe tbody tr th {\n",
       "        vertical-align: top;\n",
       "    }\n",
       "\n",
       "    .dataframe thead th {\n",
       "        text-align: right;\n",
       "    }\n",
       "</style>\n",
       "<table border=\"1\" class=\"dataframe\">\n",
       "  <thead>\n",
       "    <tr style=\"text-align: right;\">\n",
       "      <th></th>\n",
       "      <th>Total_Investment_Count_USA</th>\n",
       "    </tr>\n",
       "    <tr>\n",
       "      <th>main_sector</th>\n",
       "      <th></th>\n",
       "    </tr>\n",
       "  </thead>\n",
       "  <tbody>\n",
       "    <tr>\n",
       "      <td>others</td>\n",
       "      <td>2950</td>\n",
       "    </tr>\n",
       "    <tr>\n",
       "      <td>social, finance, analytics, advertising</td>\n",
       "      <td>2714</td>\n",
       "    </tr>\n",
       "    <tr>\n",
       "      <td>cleantech / semiconductors</td>\n",
       "      <td>2350</td>\n",
       "    </tr>\n",
       "    <tr>\n",
       "      <td>news, search and messaging</td>\n",
       "      <td>1583</td>\n",
       "    </tr>\n",
       "    <tr>\n",
       "      <td>health</td>\n",
       "      <td>909</td>\n",
       "    </tr>\n",
       "    <tr>\n",
       "      <td>manufacturing</td>\n",
       "      <td>799</td>\n",
       "    </tr>\n",
       "    <tr>\n",
       "      <td>entertainment</td>\n",
       "      <td>591</td>\n",
       "    </tr>\n",
       "    <tr>\n",
       "      <td>automotive &amp; sports</td>\n",
       "      <td>167</td>\n",
       "    </tr>\n",
       "  </tbody>\n",
       "</table>\n",
       "</div>"
      ],
      "text/plain": [
       "                                         Total_Investment_Count_USA\n",
       "main_sector                                                        \n",
       "others                                                         2950\n",
       "social, finance, analytics, advertising                        2714\n",
       "cleantech / semiconductors                                     2350\n",
       "news, search and messaging                                     1583\n",
       "health                                                          909\n",
       "manufacturing                                                   799\n",
       "entertainment                                                   591\n",
       "automotive & sports                                             167"
      ]
     },
     "execution_count": 1131,
     "metadata": {},
     "output_type": "execute_result"
    }
   ],
   "source": [
    "#'tic_usa': Total Investment count for each sector in Country 1: USA \n",
    "tic_usa = C1.groupby('main_sector')['main_sector'].count().rename('Total_Investment_Count_USA')\n",
    "\n",
    "#Sorting the total investment counts in descending order\n",
    "tic_usa = tic_usa.sort_values(ascending=False)\n",
    "tic_usa = pd.DataFrame(tic_usa)\n",
    "tic_usa"
   ]
  },
  {
   "cell_type": "code",
   "execution_count": 1132,
   "metadata": {
    "scrolled": true
   },
   "outputs": [
    {
     "name": "stdout",
     "output_type": "stream",
     "text": [
      "Total number of investments count (total of all sectors) in country_1: USA:\n"
     ]
    },
    {
     "data": {
      "text/plain": [
       "12063"
      ]
     },
     "execution_count": 1132,
     "metadata": {},
     "output_type": "execute_result"
    }
   ],
   "source": [
    "#Total investment count (total of all sectors) in country_1: USA\n",
    "print('Total number of investments count (total of all sectors) in country_1: USA:')\n",
    "tic_usa.Total_Investment_Count_USA.sum()"
   ]
  },
  {
   "cell_type": "code",
   "execution_count": 1133,
   "metadata": {},
   "outputs": [
    {
     "name": "stdout",
     "output_type": "stream",
     "text": [
      "Top sector names(no. of investments-wise) First, Second and Third (Country_1: USA)\n"
     ]
    },
    {
     "data": {
      "text/html": [
       "<div>\n",
       "<style scoped>\n",
       "    .dataframe tbody tr th:only-of-type {\n",
       "        vertical-align: middle;\n",
       "    }\n",
       "\n",
       "    .dataframe tbody tr th {\n",
       "        vertical-align: top;\n",
       "    }\n",
       "\n",
       "    .dataframe thead th {\n",
       "        text-align: right;\n",
       "    }\n",
       "</style>\n",
       "<table border=\"1\" class=\"dataframe\">\n",
       "  <thead>\n",
       "    <tr style=\"text-align: right;\">\n",
       "      <th></th>\n",
       "      <th>main_sector</th>\n",
       "    </tr>\n",
       "  </thead>\n",
       "  <tbody>\n",
       "    <tr>\n",
       "      <td>0</td>\n",
       "      <td>others</td>\n",
       "    </tr>\n",
       "    <tr>\n",
       "      <td>1</td>\n",
       "      <td>social, finance, analytics, advertising</td>\n",
       "    </tr>\n",
       "    <tr>\n",
       "      <td>2</td>\n",
       "      <td>cleantech / semiconductors</td>\n",
       "    </tr>\n",
       "  </tbody>\n",
       "</table>\n",
       "</div>"
      ],
      "text/plain": [
       "                               main_sector\n",
       "0                                   others\n",
       "1  social, finance, analytics, advertising\n",
       "2               cleantech / semiconductors"
      ]
     },
     "execution_count": 1133,
     "metadata": {},
     "output_type": "execute_result"
    }
   ],
   "source": [
    "#Top sector names(no. of investments-wise) First, Second and Third (Country_1: USA)\n",
    "print('Top sector names(no. of investments-wise) First, Second and Third (Country_1: USA)')\n",
    "pd.DataFrame(tic_usa[:3].index)"
   ]
  },
  {
   "cell_type": "code",
   "execution_count": 1134,
   "metadata": {
    "scrolled": true
   },
   "outputs": [
    {
     "name": "stdout",
     "output_type": "stream",
     "text": [
      "Number of investments in First, Second and Third best sector in Country_1: USA:\n"
     ]
    },
    {
     "data": {
      "text/html": [
       "<div>\n",
       "<style scoped>\n",
       "    .dataframe tbody tr th:only-of-type {\n",
       "        vertical-align: middle;\n",
       "    }\n",
       "\n",
       "    .dataframe tbody tr th {\n",
       "        vertical-align: top;\n",
       "    }\n",
       "\n",
       "    .dataframe thead th {\n",
       "        text-align: right;\n",
       "    }\n",
       "</style>\n",
       "<table border=\"1\" class=\"dataframe\">\n",
       "  <thead>\n",
       "    <tr style=\"text-align: right;\">\n",
       "      <th></th>\n",
       "      <th>Total_Investment_Count_USA</th>\n",
       "    </tr>\n",
       "    <tr>\n",
       "      <th>main_sector</th>\n",
       "      <th></th>\n",
       "    </tr>\n",
       "  </thead>\n",
       "  <tbody>\n",
       "    <tr>\n",
       "      <td>others</td>\n",
       "      <td>2950</td>\n",
       "    </tr>\n",
       "    <tr>\n",
       "      <td>social, finance, analytics, advertising</td>\n",
       "      <td>2714</td>\n",
       "    </tr>\n",
       "    <tr>\n",
       "      <td>cleantech / semiconductors</td>\n",
       "      <td>2350</td>\n",
       "    </tr>\n",
       "  </tbody>\n",
       "</table>\n",
       "</div>"
      ],
      "text/plain": [
       "                                         Total_Investment_Count_USA\n",
       "main_sector                                                        \n",
       "others                                                         2950\n",
       "social, finance, analytics, advertising                        2714\n",
       "cleantech / semiconductors                                     2350"
      ]
     },
     "execution_count": 1134,
     "metadata": {},
     "output_type": "execute_result"
    }
   ],
   "source": [
    "#Number of investments in First, Second and Third best sector in Country_1: USA\n",
    "print(\"Number of investments in First, Second and Third best sector in Country_1: USA:\")\n",
    "pd.DataFrame(tic_usa.iloc[:3,:])"
   ]
  },
  {
   "cell_type": "markdown",
   "metadata": {},
   "source": [
    "<font color='maroon'>**GBR**</font>"
   ]
  },
  {
   "cell_type": "code",
   "execution_count": 1135,
   "metadata": {},
   "outputs": [
    {
     "data": {
      "text/html": [
       "<div>\n",
       "<style scoped>\n",
       "    .dataframe tbody tr th:only-of-type {\n",
       "        vertical-align: middle;\n",
       "    }\n",
       "\n",
       "    .dataframe tbody tr th {\n",
       "        vertical-align: top;\n",
       "    }\n",
       "\n",
       "    .dataframe thead th {\n",
       "        text-align: right;\n",
       "    }\n",
       "</style>\n",
       "<table border=\"1\" class=\"dataframe\">\n",
       "  <thead>\n",
       "    <tr style=\"text-align: right;\">\n",
       "      <th></th>\n",
       "      <th>Total_Investment_Count_GBR</th>\n",
       "    </tr>\n",
       "    <tr>\n",
       "      <th>main_sector</th>\n",
       "      <th></th>\n",
       "    </tr>\n",
       "  </thead>\n",
       "  <tbody>\n",
       "    <tr>\n",
       "      <td>others</td>\n",
       "      <td>147</td>\n",
       "    </tr>\n",
       "    <tr>\n",
       "      <td>social, finance, analytics, advertising</td>\n",
       "      <td>133</td>\n",
       "    </tr>\n",
       "    <tr>\n",
       "      <td>cleantech / semiconductors</td>\n",
       "      <td>130</td>\n",
       "    </tr>\n",
       "    <tr>\n",
       "      <td>news, search and messaging</td>\n",
       "      <td>73</td>\n",
       "    </tr>\n",
       "    <tr>\n",
       "      <td>entertainment</td>\n",
       "      <td>56</td>\n",
       "    </tr>\n",
       "    <tr>\n",
       "      <td>manufacturing</td>\n",
       "      <td>42</td>\n",
       "    </tr>\n",
       "    <tr>\n",
       "      <td>health</td>\n",
       "      <td>24</td>\n",
       "    </tr>\n",
       "    <tr>\n",
       "      <td>automotive &amp; sports</td>\n",
       "      <td>16</td>\n",
       "    </tr>\n",
       "  </tbody>\n",
       "</table>\n",
       "</div>"
      ],
      "text/plain": [
       "                                         Total_Investment_Count_GBR\n",
       "main_sector                                                        \n",
       "others                                                          147\n",
       "social, finance, analytics, advertising                         133\n",
       "cleantech / semiconductors                                      130\n",
       "news, search and messaging                                       73\n",
       "entertainment                                                    56\n",
       "manufacturing                                                    42\n",
       "health                                                           24\n",
       "automotive & sports                                              16"
      ]
     },
     "execution_count": 1135,
     "metadata": {},
     "output_type": "execute_result"
    }
   ],
   "source": [
    "#'tic_gbr': Total Investment count for each sector in Country_2: GBR \n",
    "tic_gbr = C2.groupby('main_sector')['main_sector'].count().rename('Total_Investment_Count_GBR')\n",
    "\n",
    "#Sorting the total investment counts in descending order\n",
    "tic_gbr = tic_gbr.sort_values(ascending=False)\n",
    "tic_gbr = pd.DataFrame(tic_gbr)\n",
    "tic_gbr"
   ]
  },
  {
   "cell_type": "code",
   "execution_count": 1136,
   "metadata": {},
   "outputs": [
    {
     "name": "stdout",
     "output_type": "stream",
     "text": [
      "Total number of investments count (total of all sectors) in country_2: GBR:\n"
     ]
    },
    {
     "data": {
      "text/plain": [
       "621"
      ]
     },
     "execution_count": 1136,
     "metadata": {},
     "output_type": "execute_result"
    }
   ],
   "source": [
    "#Total investment count (total of all sectors) in country_2: GBR\n",
    "print('Total number of investments count (total of all sectors) in country_2: GBR:')\n",
    "tic_gbr.Total_Investment_Count_GBR.sum()"
   ]
  },
  {
   "cell_type": "code",
   "execution_count": 1137,
   "metadata": {},
   "outputs": [
    {
     "name": "stdout",
     "output_type": "stream",
     "text": [
      "Top sector names(no. of investments-wise) First, Second and Third (Country_2: GBR)\n"
     ]
    },
    {
     "data": {
      "text/html": [
       "<div>\n",
       "<style scoped>\n",
       "    .dataframe tbody tr th:only-of-type {\n",
       "        vertical-align: middle;\n",
       "    }\n",
       "\n",
       "    .dataframe tbody tr th {\n",
       "        vertical-align: top;\n",
       "    }\n",
       "\n",
       "    .dataframe thead th {\n",
       "        text-align: right;\n",
       "    }\n",
       "</style>\n",
       "<table border=\"1\" class=\"dataframe\">\n",
       "  <thead>\n",
       "    <tr style=\"text-align: right;\">\n",
       "      <th></th>\n",
       "      <th>main_sector</th>\n",
       "    </tr>\n",
       "  </thead>\n",
       "  <tbody>\n",
       "    <tr>\n",
       "      <td>0</td>\n",
       "      <td>others</td>\n",
       "    </tr>\n",
       "    <tr>\n",
       "      <td>1</td>\n",
       "      <td>social, finance, analytics, advertising</td>\n",
       "    </tr>\n",
       "    <tr>\n",
       "      <td>2</td>\n",
       "      <td>cleantech / semiconductors</td>\n",
       "    </tr>\n",
       "  </tbody>\n",
       "</table>\n",
       "</div>"
      ],
      "text/plain": [
       "                               main_sector\n",
       "0                                   others\n",
       "1  social, finance, analytics, advertising\n",
       "2               cleantech / semiconductors"
      ]
     },
     "execution_count": 1137,
     "metadata": {},
     "output_type": "execute_result"
    }
   ],
   "source": [
    "#Top sector names(no. of investments-wise) First, Second and Third (Country_2: GBR)\n",
    "print('Top sector names(no. of investments-wise) First, Second and Third (Country_2: GBR)')\n",
    "pd.DataFrame(tic_gbr[:3].index)"
   ]
  },
  {
   "cell_type": "code",
   "execution_count": 1138,
   "metadata": {},
   "outputs": [
    {
     "name": "stdout",
     "output_type": "stream",
     "text": [
      "Number of investments in First, Second and Third best sector in Country_2: GBR:\n"
     ]
    },
    {
     "data": {
      "text/html": [
       "<div>\n",
       "<style scoped>\n",
       "    .dataframe tbody tr th:only-of-type {\n",
       "        vertical-align: middle;\n",
       "    }\n",
       "\n",
       "    .dataframe tbody tr th {\n",
       "        vertical-align: top;\n",
       "    }\n",
       "\n",
       "    .dataframe thead th {\n",
       "        text-align: right;\n",
       "    }\n",
       "</style>\n",
       "<table border=\"1\" class=\"dataframe\">\n",
       "  <thead>\n",
       "    <tr style=\"text-align: right;\">\n",
       "      <th></th>\n",
       "      <th>Total_Investment_Count_GBR</th>\n",
       "    </tr>\n",
       "    <tr>\n",
       "      <th>main_sector</th>\n",
       "      <th></th>\n",
       "    </tr>\n",
       "  </thead>\n",
       "  <tbody>\n",
       "    <tr>\n",
       "      <td>others</td>\n",
       "      <td>147</td>\n",
       "    </tr>\n",
       "    <tr>\n",
       "      <td>social, finance, analytics, advertising</td>\n",
       "      <td>133</td>\n",
       "    </tr>\n",
       "    <tr>\n",
       "      <td>cleantech / semiconductors</td>\n",
       "      <td>130</td>\n",
       "    </tr>\n",
       "  </tbody>\n",
       "</table>\n",
       "</div>"
      ],
      "text/plain": [
       "                                         Total_Investment_Count_GBR\n",
       "main_sector                                                        \n",
       "others                                                          147\n",
       "social, finance, analytics, advertising                         133\n",
       "cleantech / semiconductors                                      130"
      ]
     },
     "execution_count": 1138,
     "metadata": {},
     "output_type": "execute_result"
    }
   ],
   "source": [
    "#Number of investments in First, Second and Third best sector in Country_2: GBR\n",
    "print(\"Number of investments in First, Second and Third best sector in Country_2: GBR:\")\n",
    "pd.DataFrame(tic_gbr.iloc[:3,:])"
   ]
  },
  {
   "cell_type": "markdown",
   "metadata": {},
   "source": [
    "<font color='maroon'>**IND**</font>"
   ]
  },
  {
   "cell_type": "code",
   "execution_count": 1139,
   "metadata": {},
   "outputs": [
    {
     "data": {
      "text/html": [
       "<div>\n",
       "<style scoped>\n",
       "    .dataframe tbody tr th:only-of-type {\n",
       "        vertical-align: middle;\n",
       "    }\n",
       "\n",
       "    .dataframe tbody tr th {\n",
       "        vertical-align: top;\n",
       "    }\n",
       "\n",
       "    .dataframe thead th {\n",
       "        text-align: right;\n",
       "    }\n",
       "</style>\n",
       "<table border=\"1\" class=\"dataframe\">\n",
       "  <thead>\n",
       "    <tr style=\"text-align: right;\">\n",
       "      <th></th>\n",
       "      <th>Total_Investment_Count_IND</th>\n",
       "    </tr>\n",
       "    <tr>\n",
       "      <th>main_sector</th>\n",
       "      <th></th>\n",
       "    </tr>\n",
       "  </thead>\n",
       "  <tbody>\n",
       "    <tr>\n",
       "      <td>others</td>\n",
       "      <td>110</td>\n",
       "    </tr>\n",
       "    <tr>\n",
       "      <td>social, finance, analytics, advertising</td>\n",
       "      <td>60</td>\n",
       "    </tr>\n",
       "    <tr>\n",
       "      <td>news, search and messaging</td>\n",
       "      <td>52</td>\n",
       "    </tr>\n",
       "    <tr>\n",
       "      <td>entertainment</td>\n",
       "      <td>33</td>\n",
       "    </tr>\n",
       "    <tr>\n",
       "      <td>manufacturing</td>\n",
       "      <td>21</td>\n",
       "    </tr>\n",
       "    <tr>\n",
       "      <td>cleantech / semiconductors</td>\n",
       "      <td>20</td>\n",
       "    </tr>\n",
       "    <tr>\n",
       "      <td>health</td>\n",
       "      <td>19</td>\n",
       "    </tr>\n",
       "    <tr>\n",
       "      <td>automotive &amp; sports</td>\n",
       "      <td>13</td>\n",
       "    </tr>\n",
       "  </tbody>\n",
       "</table>\n",
       "</div>"
      ],
      "text/plain": [
       "                                         Total_Investment_Count_IND\n",
       "main_sector                                                        \n",
       "others                                                          110\n",
       "social, finance, analytics, advertising                          60\n",
       "news, search and messaging                                       52\n",
       "entertainment                                                    33\n",
       "manufacturing                                                    21\n",
       "cleantech / semiconductors                                       20\n",
       "health                                                           19\n",
       "automotive & sports                                              13"
      ]
     },
     "execution_count": 1139,
     "metadata": {},
     "output_type": "execute_result"
    }
   ],
   "source": [
    "#'tic_ind': Total Investment count for each sector in Country_3: IND\n",
    "tic_ind = C3.groupby('main_sector')['main_sector'].count().rename('Total_Investment_Count_IND')\n",
    "\n",
    "#Sorting the total investment counts in descending order\n",
    "tic_ind = tic_ind.sort_values(ascending=False)\n",
    "tic_ind = pd.DataFrame(tic_ind)\n",
    "tic_ind"
   ]
  },
  {
   "cell_type": "code",
   "execution_count": 1140,
   "metadata": {},
   "outputs": [
    {
     "name": "stdout",
     "output_type": "stream",
     "text": [
      "Total number of investments count (total of all sectors) in country_3: IND:\n"
     ]
    },
    {
     "data": {
      "text/plain": [
       "328"
      ]
     },
     "execution_count": 1140,
     "metadata": {},
     "output_type": "execute_result"
    }
   ],
   "source": [
    "#Total investment count (total of all sectors) in country_3: IND\n",
    "print('Total number of investments count (total of all sectors) in country_3: IND:')\n",
    "tic_ind.Total_Investment_Count_IND.sum()"
   ]
  },
  {
   "cell_type": "code",
   "execution_count": 1141,
   "metadata": {},
   "outputs": [
    {
     "name": "stdout",
     "output_type": "stream",
     "text": [
      "Top sector names(no. of investments-wise) First, Second and Third (Country_3: IND)\n"
     ]
    },
    {
     "data": {
      "text/html": [
       "<div>\n",
       "<style scoped>\n",
       "    .dataframe tbody tr th:only-of-type {\n",
       "        vertical-align: middle;\n",
       "    }\n",
       "\n",
       "    .dataframe tbody tr th {\n",
       "        vertical-align: top;\n",
       "    }\n",
       "\n",
       "    .dataframe thead th {\n",
       "        text-align: right;\n",
       "    }\n",
       "</style>\n",
       "<table border=\"1\" class=\"dataframe\">\n",
       "  <thead>\n",
       "    <tr style=\"text-align: right;\">\n",
       "      <th></th>\n",
       "      <th>main_sector</th>\n",
       "    </tr>\n",
       "  </thead>\n",
       "  <tbody>\n",
       "    <tr>\n",
       "      <td>0</td>\n",
       "      <td>others</td>\n",
       "    </tr>\n",
       "    <tr>\n",
       "      <td>1</td>\n",
       "      <td>social, finance, analytics, advertising</td>\n",
       "    </tr>\n",
       "    <tr>\n",
       "      <td>2</td>\n",
       "      <td>news, search and messaging</td>\n",
       "    </tr>\n",
       "  </tbody>\n",
       "</table>\n",
       "</div>"
      ],
      "text/plain": [
       "                               main_sector\n",
       "0                                   others\n",
       "1  social, finance, analytics, advertising\n",
       "2               news, search and messaging"
      ]
     },
     "execution_count": 1141,
     "metadata": {},
     "output_type": "execute_result"
    }
   ],
   "source": [
    "#Top sector names(no. of investments-wise) First, Second and Third (Country_3: IND)\n",
    "print('Top sector names(no. of investments-wise) First, Second and Third (Country_3: IND)')\n",
    "pd.DataFrame(tic_ind[:3].index)"
   ]
  },
  {
   "cell_type": "code",
   "execution_count": 1142,
   "metadata": {},
   "outputs": [
    {
     "name": "stdout",
     "output_type": "stream",
     "text": [
      "Number of investments in First, Second and Third best sector in Country_3: IND:\n"
     ]
    },
    {
     "data": {
      "text/html": [
       "<div>\n",
       "<style scoped>\n",
       "    .dataframe tbody tr th:only-of-type {\n",
       "        vertical-align: middle;\n",
       "    }\n",
       "\n",
       "    .dataframe tbody tr th {\n",
       "        vertical-align: top;\n",
       "    }\n",
       "\n",
       "    .dataframe thead th {\n",
       "        text-align: right;\n",
       "    }\n",
       "</style>\n",
       "<table border=\"1\" class=\"dataframe\">\n",
       "  <thead>\n",
       "    <tr style=\"text-align: right;\">\n",
       "      <th></th>\n",
       "      <th>Total_Investment_Count_IND</th>\n",
       "    </tr>\n",
       "    <tr>\n",
       "      <th>main_sector</th>\n",
       "      <th></th>\n",
       "    </tr>\n",
       "  </thead>\n",
       "  <tbody>\n",
       "    <tr>\n",
       "      <td>others</td>\n",
       "      <td>110</td>\n",
       "    </tr>\n",
       "    <tr>\n",
       "      <td>social, finance, analytics, advertising</td>\n",
       "      <td>60</td>\n",
       "    </tr>\n",
       "    <tr>\n",
       "      <td>news, search and messaging</td>\n",
       "      <td>52</td>\n",
       "    </tr>\n",
       "  </tbody>\n",
       "</table>\n",
       "</div>"
      ],
      "text/plain": [
       "                                         Total_Investment_Count_IND\n",
       "main_sector                                                        \n",
       "others                                                          110\n",
       "social, finance, analytics, advertising                          60\n",
       "news, search and messaging                                       52"
      ]
     },
     "execution_count": 1142,
     "metadata": {},
     "output_type": "execute_result"
    }
   ],
   "source": [
    "#Number of investments in First, Second and Third best sector in Country_3: IND\n",
    "print(\"Number of investments in First, Second and Third best sector in Country_3: IND:\")\n",
    "pd.DataFrame(tic_ind.iloc[:3,:])"
   ]
  },
  {
   "cell_type": "markdown",
   "metadata": {},
   "source": [
    "<font color='darkslateblue'>**Investment Amounts and Main Sectors**</font>"
   ]
  },
  {
   "cell_type": "markdown",
   "metadata": {},
   "source": [
    "Determining the total amount invested in each main sector in a new dataframe and sorting it in descending order.<br>\n",
    "*'tai_usa'*: Total amount invested in each main sector for Country 1: USA<br>\n",
    "*'tai_gbr*': Total amount invested in each main sector for Country 2: GBR<br>\n",
    "*'tai_ind'*: Total amount invested in each main sector for Country 3: IND<br>"
   ]
  },
  {
   "cell_type": "markdown",
   "metadata": {},
   "source": [
    "<font color='maroon'>**USA**</font>"
   ]
  },
  {
   "cell_type": "code",
   "execution_count": 1143,
   "metadata": {},
   "outputs": [
    {
     "data": {
      "text/html": [
       "<div>\n",
       "<style scoped>\n",
       "    .dataframe tbody tr th:only-of-type {\n",
       "        vertical-align: middle;\n",
       "    }\n",
       "\n",
       "    .dataframe tbody tr th {\n",
       "        vertical-align: top;\n",
       "    }\n",
       "\n",
       "    .dataframe thead th {\n",
       "        text-align: right;\n",
       "    }\n",
       "</style>\n",
       "<table border=\"1\" class=\"dataframe\">\n",
       "  <thead>\n",
       "    <tr style=\"text-align: right;\">\n",
       "      <th></th>\n",
       "      <th>Total_amount_invested_USA_usd</th>\n",
       "    </tr>\n",
       "    <tr>\n",
       "      <th>main_sector</th>\n",
       "      <th></th>\n",
       "    </tr>\n",
       "  </thead>\n",
       "  <tbody>\n",
       "    <tr>\n",
       "      <td>others</td>\n",
       "      <td>26321007002.000</td>\n",
       "    </tr>\n",
       "    <tr>\n",
       "      <td>social, finance, analytics, advertising</td>\n",
       "      <td>23807376964.000</td>\n",
       "    </tr>\n",
       "    <tr>\n",
       "      <td>cleantech / semiconductors</td>\n",
       "      <td>21633430822.000</td>\n",
       "    </tr>\n",
       "    <tr>\n",
       "      <td>news, search and messaging</td>\n",
       "      <td>13971567428.000</td>\n",
       "    </tr>\n",
       "    <tr>\n",
       "      <td>health</td>\n",
       "      <td>8211859357.000</td>\n",
       "    </tr>\n",
       "    <tr>\n",
       "      <td>manufacturing</td>\n",
       "      <td>7258553378.000</td>\n",
       "    </tr>\n",
       "    <tr>\n",
       "      <td>entertainment</td>\n",
       "      <td>5099197982.000</td>\n",
       "    </tr>\n",
       "    <tr>\n",
       "      <td>automotive &amp; sports</td>\n",
       "      <td>1454104361.000</td>\n",
       "    </tr>\n",
       "  </tbody>\n",
       "</table>\n",
       "</div>"
      ],
      "text/plain": [
       "                                         Total_amount_invested_USA_usd\n",
       "main_sector                                                           \n",
       "others                                                 26321007002.000\n",
       "social, finance, analytics, advertising                23807376964.000\n",
       "cleantech / semiconductors                             21633430822.000\n",
       "news, search and messaging                             13971567428.000\n",
       "health                                                  8211859357.000\n",
       "manufacturing                                           7258553378.000\n",
       "entertainment                                           5099197982.000\n",
       "automotive & sports                                     1454104361.000"
      ]
     },
     "execution_count": 1143,
     "metadata": {},
     "output_type": "execute_result"
    }
   ],
   "source": [
    "#Total amount invested in each main sector (sorted_descending order of total funding values): \n",
    "#For Country_1: USA\n",
    "\n",
    "tai_usa = C1.groupby('main_sector')['raised_amount_usd'].sum().rename('Total_amount_invested_USA_usd')\n",
    "tai_usa = pd.DataFrame(tai_usa.sort_values(ascending=False))\n",
    "tai_usa"
   ]
  },
  {
   "cell_type": "code",
   "execution_count": 1144,
   "metadata": {
    "scrolled": true
   },
   "outputs": [
    {
     "name": "stdout",
     "output_type": "stream",
     "text": [
      "Total amount of investment (in usd) Country_1: USA:\n"
     ]
    },
    {
     "data": {
      "text/plain": [
       "107757097294.0"
      ]
     },
     "execution_count": 1144,
     "metadata": {},
     "output_type": "execute_result"
    }
   ],
   "source": [
    "#Total amount of investment (in usd) Country_1: USA\n",
    "print('Total amount of investment (in usd) Country_1: USA:')\n",
    "round(tai_usa['Total_amount_invested_USA_usd'].sum(),3)"
   ]
  },
  {
   "cell_type": "markdown",
   "metadata": {},
   "source": [
    "<font color='maroon'>**GBR**</font>"
   ]
  },
  {
   "cell_type": "code",
   "execution_count": 1145,
   "metadata": {
    "scrolled": true
   },
   "outputs": [
    {
     "data": {
      "text/html": [
       "<div>\n",
       "<style scoped>\n",
       "    .dataframe tbody tr th:only-of-type {\n",
       "        vertical-align: middle;\n",
       "    }\n",
       "\n",
       "    .dataframe tbody tr th {\n",
       "        vertical-align: top;\n",
       "    }\n",
       "\n",
       "    .dataframe thead th {\n",
       "        text-align: right;\n",
       "    }\n",
       "</style>\n",
       "<table border=\"1\" class=\"dataframe\">\n",
       "  <thead>\n",
       "    <tr style=\"text-align: right;\">\n",
       "      <th></th>\n",
       "      <th>Total_amount_invested_GBR_usd</th>\n",
       "    </tr>\n",
       "    <tr>\n",
       "      <th>main_sector</th>\n",
       "      <th></th>\n",
       "    </tr>\n",
       "  </thead>\n",
       "  <tbody>\n",
       "    <tr>\n",
       "      <td>others</td>\n",
       "      <td>1283624289.000</td>\n",
       "    </tr>\n",
       "    <tr>\n",
       "      <td>cleantech / semiconductors</td>\n",
       "      <td>1163990056.000</td>\n",
       "    </tr>\n",
       "    <tr>\n",
       "      <td>social, finance, analytics, advertising</td>\n",
       "      <td>1089404014.000</td>\n",
       "    </tr>\n",
       "    <tr>\n",
       "      <td>news, search and messaging</td>\n",
       "      <td>615746235.000</td>\n",
       "    </tr>\n",
       "    <tr>\n",
       "      <td>entertainment</td>\n",
       "      <td>482784687.000</td>\n",
       "    </tr>\n",
       "    <tr>\n",
       "      <td>manufacturing</td>\n",
       "      <td>361940335.000</td>\n",
       "    </tr>\n",
       "    <tr>\n",
       "      <td>health</td>\n",
       "      <td>214537510.000</td>\n",
       "    </tr>\n",
       "    <tr>\n",
       "      <td>automotive &amp; sports</td>\n",
       "      <td>167051565.000</td>\n",
       "    </tr>\n",
       "  </tbody>\n",
       "</table>\n",
       "</div>"
      ],
      "text/plain": [
       "                                         Total_amount_invested_GBR_usd\n",
       "main_sector                                                           \n",
       "others                                                  1283624289.000\n",
       "cleantech / semiconductors                              1163990056.000\n",
       "social, finance, analytics, advertising                 1089404014.000\n",
       "news, search and messaging                               615746235.000\n",
       "entertainment                                            482784687.000\n",
       "manufacturing                                            361940335.000\n",
       "health                                                   214537510.000\n",
       "automotive & sports                                      167051565.000"
      ]
     },
     "execution_count": 1145,
     "metadata": {},
     "output_type": "execute_result"
    }
   ],
   "source": [
    "#Total amount invested in each main sector (sorted_descending order of total funding values): \n",
    "#For Country_2: GBR\n",
    "\n",
    "tai_gbr = C2.groupby('main_sector')['raised_amount_usd'].sum().rename('Total_amount_invested_GBR_usd')\n",
    "tai_gbr = pd.DataFrame(tai_gbr.sort_values(ascending=False))\n",
    "tai_gbr"
   ]
  },
  {
   "cell_type": "code",
   "execution_count": 1146,
   "metadata": {},
   "outputs": [
    {
     "name": "stdout",
     "output_type": "stream",
     "text": [
      "Total amount of investment (in usd) Country_2: GBR:\n"
     ]
    },
    {
     "data": {
      "text/plain": [
       "5379078691.0"
      ]
     },
     "execution_count": 1146,
     "metadata": {},
     "output_type": "execute_result"
    }
   ],
   "source": [
    "#Total amount of investment (in usd) Country_2: GBR\n",
    "print('Total amount of investment (in usd) Country_2: GBR:')\n",
    "round(tai_gbr['Total_amount_invested_GBR_usd'].sum(),3)"
   ]
  },
  {
   "cell_type": "markdown",
   "metadata": {},
   "source": [
    "<font color='maroon'>**IND**</font>"
   ]
  },
  {
   "cell_type": "code",
   "execution_count": 1147,
   "metadata": {
    "scrolled": true
   },
   "outputs": [
    {
     "data": {
      "text/html": [
       "<div>\n",
       "<style scoped>\n",
       "    .dataframe tbody tr th:only-of-type {\n",
       "        vertical-align: middle;\n",
       "    }\n",
       "\n",
       "    .dataframe tbody tr th {\n",
       "        vertical-align: top;\n",
       "    }\n",
       "\n",
       "    .dataframe thead th {\n",
       "        text-align: right;\n",
       "    }\n",
       "</style>\n",
       "<table border=\"1\" class=\"dataframe\">\n",
       "  <thead>\n",
       "    <tr style=\"text-align: right;\">\n",
       "      <th></th>\n",
       "      <th>Total_amount_invested_IND_usd</th>\n",
       "    </tr>\n",
       "    <tr>\n",
       "      <th>main_sector</th>\n",
       "      <th></th>\n",
       "    </tr>\n",
       "  </thead>\n",
       "  <tbody>\n",
       "    <tr>\n",
       "      <td>others</td>\n",
       "      <td>1013409507.000</td>\n",
       "    </tr>\n",
       "    <tr>\n",
       "      <td>social, finance, analytics, advertising</td>\n",
       "      <td>550549550.000</td>\n",
       "    </tr>\n",
       "    <tr>\n",
       "      <td>news, search and messaging</td>\n",
       "      <td>433834545.000</td>\n",
       "    </tr>\n",
       "    <tr>\n",
       "      <td>entertainment</td>\n",
       "      <td>280830000.000</td>\n",
       "    </tr>\n",
       "    <tr>\n",
       "      <td>manufacturing</td>\n",
       "      <td>200900000.000</td>\n",
       "    </tr>\n",
       "    <tr>\n",
       "      <td>health</td>\n",
       "      <td>167740000.000</td>\n",
       "    </tr>\n",
       "    <tr>\n",
       "      <td>cleantech / semiconductors</td>\n",
       "      <td>165380000.000</td>\n",
       "    </tr>\n",
       "    <tr>\n",
       "      <td>automotive &amp; sports</td>\n",
       "      <td>136900000.000</td>\n",
       "    </tr>\n",
       "  </tbody>\n",
       "</table>\n",
       "</div>"
      ],
      "text/plain": [
       "                                         Total_amount_invested_IND_usd\n",
       "main_sector                                                           \n",
       "others                                                  1013409507.000\n",
       "social, finance, analytics, advertising                  550549550.000\n",
       "news, search and messaging                               433834545.000\n",
       "entertainment                                            280830000.000\n",
       "manufacturing                                            200900000.000\n",
       "health                                                   167740000.000\n",
       "cleantech / semiconductors                               165380000.000\n",
       "automotive & sports                                      136900000.000"
      ]
     },
     "execution_count": 1147,
     "metadata": {},
     "output_type": "execute_result"
    }
   ],
   "source": [
    "#Total amount invested in each main sector (sorted_descending order of total funding values): \n",
    "#For Country_3: IND\n",
    "\n",
    "tai_ind = C3.groupby('main_sector')['raised_amount_usd'].sum().rename('Total_amount_invested_IND_usd')\n",
    "tai_ind = pd.DataFrame(tai_ind.sort_values(ascending=False))\n",
    "tai_ind"
   ]
  },
  {
   "cell_type": "code",
   "execution_count": 1148,
   "metadata": {},
   "outputs": [
    {
     "name": "stdout",
     "output_type": "stream",
     "text": [
      "Total amount of investment (in usd) Country_3: IND:\n"
     ]
    },
    {
     "data": {
      "text/plain": [
       "2949543602.0"
      ]
     },
     "execution_count": 1148,
     "metadata": {},
     "output_type": "execute_result"
    }
   ],
   "source": [
    "#Total amount of investment (in usd) Country_3: IND\n",
    "print('Total amount of investment (in usd) Country_3: IND:')\n",
    "round(tai_ind['Total_amount_invested_IND_usd'].sum(),3)"
   ]
  },
  {
   "cell_type": "markdown",
   "metadata": {},
   "source": [
    "**Merging the total investment counts and total amount invested in each main sector in dataframes (for each of the top 3 English speaking countries). Creating dataframes D1, D2 and D3 for USA, GBR and IND respectively.**"
   ]
  },
  {
   "cell_type": "code",
   "execution_count": 1149,
   "metadata": {},
   "outputs": [
    {
     "data": {
      "text/plain": [
       "12063"
      ]
     },
     "execution_count": 1149,
     "metadata": {},
     "output_type": "execute_result"
    }
   ],
   "source": [
    "#Creating dataframe D1 for Country_1: USA\n",
    "\n",
    "#Merging 'C1' and 'tic_usa'\n",
    "D1 = pd.merge(C1, tic_usa, how='inner', left_on ='main_sector', right_index = True)\n",
    "#Merging further with 'tai_usa'\n",
    "D1 = pd.merge(D1, tai_usa, how='inner', left_on ='main_sector', right_index = True)\n",
    "D1.shape[0]"
   ]
  },
  {
   "cell_type": "code",
   "execution_count": 1150,
   "metadata": {},
   "outputs": [
    {
     "data": {
      "text/html": [
       "<div>\n",
       "<style scoped>\n",
       "    .dataframe tbody tr th:only-of-type {\n",
       "        vertical-align: middle;\n",
       "    }\n",
       "\n",
       "    .dataframe tbody tr th {\n",
       "        vertical-align: top;\n",
       "    }\n",
       "\n",
       "    .dataframe thead th {\n",
       "        text-align: right;\n",
       "    }\n",
       "</style>\n",
       "<table border=\"1\" class=\"dataframe\">\n",
       "  <thead>\n",
       "    <tr style=\"text-align: right;\">\n",
       "      <th></th>\n",
       "      <th>company_permalink</th>\n",
       "      <th>funding_round_permalink</th>\n",
       "      <th>raised_amount_usd</th>\n",
       "      <th>name</th>\n",
       "      <th>category_list</th>\n",
       "      <th>country_code</th>\n",
       "      <th>main_sector</th>\n",
       "      <th>Total_Investment_Count_USA</th>\n",
       "      <th>Total_amount_invested_USA_usd</th>\n",
       "    </tr>\n",
       "  </thead>\n",
       "  <tbody>\n",
       "    <tr>\n",
       "      <td>3</td>\n",
       "      <td>/organization/0xdata</td>\n",
       "      <td>/funding-round/e1cfcbe1bdf4c70277c5f29a3482f24e</td>\n",
       "      <td>8900000.000</td>\n",
       "      <td>h2o.ai</td>\n",
       "      <td>analytics</td>\n",
       "      <td>USA</td>\n",
       "      <td>social, finance, analytics, advertising</td>\n",
       "      <td>2714</td>\n",
       "      <td>23807376964.000</td>\n",
       "    </tr>\n",
       "    <tr>\n",
       "      <td>57</td>\n",
       "      <td>/organization/21e6</td>\n",
       "      <td>/funding-round/bdf9f5bf67ee51155eae223acac57ec5</td>\n",
       "      <td>5050000.000</td>\n",
       "      <td>21 inc</td>\n",
       "      <td>big data</td>\n",
       "      <td>USA</td>\n",
       "      <td>social, finance, analytics, advertising</td>\n",
       "      <td>2714</td>\n",
       "      <td>23807376964.000</td>\n",
       "    </tr>\n",
       "    <tr>\n",
       "      <td>99</td>\n",
       "      <td>/organization/33across</td>\n",
       "      <td>/funding-round/a45d977b48cb54216eb705d59b24ca19</td>\n",
       "      <td>13100000.000</td>\n",
       "      <td>33across</td>\n",
       "      <td>advertising</td>\n",
       "      <td>USA</td>\n",
       "      <td>social, finance, analytics, advertising</td>\n",
       "      <td>2714</td>\n",
       "      <td>23807376964.000</td>\n",
       "    </tr>\n",
       "    <tr>\n",
       "      <td>101</td>\n",
       "      <td>/organization/33across</td>\n",
       "      <td>/funding-round/bfc2233768b7c79ed58ad7561423e555</td>\n",
       "      <td>9000000.000</td>\n",
       "      <td>33across</td>\n",
       "      <td>advertising</td>\n",
       "      <td>USA</td>\n",
       "      <td>social, finance, analytics, advertising</td>\n",
       "      <td>2714</td>\n",
       "      <td>23807376964.000</td>\n",
       "    </tr>\n",
       "    <tr>\n",
       "      <td>103</td>\n",
       "      <td>/organization/360commerce</td>\n",
       "      <td>/funding-round/1c51042e815e96ed2653ae9ced99dfc4</td>\n",
       "      <td>12000000.000</td>\n",
       "      <td>360commerce</td>\n",
       "      <td>information technology</td>\n",
       "      <td>USA</td>\n",
       "      <td>social, finance, analytics, advertising</td>\n",
       "      <td>2714</td>\n",
       "      <td>23807376964.000</td>\n",
       "    </tr>\n",
       "  </tbody>\n",
       "</table>\n",
       "</div>"
      ],
      "text/plain": [
       "             company_permalink  \\\n",
       "3         /organization/0xdata   \n",
       "57          /organization/21e6   \n",
       "99      /organization/33across   \n",
       "101     /organization/33across   \n",
       "103  /organization/360commerce   \n",
       "\n",
       "                             funding_round_permalink  raised_amount_usd  \\\n",
       "3    /funding-round/e1cfcbe1bdf4c70277c5f29a3482f24e        8900000.000   \n",
       "57   /funding-round/bdf9f5bf67ee51155eae223acac57ec5        5050000.000   \n",
       "99   /funding-round/a45d977b48cb54216eb705d59b24ca19       13100000.000   \n",
       "101  /funding-round/bfc2233768b7c79ed58ad7561423e555        9000000.000   \n",
       "103  /funding-round/1c51042e815e96ed2653ae9ced99dfc4       12000000.000   \n",
       "\n",
       "            name           category_list country_code  \\\n",
       "3         h2o.ai               analytics          USA   \n",
       "57        21 inc                big data          USA   \n",
       "99      33across             advertising          USA   \n",
       "101     33across             advertising          USA   \n",
       "103  360commerce  information technology          USA   \n",
       "\n",
       "                                 main_sector  Total_Investment_Count_USA  \\\n",
       "3    social, finance, analytics, advertising                        2714   \n",
       "57   social, finance, analytics, advertising                        2714   \n",
       "99   social, finance, analytics, advertising                        2714   \n",
       "101  social, finance, analytics, advertising                        2714   \n",
       "103  social, finance, analytics, advertising                        2714   \n",
       "\n",
       "     Total_amount_invested_USA_usd  \n",
       "3                  23807376964.000  \n",
       "57                 23807376964.000  \n",
       "99                 23807376964.000  \n",
       "101                23807376964.000  \n",
       "103                23807376964.000  "
      ]
     },
     "execution_count": 1150,
     "metadata": {},
     "output_type": "execute_result"
    }
   ],
   "source": [
    "#Dataframe D1 (display head)\n",
    "D1.head()"
   ]
  },
  {
   "cell_type": "code",
   "execution_count": 1151,
   "metadata": {},
   "outputs": [
    {
     "data": {
      "text/plain": [
       "621"
      ]
     },
     "execution_count": 1151,
     "metadata": {},
     "output_type": "execute_result"
    }
   ],
   "source": [
    "#Creating dataframe D2 for Country_2: GBR\n",
    "\n",
    "#Merging 'C2' and 'tic_gbr'\n",
    "D2 = pd.merge(C2, tic_gbr, how='inner', left_on ='main_sector', right_index = True)\n",
    "#Merging further with 'tai_gbr'\n",
    "D2 = pd.merge(D2, tai_gbr, how='inner', left_on ='main_sector', right_index = True)\n",
    "D2.shape[0]"
   ]
  },
  {
   "cell_type": "code",
   "execution_count": 1152,
   "metadata": {},
   "outputs": [
    {
     "data": {
      "text/html": [
       "<div>\n",
       "<style scoped>\n",
       "    .dataframe tbody tr th:only-of-type {\n",
       "        vertical-align: middle;\n",
       "    }\n",
       "\n",
       "    .dataframe tbody tr th {\n",
       "        vertical-align: top;\n",
       "    }\n",
       "\n",
       "    .dataframe thead th {\n",
       "        text-align: right;\n",
       "    }\n",
       "</style>\n",
       "<table border=\"1\" class=\"dataframe\">\n",
       "  <thead>\n",
       "    <tr style=\"text-align: right;\">\n",
       "      <th></th>\n",
       "      <th>company_permalink</th>\n",
       "      <th>funding_round_permalink</th>\n",
       "      <th>raised_amount_usd</th>\n",
       "      <th>name</th>\n",
       "      <th>category_list</th>\n",
       "      <th>country_code</th>\n",
       "      <th>main_sector</th>\n",
       "      <th>Total_Investment_Count_GBR</th>\n",
       "      <th>Total_amount_invested_GBR_usd</th>\n",
       "    </tr>\n",
       "  </thead>\n",
       "  <tbody>\n",
       "    <tr>\n",
       "      <td>108</td>\n",
       "      <td>/organization/365scores</td>\n",
       "      <td>/funding-round/48212f931f542fdef78810bc87aef086</td>\n",
       "      <td>5500000.000</td>\n",
       "      <td>365scores</td>\n",
       "      <td>android</td>\n",
       "      <td>GBR</td>\n",
       "      <td>social, finance, analytics, advertising</td>\n",
       "      <td>133</td>\n",
       "      <td>1089404014.000</td>\n",
       "    </tr>\n",
       "    <tr>\n",
       "      <td>396</td>\n",
       "      <td>/organization/acal-enterprise-solutions</td>\n",
       "      <td>/funding-round/0f9a693d9686330c5c2724215e0048e2</td>\n",
       "      <td>10720178.000</td>\n",
       "      <td>acal enterprise solutions</td>\n",
       "      <td>information technology</td>\n",
       "      <td>GBR</td>\n",
       "      <td>social, finance, analytics, advertising</td>\n",
       "      <td>133</td>\n",
       "      <td>1089404014.000</td>\n",
       "    </tr>\n",
       "    <tr>\n",
       "      <td>836</td>\n",
       "      <td>/organization/adbrain</td>\n",
       "      <td>/funding-round/71f1b5903874817292d67e1ac6aa66b2</td>\n",
       "      <td>7500000.000</td>\n",
       "      <td>adbrain</td>\n",
       "      <td>advertising</td>\n",
       "      <td>GBR</td>\n",
       "      <td>social, finance, analytics, advertising</td>\n",
       "      <td>133</td>\n",
       "      <td>1089404014.000</td>\n",
       "    </tr>\n",
       "    <tr>\n",
       "      <td>914</td>\n",
       "      <td>/organization/adinsight</td>\n",
       "      <td>/funding-round/5bcca548aeccd5acdea0d0edb086db8d</td>\n",
       "      <td>6772812.000</td>\n",
       "      <td>responsetap</td>\n",
       "      <td>advertising</td>\n",
       "      <td>GBR</td>\n",
       "      <td>social, finance, analytics, advertising</td>\n",
       "      <td>133</td>\n",
       "      <td>1089404014.000</td>\n",
       "    </tr>\n",
       "    <tr>\n",
       "      <td>920</td>\n",
       "      <td>/organization/adjug</td>\n",
       "      <td>/funding-round/83653befbf3c473ec97a1617479448c8</td>\n",
       "      <td>6500000.000</td>\n",
       "      <td>adjug</td>\n",
       "      <td>advertising</td>\n",
       "      <td>GBR</td>\n",
       "      <td>social, finance, analytics, advertising</td>\n",
       "      <td>133</td>\n",
       "      <td>1089404014.000</td>\n",
       "    </tr>\n",
       "  </tbody>\n",
       "</table>\n",
       "</div>"
      ],
      "text/plain": [
       "                           company_permalink  \\\n",
       "108                  /organization/365scores   \n",
       "396  /organization/acal-enterprise-solutions   \n",
       "836                    /organization/adbrain   \n",
       "914                  /organization/adinsight   \n",
       "920                      /organization/adjug   \n",
       "\n",
       "                             funding_round_permalink  raised_amount_usd  \\\n",
       "108  /funding-round/48212f931f542fdef78810bc87aef086        5500000.000   \n",
       "396  /funding-round/0f9a693d9686330c5c2724215e0048e2       10720178.000   \n",
       "836  /funding-round/71f1b5903874817292d67e1ac6aa66b2        7500000.000   \n",
       "914  /funding-round/5bcca548aeccd5acdea0d0edb086db8d        6772812.000   \n",
       "920  /funding-round/83653befbf3c473ec97a1617479448c8        6500000.000   \n",
       "\n",
       "                          name           category_list country_code  \\\n",
       "108                  365scores                 android          GBR   \n",
       "396  acal enterprise solutions  information technology          GBR   \n",
       "836                    adbrain             advertising          GBR   \n",
       "914                responsetap             advertising          GBR   \n",
       "920                      adjug             advertising          GBR   \n",
       "\n",
       "                                 main_sector  Total_Investment_Count_GBR  \\\n",
       "108  social, finance, analytics, advertising                         133   \n",
       "396  social, finance, analytics, advertising                         133   \n",
       "836  social, finance, analytics, advertising                         133   \n",
       "914  social, finance, analytics, advertising                         133   \n",
       "920  social, finance, analytics, advertising                         133   \n",
       "\n",
       "     Total_amount_invested_GBR_usd  \n",
       "108                 1089404014.000  \n",
       "396                 1089404014.000  \n",
       "836                 1089404014.000  \n",
       "914                 1089404014.000  \n",
       "920                 1089404014.000  "
      ]
     },
     "execution_count": 1152,
     "metadata": {},
     "output_type": "execute_result"
    }
   ],
   "source": [
    "#Dataframe D2 (display head)\n",
    "D2.head()"
   ]
  },
  {
   "cell_type": "code",
   "execution_count": 1153,
   "metadata": {},
   "outputs": [
    {
     "data": {
      "text/plain": [
       "328"
      ]
     },
     "execution_count": 1153,
     "metadata": {},
     "output_type": "execute_result"
    }
   ],
   "source": [
    "#Creating dataframe D3 for Country_3: IND\n",
    "\n",
    "#Merging 'C3' and 'tic_ind'\n",
    "D3 = pd.merge(C3, tic_ind, how='inner', left_on ='main_sector', right_index = True)\n",
    "#Merging further with 'tai_ind'\n",
    "D3 = pd.merge(D3, tai_ind, how='inner', left_on ='main_sector', right_index = True)\n",
    "D3.shape[0]"
   ]
  },
  {
   "cell_type": "code",
   "execution_count": 1154,
   "metadata": {
    "scrolled": true
   },
   "outputs": [
    {
     "data": {
      "text/html": [
       "<div>\n",
       "<style scoped>\n",
       "    .dataframe tbody tr th:only-of-type {\n",
       "        vertical-align: middle;\n",
       "    }\n",
       "\n",
       "    .dataframe tbody tr th {\n",
       "        vertical-align: top;\n",
       "    }\n",
       "\n",
       "    .dataframe thead th {\n",
       "        text-align: right;\n",
       "    }\n",
       "</style>\n",
       "<table border=\"1\" class=\"dataframe\">\n",
       "  <thead>\n",
       "    <tr style=\"text-align: right;\">\n",
       "      <th></th>\n",
       "      <th>company_permalink</th>\n",
       "      <th>funding_round_permalink</th>\n",
       "      <th>raised_amount_usd</th>\n",
       "      <th>name</th>\n",
       "      <th>category_list</th>\n",
       "      <th>country_code</th>\n",
       "      <th>main_sector</th>\n",
       "      <th>Total_Investment_Count_IND</th>\n",
       "      <th>Total_amount_invested_IND_usd</th>\n",
       "    </tr>\n",
       "  </thead>\n",
       "  <tbody>\n",
       "    <tr>\n",
       "      <td>0</td>\n",
       "      <td>/organization/-fame</td>\n",
       "      <td>/funding-round/9a01d05418af9f794eebff7ace91f638</td>\n",
       "      <td>10000000.000</td>\n",
       "      <td>#fame</td>\n",
       "      <td>media</td>\n",
       "      <td>IND</td>\n",
       "      <td>entertainment</td>\n",
       "      <td>33</td>\n",
       "      <td>280830000.000</td>\n",
       "    </tr>\n",
       "    <tr>\n",
       "      <td>926</td>\n",
       "      <td>/organization/adlabs-imagica</td>\n",
       "      <td>/funding-round/508d3c83daaae9fda3ba6f9682c78f6c</td>\n",
       "      <td>8180000.000</td>\n",
       "      <td>adlabs imagica</td>\n",
       "      <td>entertainment</td>\n",
       "      <td>IND</td>\n",
       "      <td>entertainment</td>\n",
       "      <td>33</td>\n",
       "      <td>280830000.000</td>\n",
       "    </tr>\n",
       "    <tr>\n",
       "      <td>2313</td>\n",
       "      <td>/organization/apalya</td>\n",
       "      <td>/funding-round/21e89efcaeab1bb1f61323686af357bf</td>\n",
       "      <td>7500000.000</td>\n",
       "      <td>apalya</td>\n",
       "      <td>content</td>\n",
       "      <td>IND</td>\n",
       "      <td>entertainment</td>\n",
       "      <td>33</td>\n",
       "      <td>280830000.000</td>\n",
       "    </tr>\n",
       "    <tr>\n",
       "      <td>2315</td>\n",
       "      <td>/organization/apalya</td>\n",
       "      <td>/funding-round/fc622ba39384746a32c974c1c5891438</td>\n",
       "      <td>8000000.000</td>\n",
       "      <td>apalya</td>\n",
       "      <td>content</td>\n",
       "      <td>IND</td>\n",
       "      <td>entertainment</td>\n",
       "      <td>33</td>\n",
       "      <td>280830000.000</td>\n",
       "    </tr>\n",
       "    <tr>\n",
       "      <td>6969</td>\n",
       "      <td>/organization/chef-s-basket</td>\n",
       "      <td>/funding-round/b4d86bd15405c6a70ebbf724befc214a</td>\n",
       "      <td>6000000.000</td>\n",
       "      <td>chef's basket</td>\n",
       "      <td>restaurants</td>\n",
       "      <td>IND</td>\n",
       "      <td>entertainment</td>\n",
       "      <td>33</td>\n",
       "      <td>280830000.000</td>\n",
       "    </tr>\n",
       "  </tbody>\n",
       "</table>\n",
       "</div>"
      ],
      "text/plain": [
       "                 company_permalink  \\\n",
       "0              /organization/-fame   \n",
       "926   /organization/adlabs-imagica   \n",
       "2313          /organization/apalya   \n",
       "2315          /organization/apalya   \n",
       "6969   /organization/chef-s-basket   \n",
       "\n",
       "                              funding_round_permalink  raised_amount_usd  \\\n",
       "0     /funding-round/9a01d05418af9f794eebff7ace91f638       10000000.000   \n",
       "926   /funding-round/508d3c83daaae9fda3ba6f9682c78f6c        8180000.000   \n",
       "2313  /funding-round/21e89efcaeab1bb1f61323686af357bf        7500000.000   \n",
       "2315  /funding-round/fc622ba39384746a32c974c1c5891438        8000000.000   \n",
       "6969  /funding-round/b4d86bd15405c6a70ebbf724befc214a        6000000.000   \n",
       "\n",
       "                name  category_list country_code    main_sector  \\\n",
       "0              #fame          media          IND  entertainment   \n",
       "926   adlabs imagica  entertainment          IND  entertainment   \n",
       "2313          apalya        content          IND  entertainment   \n",
       "2315          apalya        content          IND  entertainment   \n",
       "6969   chef's basket    restaurants          IND  entertainment   \n",
       "\n",
       "      Total_Investment_Count_IND  Total_amount_invested_IND_usd  \n",
       "0                             33                  280830000.000  \n",
       "926                           33                  280830000.000  \n",
       "2313                          33                  280830000.000  \n",
       "2315                          33                  280830000.000  \n",
       "6969                          33                  280830000.000  "
      ]
     },
     "execution_count": 1154,
     "metadata": {},
     "output_type": "execute_result"
    }
   ],
   "source": [
    "D3.head()"
   ]
  },
  {
   "cell_type": "markdown",
   "metadata": {},
   "source": [
    "We have three separate data frames D1, D2 and D3 for each of the three countries containing the observations of funding type FT (venture) falling within the 5-15 million USD range. They contain all the columns of the master_frame. (Here, venture_master_frame is derived from the master_frame). Also, in addition to this, it also contains the total number (or count) of investments for each main sector and the total amount invested in each main sector in separate columns.\n"
   ]
  },
  {
   "cell_type": "markdown",
   "metadata": {},
   "source": [
    "**For the top sector count-wise (as per the top sector based out of investment count), which company received the highest investment?**"
   ]
  },
  {
   "cell_type": "markdown",
   "metadata": {},
   "source": [
    "<font color='maroon'>**USA**</font>"
   ]
  },
  {
   "cell_type": "code",
   "execution_count": 1155,
   "metadata": {},
   "outputs": [],
   "source": [
    "#Creating new dataframes 'D1_1_top','D2_1_top' and 'D3_1_top' containing only the first top sector for the respective countries \n",
    "#Using dataframes D1, D2 and D3.\n",
    "\n",
    "#The top main_sector sector for USA, GBR and IND is 'others'. Hence, retaining only those records.\n",
    "D1_1_top = D1[(D1['main_sector'] == 'others')]\n",
    "D2_1_top = D2[(D2['main_sector'] == 'others')]\n",
    "D3_1_top = D3[(D3['main_sector'] == 'others')]"
   ]
  },
  {
   "cell_type": "code",
   "execution_count": 1156,
   "metadata": {},
   "outputs": [
    {
     "data": {
      "text/html": [
       "<div>\n",
       "<style scoped>\n",
       "    .dataframe tbody tr th:only-of-type {\n",
       "        vertical-align: middle;\n",
       "    }\n",
       "\n",
       "    .dataframe tbody tr th {\n",
       "        vertical-align: top;\n",
       "    }\n",
       "\n",
       "    .dataframe thead th {\n",
       "        text-align: right;\n",
       "    }\n",
       "</style>\n",
       "<table border=\"1\" class=\"dataframe\">\n",
       "  <thead>\n",
       "    <tr style=\"text-align: right;\">\n",
       "      <th></th>\n",
       "      <th>company_permalink</th>\n",
       "      <th>name</th>\n",
       "      <th>raised_amount_usd</th>\n",
       "    </tr>\n",
       "  </thead>\n",
       "  <tbody>\n",
       "    <tr>\n",
       "      <td>0</td>\n",
       "      <td>/organization/virtustream</td>\n",
       "      <td>virtustream</td>\n",
       "      <td>64300000.000</td>\n",
       "    </tr>\n",
       "    <tr>\n",
       "      <td>1</td>\n",
       "      <td>/organization/capella</td>\n",
       "      <td>capella photonics</td>\n",
       "      <td>54968051.000</td>\n",
       "    </tr>\n",
       "    <tr>\n",
       "      <td>2</td>\n",
       "      <td>/organization/airtight-networks</td>\n",
       "      <td>airtight networks</td>\n",
       "      <td>54201907.000</td>\n",
       "    </tr>\n",
       "    <tr>\n",
       "      <td>3</td>\n",
       "      <td>/organization/decarta</td>\n",
       "      <td>decarta</td>\n",
       "      <td>52100000.000</td>\n",
       "    </tr>\n",
       "    <tr>\n",
       "      <td>4</td>\n",
       "      <td>/organization/black-duck-software</td>\n",
       "      <td>black duck software</td>\n",
       "      <td>51000000.000</td>\n",
       "    </tr>\n",
       "  </tbody>\n",
       "</table>\n",
       "</div>"
      ],
      "text/plain": [
       "                   company_permalink                 name  raised_amount_usd\n",
       "0          /organization/virtustream          virtustream       64300000.000\n",
       "1              /organization/capella    capella photonics       54968051.000\n",
       "2    /organization/airtight-networks    airtight networks       54201907.000\n",
       "3              /organization/decarta              decarta       52100000.000\n",
       "4  /organization/black-duck-software  black duck software       51000000.000"
      ]
     },
     "execution_count": 1156,
     "metadata": {},
     "output_type": "execute_result"
    }
   ],
   "source": [
    "#For the top sector (in USA) count-wise (as per the top sector based out of investment count)\n",
    "#Determining the company that received the highest investment\n",
    "\n",
    "D1_1_top = D1_1_top.groupby(['company_permalink','name'])['raised_amount_usd'].sum().sort_values(ascending=False)\n",
    "D1_1_top = pd.DataFrame(D1_1_top)\n",
    "D1_1_top.reset_index(inplace=True)\n",
    "D1_1_top.head()"
   ]
  },
  {
   "cell_type": "code",
   "execution_count": 1157,
   "metadata": {},
   "outputs": [
    {
     "data": {
      "text/html": [
       "<div>\n",
       "<style scoped>\n",
       "    .dataframe tbody tr th:only-of-type {\n",
       "        vertical-align: middle;\n",
       "    }\n",
       "\n",
       "    .dataframe tbody tr th {\n",
       "        vertical-align: top;\n",
       "    }\n",
       "\n",
       "    .dataframe thead th {\n",
       "        text-align: right;\n",
       "    }\n",
       "</style>\n",
       "<table border=\"1\" class=\"dataframe\">\n",
       "  <thead>\n",
       "    <tr style=\"text-align: right;\">\n",
       "      <th></th>\n",
       "      <th>company_permalink</th>\n",
       "      <th>name</th>\n",
       "      <th>raised_amount_usd</th>\n",
       "    </tr>\n",
       "  </thead>\n",
       "  <tbody>\n",
       "    <tr>\n",
       "      <td>0</td>\n",
       "      <td>/organization/virtustream</td>\n",
       "      <td>virtustream</td>\n",
       "      <td>64300000.000</td>\n",
       "    </tr>\n",
       "  </tbody>\n",
       "</table>\n",
       "</div>"
      ],
      "text/plain": [
       "           company_permalink         name  raised_amount_usd\n",
       "0  /organization/virtustream  virtustream       64300000.000"
      ]
     },
     "execution_count": 1157,
     "metadata": {},
     "output_type": "execute_result"
    }
   ],
   "source": [
    "#Retaining only maximum investment records\n",
    "D1_1_top = D1_1_top[D1_1_top['raised_amount_usd'] == D1_1_top.raised_amount_usd.max()]\n",
    "D1_1_top = D1_1_top.sort_values('company_permalink', ascending=True)\n",
    "D1_1_top"
   ]
  },
  {
   "cell_type": "code",
   "execution_count": 1158,
   "metadata": {},
   "outputs": [
    {
     "name": "stdout",
     "output_type": "stream",
     "text": [
      "For the top sector (in USA) count-wise (as per the top sector based out of investment counts), the company that received the highest investment:\n",
      "\n",
      "Unique ID of company: /organization/virtustream\n",
      "Company name: virtustream\n"
     ]
    }
   ],
   "source": [
    "print('For the top sector (in USA) count-wise (as per the top sector based out of investment counts), \\\n",
    "the company that received the highest investment:\\n')\n",
    "\n",
    "print('Unique ID of company:',D1_1_top['company_permalink'][0])\n",
    "print('Company name:',D1_1_top['name'][0])"
   ]
  },
  {
   "cell_type": "markdown",
   "metadata": {},
   "source": [
    "<font color='maroon'>**GBR**</font>"
   ]
  },
  {
   "cell_type": "code",
   "execution_count": 1159,
   "metadata": {},
   "outputs": [
    {
     "data": {
      "text/html": [
       "<div>\n",
       "<style scoped>\n",
       "    .dataframe tbody tr th:only-of-type {\n",
       "        vertical-align: middle;\n",
       "    }\n",
       "\n",
       "    .dataframe tbody tr th {\n",
       "        vertical-align: top;\n",
       "    }\n",
       "\n",
       "    .dataframe thead th {\n",
       "        text-align: right;\n",
       "    }\n",
       "</style>\n",
       "<table border=\"1\" class=\"dataframe\">\n",
       "  <thead>\n",
       "    <tr style=\"text-align: right;\">\n",
       "      <th></th>\n",
       "      <th>company_permalink</th>\n",
       "      <th>name</th>\n",
       "      <th>raised_amount_usd</th>\n",
       "    </tr>\n",
       "  </thead>\n",
       "  <tbody>\n",
       "    <tr>\n",
       "      <td>0</td>\n",
       "      <td>/organization/electric-cloud</td>\n",
       "      <td>electric cloud</td>\n",
       "      <td>37000000.000</td>\n",
       "    </tr>\n",
       "    <tr>\n",
       "      <td>1</td>\n",
       "      <td>/organization/sensage</td>\n",
       "      <td>sensage</td>\n",
       "      <td>36250000.000</td>\n",
       "    </tr>\n",
       "    <tr>\n",
       "      <td>2</td>\n",
       "      <td>/organization/enigmatic</td>\n",
       "      <td>enigmatec</td>\n",
       "      <td>32500000.000</td>\n",
       "    </tr>\n",
       "    <tr>\n",
       "      <td>3</td>\n",
       "      <td>/organization/silverrail-technologies</td>\n",
       "      <td>silverrail technologies</td>\n",
       "      <td>29000000.000</td>\n",
       "    </tr>\n",
       "    <tr>\n",
       "      <td>4</td>\n",
       "      <td>/organization/opencloud</td>\n",
       "      <td>opencloud</td>\n",
       "      <td>27972766.000</td>\n",
       "    </tr>\n",
       "  </tbody>\n",
       "</table>\n",
       "</div>"
      ],
      "text/plain": [
       "                       company_permalink                     name  \\\n",
       "0           /organization/electric-cloud           electric cloud   \n",
       "1                  /organization/sensage                  sensage   \n",
       "2                /organization/enigmatic                enigmatec   \n",
       "3  /organization/silverrail-technologies  silverrail technologies   \n",
       "4                /organization/opencloud                opencloud   \n",
       "\n",
       "   raised_amount_usd  \n",
       "0       37000000.000  \n",
       "1       36250000.000  \n",
       "2       32500000.000  \n",
       "3       29000000.000  \n",
       "4       27972766.000  "
      ]
     },
     "execution_count": 1159,
     "metadata": {},
     "output_type": "execute_result"
    }
   ],
   "source": [
    "#For the top sector (in GBR) count-wise (as per the top sector based out of investment count)\n",
    "#Determining the company that received the highest investment\n",
    "\n",
    "D2_1_top = D2_1_top.groupby(['company_permalink','name'])['raised_amount_usd'].sum().sort_values(ascending=False)\n",
    "D2_1_top = pd.DataFrame(D2_1_top)\n",
    "D2_1_top.reset_index(inplace=True)\n",
    "D2_1_top.head()\n"
   ]
  },
  {
   "cell_type": "code",
   "execution_count": 1160,
   "metadata": {
    "scrolled": true
   },
   "outputs": [
    {
     "data": {
      "text/html": [
       "<div>\n",
       "<style scoped>\n",
       "    .dataframe tbody tr th:only-of-type {\n",
       "        vertical-align: middle;\n",
       "    }\n",
       "\n",
       "    .dataframe tbody tr th {\n",
       "        vertical-align: top;\n",
       "    }\n",
       "\n",
       "    .dataframe thead th {\n",
       "        text-align: right;\n",
       "    }\n",
       "</style>\n",
       "<table border=\"1\" class=\"dataframe\">\n",
       "  <thead>\n",
       "    <tr style=\"text-align: right;\">\n",
       "      <th></th>\n",
       "      <th>company_permalink</th>\n",
       "      <th>name</th>\n",
       "      <th>raised_amount_usd</th>\n",
       "    </tr>\n",
       "  </thead>\n",
       "  <tbody>\n",
       "    <tr>\n",
       "      <td>0</td>\n",
       "      <td>/organization/electric-cloud</td>\n",
       "      <td>electric cloud</td>\n",
       "      <td>37000000.000</td>\n",
       "    </tr>\n",
       "  </tbody>\n",
       "</table>\n",
       "</div>"
      ],
      "text/plain": [
       "              company_permalink            name  raised_amount_usd\n",
       "0  /organization/electric-cloud  electric cloud       37000000.000"
      ]
     },
     "execution_count": 1160,
     "metadata": {},
     "output_type": "execute_result"
    }
   ],
   "source": [
    "#Retaining only those records\n",
    "D2_1_top = D2_1_top[D2_1_top['raised_amount_usd'] == D2_1_top.raised_amount_usd.max()]\n",
    "D2_1_top = D2_1_top.sort_values('company_permalink',ascending=True)\n",
    "D2_1_top"
   ]
  },
  {
   "cell_type": "code",
   "execution_count": 1161,
   "metadata": {
    "scrolled": true
   },
   "outputs": [
    {
     "name": "stdout",
     "output_type": "stream",
     "text": [
      "For the top sector (in GBR) count-wise (as per the top sector based out of investment counts), the company that received the highest investment:\n",
      "\n",
      "Unique ID of Company: /organization/electric-cloud\n",
      "Company name: electric cloud\n"
     ]
    }
   ],
   "source": [
    "print('For the top sector (in GBR) count-wise (as per the top sector based out of investment counts), \\\n",
    "the company that received the highest investment:\\n')\n",
    "\n",
    "print('Unique ID of Company:',D2_1_top['company_permalink'][0])\n",
    "print('Company name:',D2_1_top['name'][0])"
   ]
  },
  {
   "cell_type": "markdown",
   "metadata": {},
   "source": [
    "<font color='maroon'>**IND**</font>"
   ]
  },
  {
   "cell_type": "code",
   "execution_count": 1162,
   "metadata": {},
   "outputs": [
    {
     "data": {
      "text/html": [
       "<div>\n",
       "<style scoped>\n",
       "    .dataframe tbody tr th:only-of-type {\n",
       "        vertical-align: middle;\n",
       "    }\n",
       "\n",
       "    .dataframe tbody tr th {\n",
       "        vertical-align: top;\n",
       "    }\n",
       "\n",
       "    .dataframe thead th {\n",
       "        text-align: right;\n",
       "    }\n",
       "</style>\n",
       "<table border=\"1\" class=\"dataframe\">\n",
       "  <thead>\n",
       "    <tr style=\"text-align: right;\">\n",
       "      <th></th>\n",
       "      <th>company_permalink</th>\n",
       "      <th>name</th>\n",
       "      <th>raised_amount_usd</th>\n",
       "    </tr>\n",
       "  </thead>\n",
       "  <tbody>\n",
       "    <tr>\n",
       "      <td>0</td>\n",
       "      <td>/organization/firstcry-com</td>\n",
       "      <td>firstcry.com</td>\n",
       "      <td>39000000.000</td>\n",
       "    </tr>\n",
       "    <tr>\n",
       "      <td>1</td>\n",
       "      <td>/organization/myntra</td>\n",
       "      <td>myntra</td>\n",
       "      <td>38000000.000</td>\n",
       "    </tr>\n",
       "    <tr>\n",
       "      <td>2</td>\n",
       "      <td>/organization/commonfloor</td>\n",
       "      <td>commonfloor</td>\n",
       "      <td>32900000.000</td>\n",
       "    </tr>\n",
       "    <tr>\n",
       "      <td>3</td>\n",
       "      <td>/organization/pepperfry-com</td>\n",
       "      <td>pepperfry.com</td>\n",
       "      <td>28000000.000</td>\n",
       "    </tr>\n",
       "    <tr>\n",
       "      <td>4</td>\n",
       "      <td>/organization/itzcash-card-ltd</td>\n",
       "      <td>itzcash card ltd.</td>\n",
       "      <td>25000000.000</td>\n",
       "    </tr>\n",
       "  </tbody>\n",
       "</table>\n",
       "</div>"
      ],
      "text/plain": [
       "                company_permalink               name  raised_amount_usd\n",
       "0      /organization/firstcry-com       firstcry.com       39000000.000\n",
       "1            /organization/myntra             myntra       38000000.000\n",
       "2       /organization/commonfloor        commonfloor       32900000.000\n",
       "3     /organization/pepperfry-com      pepperfry.com       28000000.000\n",
       "4  /organization/itzcash-card-ltd  itzcash card ltd.       25000000.000"
      ]
     },
     "execution_count": 1162,
     "metadata": {},
     "output_type": "execute_result"
    }
   ],
   "source": [
    "#For the top sector (in IND) count-wise (as per the top sector based out of investment count)\n",
    "#Determining the company that received the highest investment\n",
    "\n",
    "D3_1_top = D3_1_top.groupby(['company_permalink','name'])['raised_amount_usd'].sum().sort_values(ascending=False)\n",
    "D3_1_top = pd.DataFrame(D3_1_top)\n",
    "D3_1_top.reset_index(inplace=True)\n",
    "D3_1_top.head()"
   ]
  },
  {
   "cell_type": "code",
   "execution_count": 1163,
   "metadata": {},
   "outputs": [
    {
     "data": {
      "text/html": [
       "<div>\n",
       "<style scoped>\n",
       "    .dataframe tbody tr th:only-of-type {\n",
       "        vertical-align: middle;\n",
       "    }\n",
       "\n",
       "    .dataframe tbody tr th {\n",
       "        vertical-align: top;\n",
       "    }\n",
       "\n",
       "    .dataframe thead th {\n",
       "        text-align: right;\n",
       "    }\n",
       "</style>\n",
       "<table border=\"1\" class=\"dataframe\">\n",
       "  <thead>\n",
       "    <tr style=\"text-align: right;\">\n",
       "      <th></th>\n",
       "      <th>company_permalink</th>\n",
       "      <th>name</th>\n",
       "      <th>raised_amount_usd</th>\n",
       "    </tr>\n",
       "  </thead>\n",
       "  <tbody>\n",
       "    <tr>\n",
       "      <td>0</td>\n",
       "      <td>/organization/firstcry-com</td>\n",
       "      <td>firstcry.com</td>\n",
       "      <td>39000000.000</td>\n",
       "    </tr>\n",
       "  </tbody>\n",
       "</table>\n",
       "</div>"
      ],
      "text/plain": [
       "            company_permalink          name  raised_amount_usd\n",
       "0  /organization/firstcry-com  firstcry.com       39000000.000"
      ]
     },
     "execution_count": 1163,
     "metadata": {},
     "output_type": "execute_result"
    }
   ],
   "source": [
    "#Retaining only those records\n",
    "D3_1_top = D3_1_top[D3_1_top['raised_amount_usd'] == D3_1_top.raised_amount_usd.max()]\n",
    "D3_1_top = D3_1_top.sort_values('company_permalink',ascending=True)\n",
    "D3_1_top"
   ]
  },
  {
   "cell_type": "code",
   "execution_count": 1164,
   "metadata": {},
   "outputs": [
    {
     "name": "stdout",
     "output_type": "stream",
     "text": [
      "For the top sector (IND) count-wise (as per the top sector based out of investment counts), the company that received the highest investment:\n",
      "\n",
      "Unique ID of Company: /organization/firstcry-com\n",
      "Company name: firstcry.com\n"
     ]
    }
   ],
   "source": [
    "print('For the top sector (IND) count-wise (as per the top sector based out of investment counts), \\\n",
    "the company that received the highest investment:\\n')\n",
    "\n",
    "print('Unique ID of Company:',D3_1_top['company_permalink'][0])\n",
    "print('Company name:',D3_1_top['name'][0])"
   ]
  },
  {
   "cell_type": "markdown",
   "metadata": {},
   "source": [
    "**For the second-best sector count-wise (as per the top sector based out of investment count), which company received the highest investment?**"
   ]
  },
  {
   "cell_type": "markdown",
   "metadata": {},
   "source": [
    "<font color='maroon'>**USA**</font>"
   ]
  },
  {
   "cell_type": "code",
   "execution_count": 1165,
   "metadata": {},
   "outputs": [],
   "source": [
    "#Creating new dataframes 'D1_2_top','D2_2_top' and 'D3_2_top' containing only the second-best sector for the respective countries \n",
    "#Using dataframes D1, D2 and D3.\n",
    "\n",
    "D1_2_top = D1[(D1['main_sector'] == 'social, finance, analytics, advertising')]\n",
    "D2_2_top = D2[(D2['main_sector'] == 'social, finance, analytics, advertising')]\n",
    "D3_2_top = D3[(D3['main_sector'] == 'social, finance, analytics, advertising')]"
   ]
  },
  {
   "cell_type": "code",
   "execution_count": 1166,
   "metadata": {},
   "outputs": [
    {
     "data": {
      "text/html": [
       "<div>\n",
       "<style scoped>\n",
       "    .dataframe tbody tr th:only-of-type {\n",
       "        vertical-align: middle;\n",
       "    }\n",
       "\n",
       "    .dataframe tbody tr th {\n",
       "        vertical-align: top;\n",
       "    }\n",
       "\n",
       "    .dataframe thead th {\n",
       "        text-align: right;\n",
       "    }\n",
       "</style>\n",
       "<table border=\"1\" class=\"dataframe\">\n",
       "  <thead>\n",
       "    <tr style=\"text-align: right;\">\n",
       "      <th></th>\n",
       "      <th>company_permalink</th>\n",
       "      <th>name</th>\n",
       "      <th>raised_amount_usd</th>\n",
       "    </tr>\n",
       "  </thead>\n",
       "  <tbody>\n",
       "    <tr>\n",
       "      <td>0</td>\n",
       "      <td>/organization/shotspotter</td>\n",
       "      <td>sst inc. (formerly shotspotter)</td>\n",
       "      <td>67933006.000</td>\n",
       "    </tr>\n",
       "    <tr>\n",
       "      <td>1</td>\n",
       "      <td>/organization/demandbase</td>\n",
       "      <td>demandbase</td>\n",
       "      <td>63000000.000</td>\n",
       "    </tr>\n",
       "    <tr>\n",
       "      <td>2</td>\n",
       "      <td>/organization/intacct</td>\n",
       "      <td>intacct</td>\n",
       "      <td>61800000.000</td>\n",
       "    </tr>\n",
       "    <tr>\n",
       "      <td>3</td>\n",
       "      <td>/organization/netbase</td>\n",
       "      <td>netbase solutions</td>\n",
       "      <td>60600000.000</td>\n",
       "    </tr>\n",
       "    <tr>\n",
       "      <td>4</td>\n",
       "      <td>/organization/lotame</td>\n",
       "      <td>lotame</td>\n",
       "      <td>59700000.000</td>\n",
       "    </tr>\n",
       "  </tbody>\n",
       "</table>\n",
       "</div>"
      ],
      "text/plain": [
       "           company_permalink                             name  \\\n",
       "0  /organization/shotspotter  sst inc. (formerly shotspotter)   \n",
       "1   /organization/demandbase                       demandbase   \n",
       "2      /organization/intacct                          intacct   \n",
       "3      /organization/netbase                netbase solutions   \n",
       "4       /organization/lotame                           lotame   \n",
       "\n",
       "   raised_amount_usd  \n",
       "0       67933006.000  \n",
       "1       63000000.000  \n",
       "2       61800000.000  \n",
       "3       60600000.000  \n",
       "4       59700000.000  "
      ]
     },
     "execution_count": 1166,
     "metadata": {},
     "output_type": "execute_result"
    }
   ],
   "source": [
    "#For the second-best sector (in USA) count-wise (as per the top sector based out of investment count)\n",
    "#Determining the company that received the highest investment\n",
    "\n",
    "D1_2_top = D1_2_top.groupby(['company_permalink','name'])['raised_amount_usd'].sum().sort_values(ascending=False)\n",
    "D1_2_top = pd.DataFrame(D1_2_top)\n",
    "D1_2_top.reset_index(inplace=True)\n",
    "D1_2_top.head()"
   ]
  },
  {
   "cell_type": "code",
   "execution_count": 1167,
   "metadata": {},
   "outputs": [
    {
     "data": {
      "text/html": [
       "<div>\n",
       "<style scoped>\n",
       "    .dataframe tbody tr th:only-of-type {\n",
       "        vertical-align: middle;\n",
       "    }\n",
       "\n",
       "    .dataframe tbody tr th {\n",
       "        vertical-align: top;\n",
       "    }\n",
       "\n",
       "    .dataframe thead th {\n",
       "        text-align: right;\n",
       "    }\n",
       "</style>\n",
       "<table border=\"1\" class=\"dataframe\">\n",
       "  <thead>\n",
       "    <tr style=\"text-align: right;\">\n",
       "      <th></th>\n",
       "      <th>company_permalink</th>\n",
       "      <th>name</th>\n",
       "      <th>raised_amount_usd</th>\n",
       "    </tr>\n",
       "  </thead>\n",
       "  <tbody>\n",
       "    <tr>\n",
       "      <td>0</td>\n",
       "      <td>/organization/shotspotter</td>\n",
       "      <td>sst inc. (formerly shotspotter)</td>\n",
       "      <td>67933006.000</td>\n",
       "    </tr>\n",
       "  </tbody>\n",
       "</table>\n",
       "</div>"
      ],
      "text/plain": [
       "           company_permalink                             name  \\\n",
       "0  /organization/shotspotter  sst inc. (formerly shotspotter)   \n",
       "\n",
       "   raised_amount_usd  \n",
       "0       67933006.000  "
      ]
     },
     "execution_count": 1167,
     "metadata": {},
     "output_type": "execute_result"
    }
   ],
   "source": [
    "#Retaining only maximum investment records\n",
    "D1_2_top = D1_2_top[D1_2_top['raised_amount_usd'] == D1_2_top.raised_amount_usd.max()]\n",
    "D1_2_top = D1_2_top.sort_values('company_permalink',ascending=True)\n",
    "D1_2_top"
   ]
  },
  {
   "cell_type": "code",
   "execution_count": 1168,
   "metadata": {},
   "outputs": [
    {
     "name": "stdout",
     "output_type": "stream",
     "text": [
      "For the second-best sector (in USA) count-wise (as per the top sector based out of investment counts), the company that received the highest investment:\n",
      "\n",
      "Unique ID of Company: /organization/shotspotter\n",
      "Company name: sst inc. (formerly shotspotter)\n"
     ]
    }
   ],
   "source": [
    "print('For the second-best sector (in USA) count-wise (as per the top sector based out of investment counts), \\\n",
    "the company that received the highest investment:\\n')\n",
    "\n",
    "print('Unique ID of Company:',D1_2_top['company_permalink'][0])\n",
    "print('Company name:',D1_2_top['name'][0])"
   ]
  },
  {
   "cell_type": "markdown",
   "metadata": {},
   "source": [
    "<font color='maroon'>**GBR**</font>"
   ]
  },
  {
   "cell_type": "code",
   "execution_count": 1169,
   "metadata": {},
   "outputs": [
    {
     "data": {
      "text/html": [
       "<div>\n",
       "<style scoped>\n",
       "    .dataframe tbody tr th:only-of-type {\n",
       "        vertical-align: middle;\n",
       "    }\n",
       "\n",
       "    .dataframe tbody tr th {\n",
       "        vertical-align: top;\n",
       "    }\n",
       "\n",
       "    .dataframe thead th {\n",
       "        text-align: right;\n",
       "    }\n",
       "</style>\n",
       "<table border=\"1\" class=\"dataframe\">\n",
       "  <thead>\n",
       "    <tr style=\"text-align: right;\">\n",
       "      <th></th>\n",
       "      <th>company_permalink</th>\n",
       "      <th>name</th>\n",
       "      <th>raised_amount_usd</th>\n",
       "    </tr>\n",
       "  </thead>\n",
       "  <tbody>\n",
       "    <tr>\n",
       "      <td>0</td>\n",
       "      <td>/organization/celltick-technologies</td>\n",
       "      <td>celltick technologies</td>\n",
       "      <td>37500000.000</td>\n",
       "    </tr>\n",
       "    <tr>\n",
       "      <td>1</td>\n",
       "      <td>/organization/mythings</td>\n",
       "      <td>mythings</td>\n",
       "      <td>34000000.000</td>\n",
       "    </tr>\n",
       "    <tr>\n",
       "      <td>2</td>\n",
       "      <td>/organization/zopa</td>\n",
       "      <td>zopa</td>\n",
       "      <td>32900000.000</td>\n",
       "    </tr>\n",
       "    <tr>\n",
       "      <td>3</td>\n",
       "      <td>/organization/imagini</td>\n",
       "      <td>visualdna</td>\n",
       "      <td>28550000.000</td>\n",
       "    </tr>\n",
       "    <tr>\n",
       "      <td>4</td>\n",
       "      <td>/organization/marketinvoice</td>\n",
       "      <td>marketinvoice</td>\n",
       "      <td>25553007.000</td>\n",
       "    </tr>\n",
       "  </tbody>\n",
       "</table>\n",
       "</div>"
      ],
      "text/plain": [
       "                     company_permalink                   name  \\\n",
       "0  /organization/celltick-technologies  celltick technologies   \n",
       "1               /organization/mythings               mythings   \n",
       "2                   /organization/zopa                   zopa   \n",
       "3                /organization/imagini              visualdna   \n",
       "4          /organization/marketinvoice          marketinvoice   \n",
       "\n",
       "   raised_amount_usd  \n",
       "0       37500000.000  \n",
       "1       34000000.000  \n",
       "2       32900000.000  \n",
       "3       28550000.000  \n",
       "4       25553007.000  "
      ]
     },
     "execution_count": 1169,
     "metadata": {},
     "output_type": "execute_result"
    }
   ],
   "source": [
    "#For the second-best sector (in GBR) count-wise (as per the top sector based out of investment count)\n",
    "#Determining the company that received the highest investment\n",
    "\n",
    "D2_2_top = D2_2_top.groupby(['company_permalink','name'])['raised_amount_usd'].sum().sort_values(ascending=False)\n",
    "D2_2_top = pd.DataFrame(D2_2_top)\n",
    "D2_2_top.reset_index(inplace=True)\n",
    "D2_2_top.head()"
   ]
  },
  {
   "cell_type": "code",
   "execution_count": 1170,
   "metadata": {},
   "outputs": [
    {
     "data": {
      "text/html": [
       "<div>\n",
       "<style scoped>\n",
       "    .dataframe tbody tr th:only-of-type {\n",
       "        vertical-align: middle;\n",
       "    }\n",
       "\n",
       "    .dataframe tbody tr th {\n",
       "        vertical-align: top;\n",
       "    }\n",
       "\n",
       "    .dataframe thead th {\n",
       "        text-align: right;\n",
       "    }\n",
       "</style>\n",
       "<table border=\"1\" class=\"dataframe\">\n",
       "  <thead>\n",
       "    <tr style=\"text-align: right;\">\n",
       "      <th></th>\n",
       "      <th>company_permalink</th>\n",
       "      <th>name</th>\n",
       "      <th>raised_amount_usd</th>\n",
       "    </tr>\n",
       "  </thead>\n",
       "  <tbody>\n",
       "    <tr>\n",
       "      <td>0</td>\n",
       "      <td>/organization/celltick-technologies</td>\n",
       "      <td>celltick technologies</td>\n",
       "      <td>37500000.000</td>\n",
       "    </tr>\n",
       "  </tbody>\n",
       "</table>\n",
       "</div>"
      ],
      "text/plain": [
       "                     company_permalink                   name  \\\n",
       "0  /organization/celltick-technologies  celltick technologies   \n",
       "\n",
       "   raised_amount_usd  \n",
       "0       37500000.000  "
      ]
     },
     "execution_count": 1170,
     "metadata": {},
     "output_type": "execute_result"
    }
   ],
   "source": [
    "#Retaining only those records\n",
    "D2_2_top = D2_2_top[D2_2_top['raised_amount_usd'] == D2_2_top.raised_amount_usd.max()]\n",
    "D2_2_top = D2_2_top.sort_values('company_permalink',ascending=True)\n",
    "D2_2_top"
   ]
  },
  {
   "cell_type": "code",
   "execution_count": 1171,
   "metadata": {
    "scrolled": true
   },
   "outputs": [
    {
     "name": "stdout",
     "output_type": "stream",
     "text": [
      "For the second-best sector (in GBR) count-wise (as per the top sector based out of investment counts), the company that received the highest investment:\n",
      "\n",
      "Unique ID of Company: /organization/celltick-technologies\n",
      "Company name: celltick technologies\n"
     ]
    }
   ],
   "source": [
    "print('For the second-best sector (in GBR) count-wise (as per the top sector based out of investment counts), \\\n",
    "the company that received the highest investment:\\n')\n",
    "D2_2_top['company_permalink'][0]\n",
    "\n",
    "print('Unique ID of Company:',D2_2_top['company_permalink'][0])\n",
    "print('Company name:',D2_2_top['name'][0])"
   ]
  },
  {
   "cell_type": "markdown",
   "metadata": {},
   "source": [
    "<font color='maroon'>**IND**</font>"
   ]
  },
  {
   "cell_type": "code",
   "execution_count": 1172,
   "metadata": {},
   "outputs": [
    {
     "data": {
      "text/html": [
       "<div>\n",
       "<style scoped>\n",
       "    .dataframe tbody tr th:only-of-type {\n",
       "        vertical-align: middle;\n",
       "    }\n",
       "\n",
       "    .dataframe tbody tr th {\n",
       "        vertical-align: top;\n",
       "    }\n",
       "\n",
       "    .dataframe thead th {\n",
       "        text-align: right;\n",
       "    }\n",
       "</style>\n",
       "<table border=\"1\" class=\"dataframe\">\n",
       "  <thead>\n",
       "    <tr style=\"text-align: right;\">\n",
       "      <th></th>\n",
       "      <th>company_permalink</th>\n",
       "      <th>name</th>\n",
       "      <th>raised_amount_usd</th>\n",
       "    </tr>\n",
       "  </thead>\n",
       "  <tbody>\n",
       "    <tr>\n",
       "      <td>0</td>\n",
       "      <td>/organization/manthan-systems</td>\n",
       "      <td>manthan systems</td>\n",
       "      <td>50700000.000</td>\n",
       "    </tr>\n",
       "    <tr>\n",
       "      <td>1</td>\n",
       "      <td>/organization/komli-media</td>\n",
       "      <td>komli media</td>\n",
       "      <td>28000000.000</td>\n",
       "    </tr>\n",
       "    <tr>\n",
       "      <td>2</td>\n",
       "      <td>/organization/shopclues-com</td>\n",
       "      <td>shopclues.com</td>\n",
       "      <td>25000000.000</td>\n",
       "    </tr>\n",
       "    <tr>\n",
       "      <td>3</td>\n",
       "      <td>/organization/intarvo</td>\n",
       "      <td>intarvo</td>\n",
       "      <td>21900000.000</td>\n",
       "    </tr>\n",
       "    <tr>\n",
       "      <td>4</td>\n",
       "      <td>/organization/grameen-financial-services</td>\n",
       "      <td>grameen financial services</td>\n",
       "      <td>21556050.000</td>\n",
       "    </tr>\n",
       "  </tbody>\n",
       "</table>\n",
       "</div>"
      ],
      "text/plain": [
       "                          company_permalink                        name  \\\n",
       "0             /organization/manthan-systems             manthan systems   \n",
       "1                 /organization/komli-media                 komli media   \n",
       "2               /organization/shopclues-com               shopclues.com   \n",
       "3                     /organization/intarvo                     intarvo   \n",
       "4  /organization/grameen-financial-services  grameen financial services   \n",
       "\n",
       "   raised_amount_usd  \n",
       "0       50700000.000  \n",
       "1       28000000.000  \n",
       "2       25000000.000  \n",
       "3       21900000.000  \n",
       "4       21556050.000  "
      ]
     },
     "execution_count": 1172,
     "metadata": {},
     "output_type": "execute_result"
    }
   ],
   "source": [
    "#For the second-best (in IND) sector count-wise (as per the top sector based out of investment count)\n",
    "#Determining the company that received the highest investment\n",
    "\n",
    "D3_2_top = D3_2_top.groupby(['company_permalink','name'])['raised_amount_usd'].sum().sort_values(ascending=False)\n",
    "D3_2_top = pd.DataFrame(D3_2_top)\n",
    "D3_2_top.reset_index(inplace=True)\n",
    "D3_2_top.head()"
   ]
  },
  {
   "cell_type": "code",
   "execution_count": 1173,
   "metadata": {},
   "outputs": [
    {
     "data": {
      "text/html": [
       "<div>\n",
       "<style scoped>\n",
       "    .dataframe tbody tr th:only-of-type {\n",
       "        vertical-align: middle;\n",
       "    }\n",
       "\n",
       "    .dataframe tbody tr th {\n",
       "        vertical-align: top;\n",
       "    }\n",
       "\n",
       "    .dataframe thead th {\n",
       "        text-align: right;\n",
       "    }\n",
       "</style>\n",
       "<table border=\"1\" class=\"dataframe\">\n",
       "  <thead>\n",
       "    <tr style=\"text-align: right;\">\n",
       "      <th></th>\n",
       "      <th>company_permalink</th>\n",
       "      <th>name</th>\n",
       "      <th>raised_amount_usd</th>\n",
       "    </tr>\n",
       "  </thead>\n",
       "  <tbody>\n",
       "    <tr>\n",
       "      <td>0</td>\n",
       "      <td>/organization/manthan-systems</td>\n",
       "      <td>manthan systems</td>\n",
       "      <td>50700000.000</td>\n",
       "    </tr>\n",
       "  </tbody>\n",
       "</table>\n",
       "</div>"
      ],
      "text/plain": [
       "               company_permalink             name  raised_amount_usd\n",
       "0  /organization/manthan-systems  manthan systems       50700000.000"
      ]
     },
     "execution_count": 1173,
     "metadata": {},
     "output_type": "execute_result"
    }
   ],
   "source": [
    "#Retaining only those records\n",
    "\n",
    "D3_2_top = D3_2_top[D3_2_top['raised_amount_usd'] == D3_2_top.raised_amount_usd.max()]\n",
    "D3_2_top = D3_2_top.sort_values('company_permalink',ascending=True)\n",
    "D3_2_top"
   ]
  },
  {
   "cell_type": "code",
   "execution_count": 1174,
   "metadata": {},
   "outputs": [
    {
     "name": "stdout",
     "output_type": "stream",
     "text": [
      "For the second-best (in IND) sector count-wise (as per the top sector based out of investment counts), the company that received the highest investment:\n",
      "\n",
      "Unique ID of Company: /organization/manthan-systems\n",
      "Company name: manthan systems\n"
     ]
    }
   ],
   "source": [
    "print('For the second-best (in IND) sector count-wise (as per the top sector based out of investment counts), \\\n",
    "the company that received the highest investment:\\n')\n",
    "\n",
    "print('Unique ID of Company:',D3_2_top['company_permalink'][0])\n",
    "print('Company name:',D3_2_top['name'][0])"
   ]
  },
  {
   "cell_type": "markdown",
   "metadata": {},
   "source": [
    "# <font color='RoyalBlue4'> Checkpoint 6: Plots</font>"
   ]
  },
  {
   "cell_type": "markdown",
   "metadata": {},
   "source": [
    "**<font color='darkslateblue'>(1) Plot 1:<br>\n",
    "(i) A plot showing the fraction of total investments (globally) in angel, venture, seed, and private equity, and <br>(ii) The average amount of investment in each funding type.</font>**"
   ]
  },
  {
   "cell_type": "code",
   "execution_count": 1175,
   "metadata": {
    "scrolled": false
   },
   "outputs": [
    {
     "data": {
      "text/html": [
       "<div>\n",
       "<style scoped>\n",
       "    .dataframe tbody tr th:only-of-type {\n",
       "        vertical-align: middle;\n",
       "    }\n",
       "\n",
       "    .dataframe tbody tr th {\n",
       "        vertical-align: top;\n",
       "    }\n",
       "\n",
       "    .dataframe thead th {\n",
       "        text-align: right;\n",
       "    }\n",
       "</style>\n",
       "<table border=\"1\" class=\"dataframe\">\n",
       "  <thead>\n",
       "    <tr style=\"text-align: right;\">\n",
       "      <th></th>\n",
       "      <th>funding_round_type</th>\n",
       "      <th>raised_amount_usd</th>\n",
       "    </tr>\n",
       "  </thead>\n",
       "  <tbody>\n",
       "    <tr>\n",
       "      <td>0</td>\n",
       "      <td>venture</td>\n",
       "      <td>10000000.000</td>\n",
       "    </tr>\n",
       "    <tr>\n",
       "      <td>2</td>\n",
       "      <td>seed</td>\n",
       "      <td>700000.000</td>\n",
       "    </tr>\n",
       "    <tr>\n",
       "      <td>4</td>\n",
       "      <td>venture</td>\n",
       "      <td>2000000.000</td>\n",
       "    </tr>\n",
       "    <tr>\n",
       "      <td>7</td>\n",
       "      <td>seed</td>\n",
       "      <td>43360.000</td>\n",
       "    </tr>\n",
       "    <tr>\n",
       "      <td>8</td>\n",
       "      <td>venture</td>\n",
       "      <td>719491.000</td>\n",
       "    </tr>\n",
       "  </tbody>\n",
       "</table>\n",
       "</div>"
      ],
      "text/plain": [
       "  funding_round_type  raised_amount_usd\n",
       "0            venture       10000000.000\n",
       "2               seed         700000.000\n",
       "4            venture        2000000.000\n",
       "7               seed          43360.000\n",
       "8            venture         719491.000"
      ]
     },
     "execution_count": 1175,
     "metadata": {},
     "output_type": "execute_result"
    }
   ],
   "source": [
    "#For a plot showing the fraction of total investments (globally) in angel, venture, seed, and private equity\n",
    "#Bringing in: Dataframe 'investments_four_types' contains the total investments in angel, venture, seed,\n",
    "#and private equity (globally)\n",
    "\n",
    "investments_four_types.head()"
   ]
  },
  {
   "cell_type": "code",
   "execution_count": 1176,
   "metadata": {},
   "outputs": [
    {
     "data": {
      "text/html": [
       "<div>\n",
       "<style scoped>\n",
       "    .dataframe tbody tr th:only-of-type {\n",
       "        vertical-align: middle;\n",
       "    }\n",
       "\n",
       "    .dataframe tbody tr th {\n",
       "        vertical-align: top;\n",
       "    }\n",
       "\n",
       "    .dataframe thead th {\n",
       "        text-align: right;\n",
       "    }\n",
       "</style>\n",
       "<table border=\"1\" class=\"dataframe\">\n",
       "  <thead>\n",
       "    <tr style=\"text-align: right;\">\n",
       "      <th></th>\n",
       "      <th>raised_amount_usd</th>\n",
       "    </tr>\n",
       "    <tr>\n",
       "      <th>funding_round_type</th>\n",
       "      <th></th>\n",
       "    </tr>\n",
       "  </thead>\n",
       "  <tbody>\n",
       "    <tr>\n",
       "      <td>venture</td>\n",
       "      <td>560523362596.000</td>\n",
       "    </tr>\n",
       "    <tr>\n",
       "      <td>private_equity</td>\n",
       "      <td>134568045021.000</td>\n",
       "    </tr>\n",
       "    <tr>\n",
       "      <td>seed</td>\n",
       "      <td>15774707732.000</td>\n",
       "    </tr>\n",
       "    <tr>\n",
       "      <td>angel</td>\n",
       "      <td>4274925121.000</td>\n",
       "    </tr>\n",
       "  </tbody>\n",
       "</table>\n",
       "</div>"
      ],
      "text/plain": [
       "                    raised_amount_usd\n",
       "funding_round_type                   \n",
       "venture              560523362596.000\n",
       "private_equity       134568045021.000\n",
       "seed                  15774707732.000\n",
       "angel                  4274925121.000"
      ]
     },
     "execution_count": 1176,
     "metadata": {},
     "output_type": "execute_result"
    }
   ],
   "source": [
    "#Using groupby to get the sum total of raised_amount_usd (globally) by investment type\n",
    "#Dataframe 'tia_typewise': Total investment amounts typewise in usd\n",
    "\n",
    "tia_typewise = investments_four_types.groupby('funding_round_type')['raised_amount_usd'].sum().sort_values(ascending=False)\n",
    "tia_typewise = pd.DataFrame(tia_typewise)\n",
    "tia_typewise"
   ]
  },
  {
   "cell_type": "code",
   "execution_count": 1177,
   "metadata": {
    "scrolled": true
   },
   "outputs": [
    {
     "data": {
      "text/html": [
       "<div>\n",
       "<style scoped>\n",
       "    .dataframe tbody tr th:only-of-type {\n",
       "        vertical-align: middle;\n",
       "    }\n",
       "\n",
       "    .dataframe tbody tr th {\n",
       "        vertical-align: top;\n",
       "    }\n",
       "\n",
       "    .dataframe thead th {\n",
       "        text-align: right;\n",
       "    }\n",
       "</style>\n",
       "<table border=\"1\" class=\"dataframe\">\n",
       "  <thead>\n",
       "    <tr style=\"text-align: right;\">\n",
       "      <th></th>\n",
       "      <th>funding_round_type</th>\n",
       "      <th>raised_amount_usd</th>\n",
       "    </tr>\n",
       "  </thead>\n",
       "  <tbody>\n",
       "    <tr>\n",
       "      <td>0</td>\n",
       "      <td>private_equity</td>\n",
       "      <td>73938486.275</td>\n",
       "    </tr>\n",
       "    <tr>\n",
       "      <td>1</td>\n",
       "      <td>venture</td>\n",
       "      <td>11724222.690</td>\n",
       "    </tr>\n",
       "    <tr>\n",
       "      <td>2</td>\n",
       "      <td>angel</td>\n",
       "      <td>971573.891</td>\n",
       "    </tr>\n",
       "    <tr>\n",
       "      <td>3</td>\n",
       "      <td>seed</td>\n",
       "      <td>747793.682</td>\n",
       "    </tr>\n",
       "  </tbody>\n",
       "</table>\n",
       "</div>"
      ],
      "text/plain": [
       "  funding_round_type  raised_amount_usd\n",
       "0     private_equity       73938486.275\n",
       "1            venture       11724222.690\n",
       "2              angel         971573.891\n",
       "3               seed         747793.682"
      ]
     },
     "execution_count": 1177,
     "metadata": {},
     "output_type": "execute_result"
    }
   ],
   "source": [
    "#Bringing in: Dataframe 'investments_avg_typewise' contains the average value of total investments for each of the \n",
    "#four types\n",
    "\n",
    "#Reset_index\n",
    "investments_avg_typewise.reset_index(inplace=True)\n",
    "investments_avg_typewise"
   ]
  },
  {
   "cell_type": "code",
   "execution_count": 1178,
   "metadata": {},
   "outputs": [
    {
     "data": {
      "image/png": "[encoded data removed]",
      "text/plain": [
       "<Figure size 2400x1400 with 2 Axes>"
      ]
     },
     "metadata": {},
     "output_type": "display_data"
    }
   ],
   "source": [
    "import matplotlib.pyplot as plt\n",
    "import seaborn as sns\n",
    "\n",
    "plt.figure(num= 2, figsize=(12,7), dpi=200)\n",
    "\n",
    "plt.subplot(121)\n",
    "funding_labels = ['Venture','Private Equity','Seed','Angel'] \n",
    "defined_colors = ['Chocolate', 'Firebrick','Green','RoyalBlue']\n",
    "\n",
    "plt.pie(tia_typewise, labels = funding_labels, autopct='%1.1f%%', colors= defined_colors)\n",
    "plt.title('Fraction of Total investments(globally)', fontsize=13, fontweight='bold')\n",
    "plt.axis('equal')\n",
    "plt.legend()\n",
    "\n",
    "plt.subplot(122)\n",
    "#Creating a copy of investments_four_types dataframe\n",
    "plot_avg_investments = investments_four_types.copy()\n",
    "#Using Seaborn barplot which by default returns mean values on the plot\n",
    "ax = sns.barplot(x= plot_avg_investments['funding_round_type'], y= plot_avg_investments['raised_amount_usd']/1000000, \\\n",
    "            order=[\"angel\",\"venture\",\"seed\",\"private_equity\"])\n",
    "\n",
    "#Assigning labels and titles\n",
    "ax.set_xticklabels(['Angel','Venture','Seed','Private Equity'])\n",
    "plt.title(\"Average amount of investment per funding type (in millions usd)\", fontsize=13, fontweight='bold')\n",
    "plt.xlabel('Investment Funding Type', fontsize=12, fontstyle='italic')\n",
    "plt.ylabel('Average amount raised in investments (in millions usd)',fontsize=12, fontstyle='italic')\n",
    "\n",
    "#Lines for determining the most-suitable investment type\n",
    "plt.axhline(linewidth='2', linestyle='dashed', label= 'Minimum Limit: 5 million USD', color='g', y=5)\n",
    "plt.axhline(linewidth='2', linestyle='dashed', label= 'Maximum Limit: 15 million USD', color='r', y=15)\n",
    "\n",
    "#To avoid overlap of entities in subplots\n",
    "plt.tight_layout()\n",
    "plt.legend()\n",
    "plt.show()\n"
   ]
  },
  {
   "cell_type": "markdown",
   "metadata": {},
   "source": [
    "**<font color='darkslateblue'>(2) Plot 2:<br>Top 9 countries vs the total amount of investments of funding type FT (venture)</font>**"
   ]
  },
  {
   "cell_type": "code",
   "execution_count": 1179,
   "metadata": {},
   "outputs": [
    {
     "data": {
      "text/html": [
       "<div>\n",
       "<style scoped>\n",
       "    .dataframe tbody tr th:only-of-type {\n",
       "        vertical-align: middle;\n",
       "    }\n",
       "\n",
       "    .dataframe tbody tr th {\n",
       "        vertical-align: top;\n",
       "    }\n",
       "\n",
       "    .dataframe thead th {\n",
       "        text-align: right;\n",
       "    }\n",
       "</style>\n",
       "<table border=\"1\" class=\"dataframe\">\n",
       "  <thead>\n",
       "    <tr style=\"text-align: right;\">\n",
       "      <th></th>\n",
       "      <th>country_code</th>\n",
       "      <th>raised_amount_usd</th>\n",
       "      <th>english_official_lang_flag</th>\n",
       "    </tr>\n",
       "  </thead>\n",
       "  <tbody>\n",
       "    <tr>\n",
       "      <td>0</td>\n",
       "      <td>USA</td>\n",
       "      <td>420068029342.000</td>\n",
       "      <td>Yes</td>\n",
       "    </tr>\n",
       "    <tr>\n",
       "      <td>1</td>\n",
       "      <td>CHN</td>\n",
       "      <td>39338918773.000</td>\n",
       "      <td>No</td>\n",
       "    </tr>\n",
       "    <tr>\n",
       "      <td>2</td>\n",
       "      <td>GBR</td>\n",
       "      <td>20072813004.000</td>\n",
       "      <td>Yes</td>\n",
       "    </tr>\n",
       "    <tr>\n",
       "      <td>3</td>\n",
       "      <td>IND</td>\n",
       "      <td>14261508718.000</td>\n",
       "      <td>Yes</td>\n",
       "    </tr>\n",
       "    <tr>\n",
       "      <td>4</td>\n",
       "      <td>CAN</td>\n",
       "      <td>9482217668.000</td>\n",
       "      <td>Yes</td>\n",
       "    </tr>\n",
       "    <tr>\n",
       "      <td>5</td>\n",
       "      <td>FRA</td>\n",
       "      <td>7226851352.000</td>\n",
       "      <td>No</td>\n",
       "    </tr>\n",
       "    <tr>\n",
       "      <td>6</td>\n",
       "      <td>ISR</td>\n",
       "      <td>6854350477.000</td>\n",
       "      <td>No</td>\n",
       "    </tr>\n",
       "    <tr>\n",
       "      <td>7</td>\n",
       "      <td>DEU</td>\n",
       "      <td>6306921981.000</td>\n",
       "      <td>No</td>\n",
       "    </tr>\n",
       "    <tr>\n",
       "      <td>8</td>\n",
       "      <td>JPN</td>\n",
       "      <td>3167647127.000</td>\n",
       "      <td>No</td>\n",
       "    </tr>\n",
       "  </tbody>\n",
       "</table>\n",
       "</div>"
      ],
      "text/plain": [
       "  country_code  raised_amount_usd english_official_lang_flag\n",
       "0          USA   420068029342.000                        Yes\n",
       "1          CHN    39338918773.000                         No\n",
       "2          GBR    20072813004.000                        Yes\n",
       "3          IND    14261508718.000                        Yes\n",
       "4          CAN     9482217668.000                        Yes\n",
       "5          FRA     7226851352.000                         No\n",
       "6          ISR     6854350477.000                         No\n",
       "7          DEU     6306921981.000                         No\n",
       "8          JPN     3167647127.000                         No"
      ]
     },
     "execution_count": 1179,
     "metadata": {},
     "output_type": "execute_result"
    }
   ],
   "source": [
    "#top9 DataFrame\n",
    "top9"
   ]
  },
  {
   "cell_type": "code",
   "execution_count": 1180,
   "metadata": {},
   "outputs": [
    {
     "data": {
      "image/png": "[encoded data removed]",
      "text/plain": [
       "<Figure size 2400x1200 with 1 Axes>"
      ]
     },
     "metadata": {},
     "output_type": "display_data"
    }
   ],
   "source": [
    "#set grid style\n",
    "sns.set_style('whitegrid')\n",
    "\n",
    "plt.figure(num=3, figsize=(12,6), dpi=200, edgecolor='k')\n",
    "\n",
    "#barplot using Seaborn\n",
    "sns.barplot(x = top9[\"country_code\"], y = top9[\"raised_amount_usd\"]/1000000000, \\\n",
    "            hue = top9[\"english_official_lang_flag\"].rename('English Speaking Country'))\n",
    "plt.ylabel('Raised amount for venture type_FT (in billions usd)', fontstyle= 'italic')\n",
    "plt.xlabel('Country codes', fontstyle= 'italic')\n",
    "plt.title(\"Top 9 countries vs Total amount of investments of 'Venture' type funding\", \\\n",
    "          fontsize=14, fontweight='bold')\n",
    "plt.tight_layout()\n",
    "plt.show()"
   ]
  },
  {
   "cell_type": "markdown",
   "metadata": {},
   "source": [
    "**<font color='darkslateblue'>(3) Plot 3:<br>Number of investments in the top 3 main sectors of top 3 countries for chosen investment type (venture)</font>**"
   ]
  },
  {
   "cell_type": "code",
   "execution_count": 1181,
   "metadata": {},
   "outputs": [],
   "source": [
    "#Total number of investment counts dataframes were 'tic_usa','tic_gbr' and 'tic_ind' \n",
    "#For all the 3 English speaking countries\n",
    "#For chosen investment type FT (venture)\n",
    "\n",
    "#Reset the index of 'tic_usa','tic_gbr' and 'tic_ind'\n",
    "tic_usa.reset_index(inplace=True)\n",
    "tic_gbr.reset_index(inplace=True)\n",
    "tic_ind.reset_index(inplace=True)"
   ]
  },
  {
   "cell_type": "code",
   "execution_count": 1182,
   "metadata": {},
   "outputs": [],
   "source": [
    "#Renaming all the total investment counts columns of 3 countries to a similar name\n",
    "tic_usa.rename(columns={'Total_Investment_Count_USA':'total_investment_count'}, inplace=True)  #For USA\n",
    "tic_gbr.rename(columns={'Total_Investment_Count_GBR':'total_investment_count'}, inplace=True)  #For GBR\n",
    "tic_ind.rename(columns={'Total_Investment_Count_IND':'total_investment_count'}, inplace=True)  #For IND"
   ]
  },
  {
   "cell_type": "code",
   "execution_count": 1183,
   "metadata": {
    "scrolled": true
   },
   "outputs": [
    {
     "data": {
      "text/html": [
       "<div>\n",
       "<style scoped>\n",
       "    .dataframe tbody tr th:only-of-type {\n",
       "        vertical-align: middle;\n",
       "    }\n",
       "\n",
       "    .dataframe tbody tr th {\n",
       "        vertical-align: top;\n",
       "    }\n",
       "\n",
       "    .dataframe thead th {\n",
       "        text-align: right;\n",
       "    }\n",
       "</style>\n",
       "<table border=\"1\" class=\"dataframe\">\n",
       "  <thead>\n",
       "    <tr style=\"text-align: right;\">\n",
       "      <th></th>\n",
       "      <th>main_sector</th>\n",
       "      <th>total_investment_count</th>\n",
       "      <th>country</th>\n",
       "    </tr>\n",
       "  </thead>\n",
       "  <tbody>\n",
       "    <tr>\n",
       "      <td>0</td>\n",
       "      <td>others</td>\n",
       "      <td>2950</td>\n",
       "      <td>USA</td>\n",
       "    </tr>\n",
       "    <tr>\n",
       "      <td>1</td>\n",
       "      <td>social, finance, analytics, advertising</td>\n",
       "      <td>2714</td>\n",
       "      <td>USA</td>\n",
       "    </tr>\n",
       "    <tr>\n",
       "      <td>2</td>\n",
       "      <td>cleantech / semiconductors</td>\n",
       "      <td>2350</td>\n",
       "      <td>USA</td>\n",
       "    </tr>\n",
       "    <tr>\n",
       "      <td>3</td>\n",
       "      <td>others</td>\n",
       "      <td>147</td>\n",
       "      <td>GBR</td>\n",
       "    </tr>\n",
       "    <tr>\n",
       "      <td>4</td>\n",
       "      <td>social, finance, analytics, advertising</td>\n",
       "      <td>133</td>\n",
       "      <td>GBR</td>\n",
       "    </tr>\n",
       "    <tr>\n",
       "      <td>5</td>\n",
       "      <td>cleantech / semiconductors</td>\n",
       "      <td>130</td>\n",
       "      <td>GBR</td>\n",
       "    </tr>\n",
       "    <tr>\n",
       "      <td>6</td>\n",
       "      <td>others</td>\n",
       "      <td>110</td>\n",
       "      <td>IND</td>\n",
       "    </tr>\n",
       "    <tr>\n",
       "      <td>7</td>\n",
       "      <td>social, finance, analytics, advertising</td>\n",
       "      <td>60</td>\n",
       "      <td>IND</td>\n",
       "    </tr>\n",
       "    <tr>\n",
       "      <td>8</td>\n",
       "      <td>news, search and messaging</td>\n",
       "      <td>52</td>\n",
       "      <td>IND</td>\n",
       "    </tr>\n",
       "  </tbody>\n",
       "</table>\n",
       "</div>"
      ],
      "text/plain": [
       "                               main_sector  total_investment_count country\n",
       "0                                   others                    2950     USA\n",
       "1  social, finance, analytics, advertising                    2714     USA\n",
       "2               cleantech / semiconductors                    2350     USA\n",
       "3                                   others                     147     GBR\n",
       "4  social, finance, analytics, advertising                     133     GBR\n",
       "5               cleantech / semiconductors                     130     GBR\n",
       "6                                   others                     110     IND\n",
       "7  social, finance, analytics, advertising                      60     IND\n",
       "8               news, search and messaging                      52     IND"
      ]
     },
     "execution_count": 1183,
     "metadata": {},
     "output_type": "execute_result"
    }
   ],
   "source": [
    "#'tic_usa','tic_gbr' and 'tic_ind' sort in descending and retain only 1st 3 sectors:\n",
    "\n",
    "tic_usa = tic_usa.sort_values(by= 'total_investment_count', ascending = False).head(3)\n",
    "#Adding country column to tic_usa\n",
    "tic_usa['country'] = 'USA'\n",
    "\n",
    "tic_gbr = tic_gbr.sort_values(by= 'total_investment_count', ascending = False).head(3)\n",
    "#Adding country column to tic_gbr\n",
    "tic_gbr['country'] = 'GBR'\n",
    "\n",
    "tic_ind = tic_ind.sort_values(by= 'total_investment_count', ascending = False).head(3)\n",
    "#Adding country column to tic_ind\n",
    "tic_ind['country'] = 'IND'\n",
    "\n",
    "#Merging the dataframes 'tic_usa','tic_gbr' and 'tic_ind' for total investment counts in 3 countries\n",
    "#Resultant dataframe is 'tic_all_3_countries'\n",
    "tic_all_3_countries = pd.merge(tic_usa, tic_gbr, how='outer')\n",
    "tic_all_3_countries = pd.merge(tic_all_3_countries, tic_ind, how = 'outer')\n",
    "tic_all_3_countries"
   ]
  },
  {
   "cell_type": "code",
   "execution_count": 1184,
   "metadata": {
    "scrolled": true
   },
   "outputs": [
    {
     "data": {
      "image/png": "[encoded data removed]",
      "text/plain": [
       "<Figure size 2400x1600 with 1 Axes>"
      ]
     },
     "metadata": {},
     "output_type": "display_data"
    }
   ],
   "source": [
    "#set grid style\n",
    "sns.set_style('whitegrid')\n",
    "\n",
    "#set figure size and attributes\n",
    "plt.figure(num= 4, figsize=(12,8), dpi=200, facecolor = 'w' ,edgecolor = 'k')\n",
    "\n",
    "#boxplot using Seaborn\n",
    "sns.barplot(x= tic_all_3_countries['country'], y= tic_all_3_countries['total_investment_count'],\\\n",
    "            hue= tic_all_3_countries['main_sector'].rename('Main Sector'))\n",
    "plt.ylabel('Total number of investments (count)', fontstyle='italic', fontsize= 12)\n",
    "plt.xlabel('Country', fontstyle='italic', fontsize= 12)\n",
    "plt.title(\"Number of Investments in Top 3 main sectors of Top 3 countries for 'Venture' type funding\"\\\n",
    "          , fontsize=14, fontweight='bold')\n",
    "plt.tight_layout()\n",
    "plt.show()"
   ]
  },
  {
   "cell_type": "markdown",
   "metadata": {},
   "source": [
    "# <font color='green'>Result of Data Analysis:</font>"
   ]
  },
  {
   "cell_type": "markdown",
   "metadata": {},
   "source": [
    "# Based on the data analysis done, we conclude that *Spark Funds* should <br>\n",
    "(i) Invest in `Venture` type investment. <br>\n",
    "(ii) The best top English speaking countries to invest in, are `USA (United States)`, `GBR (Great Britain)` and `IND (India)`.<br>\n",
    "(iii) The best top two sectors within these countries for the venture type investment are `'Others'` and `'Social, Finance, Analytics, Advertising'`.<br>\n"
   ]
  }
 ],
 "metadata": {
  "kernelspec": {
   "display_name": "Python 3 (ipykernel)",
   "language": "python",
   "name": "python3"
  },
  "language_info": {
   "codemirror_mode": {
    "name": "ipython",
    "version": 3
   },
   "file_extension": ".py",
   "mimetype": "text/x-python",
   "name": "python",
   "nbconvert_exporter": "python",
   "pygments_lexer": "ipython3",
   "version": "3.11.3"
  }
 },
 "nbformat": 4,
 "nbformat_minor": 2
}
